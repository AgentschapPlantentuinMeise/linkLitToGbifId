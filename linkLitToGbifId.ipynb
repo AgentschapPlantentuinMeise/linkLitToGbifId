{
 "cells": [
  {
   "cell_type": "code",
   "execution_count": 4,
   "id": "13744c2e",
   "metadata": {},
   "outputs": [],
   "source": [
    "import requests\n",
    "import json\n",
    "from tqdm import tqdm\n",
    "import os  # Import os module for directory management\n",
    "import zipfile\n",
    "import csv\n",
    "import sys"
   ]
  },
  {
   "cell_type": "code",
   "execution_count": 5,
   "id": "53fb823b",
   "metadata": {},
   "outputs": [],
   "source": [
    "# Define the API endpoint and initial parameters\n",
    "api_url = \"https://api.gbif.org/v1/literature/search\"\n",
    "params = {\n",
    "    \"contentType\": \"literature\",\n",
    "    \"literatureType\": [\"journal\", \"working_paper\"],\n",
    "    \"relevance\": \"GBIF_USED\",\n",
    "    \"peerReview\": \"true\",\n",
    "    \"limit\": 10,\n",
    "    \"offset\": 0  # Start from the beginning\n",
    "}"
   ]
  },
  {
   "cell_type": "code",
   "execution_count": 6,
   "id": "5f9264f2",
   "metadata": {},
   "outputs": [],
   "source": [
    "# Function to get data from the API\n",
    "def fetch_data(params):\n",
    "    response = requests.get(api_url, params=params)\n",
    "    if response.status_code == 200:\n",
    "        return response.json()\n",
    "    else:\n",
    "        print(f\"Failed to fetch data: {response.status_code}\")\n",
    "        return None"
   ]
  },
  {
   "cell_type": "code",
   "execution_count": 7,
   "id": "0f60f60a",
   "metadata": {},
   "outputs": [],
   "source": [
    "# Function to extract all entries and filter those with content in gbifDownloadKey\n",
    "def extract_filtered_entries():\n",
    "    all_entries = []\n",
    "    params['offset'] = 0  # Ensure offset starts at 0\n",
    "    \n",
    "    # Fetch initial data to determine total number of results\n",
    "    initial_data = fetch_data(params)\n",
    "    if not initial_data or 'count' not in initial_data:\n",
    "        print(\"Failed to fetch initial data or count not available.\")\n",
    "        return []\n",
    "    \n",
    "    total_results = initial_data['count']\n",
    "    print(f\"Total results to fetch: {total_results}\")\n",
    "    \n",
    "    with tqdm(total=total_results, desc=\"Fetching entries\") as pbar:\n",
    "        while True:\n",
    "            data = fetch_data(params)\n",
    "            if data and 'results' in data:\n",
    "                # Filter entries that have content in gbifDownloadKey\n",
    "                filtered_entries = [entry for entry in data['results'] if entry.get('gbifDownloadKey')]\n",
    "                all_entries.extend(filtered_entries)\n",
    "                pbar.update(len(data['results']))\n",
    "                if len(data['results']) < params['limit']:\n",
    "                    # No more data to fetch\n",
    "                    break\n",
    "                else:\n",
    "                    # Move to the next page\n",
    "                    params['offset'] += params['limit']\n",
    "            else:\n",
    "                break\n",
    "            \n",
    "    return all_entries"
   ]
  },
  {
   "cell_type": "code",
   "execution_count": 8,
   "id": "4206f485",
   "metadata": {},
   "outputs": [
    {
     "name": "stdout",
     "output_type": "stream",
     "text": [
      "Total results to fetch: 10585\n"
     ]
    },
    {
     "name": "stderr",
     "output_type": "stream",
     "text": [
      "Fetching entries: 100%|██████████| 10585/10585 [04:38<00:00, 38.05it/s]\n"
     ]
    },
    {
     "name": "stdout",
     "output_type": "stream",
     "text": [
      "Total filtered entries fetched: 3572\n"
     ]
    }
   ],
   "source": [
    "# Extract and filter entries\n",
    "filtered_entries = extract_filtered_entries()\n",
    "\n",
    "# Optionally, save the data to a file\n",
    "with open('filtered_gbif_entries.json', 'w') as f:\n",
    "    json.dump(filtered_entries, f, indent=2)\n",
    "\n",
    "# Print the number of filtered entries fetched\n",
    "print(f\"Total filtered entries fetched: {len(filtered_entries)}\")"
   ]
  },
  {
   "cell_type": "markdown",
   "id": "6f7022f6",
   "metadata": {
    "scrolled": false
   },
   "source": [
    "### Summary:\n",
    "- **Increase Field Size Limit**: The script sets the field size limit for CSV processing to 1,000,000 characters to handle large fields.\n",
    "- **Load and Save Processed DOIs**: Functions to load and save DOIs to track which entries have been processed.\n",
    "- **Download and Process Data**: The main function to download, unzip, process, and filter data, ensuring only preserved specimens are kept, and appending results to an output file on the D drive.\n",
    "- **Directory Checks**: Ensures necessary directories exist before writing files."
   ]
  },
  {
   "cell_type": "code",
   "execution_count": 34,
   "id": "a3066394",
   "metadata": {
    "scrolled": false
   },
   "outputs": [],
   "source": [
    "# Increase the CSV field size limit to a large value\n",
    "csv.field_size_limit(10**6)\n",
    "\n",
    "# Function to load processed DOIs from skip file\n",
    "def load_processed_dois(skip_file):\n",
    "    print(f\"Loading processed DOIs from {skip_file}\")\n",
    "    if os.path.exists(skip_file):\n",
    "        with open(skip_file, 'r', encoding='utf-8') as file:\n",
    "            return set(line.strip() for line in file)\n",
    "    return set()\n",
    "\n",
    "# Function to save a DOI to the skip file\n",
    "def save_processed_doi(skip_file, doi):\n",
    "    print(f\"Saving DOI {doi} to {skip_file}\")\n",
    "    with open(skip_file, 'a', encoding='utf-8') as file:\n",
    "        file.write(doi + '\\n')\n",
    "\n",
    "# Function to load downloaded keys from a file\n",
    "def load_downloaded_keys(downloaded_keys_file):\n",
    "    print(f\"Loading downloaded keys from {downloaded_keys_file}\")\n",
    "    if os.path.exists(downloaded_keys_file):\n",
    "        with open(downloaded_keys_file, 'r', encoding='utf-8') as file:\n",
    "            return set(line.strip() for line in file)\n",
    "    return set()\n",
    "\n",
    "# Function to save a downloaded key to a file\n",
    "def save_downloaded_key(downloaded_keys_file, key):\n",
    "    print(f\"Saving downloaded key {key} to {downloaded_keys_file}\")\n",
    "    with open(downloaded_keys_file, 'a', encoding='utf-8') as file:\n",
    "        file.write(key + '\\n')\n",
    "\n",
    "# Function to download, unzip, process data using gbifDownloadKey, and delete zip files and extracted contents\n",
    "def download_and_process_gbif_data(filtered_entries, skip_file, downloaded_keys_file):\n",
    "    base_url = \"https://api.gbif.org/v1/occurrence/download/request/\"\n",
    "    download_dir = \"D:/gbif_downloads\"  # Change to D drive\n",
    "    error_log = \"D:/gbif_errors/error_log.txt\"  # Change to D drive and use a subdirectory\n",
    "    output_file = \"D:/gbif_outputs/output_data.csv\"  # Change to D drive and use a subdirectory\n",
    "    \n",
    "    # Ensure the directories exist\n",
    "    if not os.path.exists(download_dir):\n",
    "        os.makedirs(download_dir)\n",
    "    if not os.path.exists(os.path.dirname(error_log)):\n",
    "        os.makedirs(os.path.dirname(error_log))\n",
    "    if not os.path.exists(os.path.dirname(output_file)):\n",
    "        os.makedirs(os.path.dirname(output_file))\n",
    "    if not os.path.exists(os.path.dirname(skip_file)):\n",
    "        os.makedirs(os.path.dirname(skip_file))\n",
    "    if not os.path.exists(os.path.dirname(downloaded_keys_file)):\n",
    "        os.makedirs(os.path.dirname(downloaded_keys_file))\n",
    "    \n",
    "    # Load processed DOIs\n",
    "    processed_dois = load_processed_dois(skip_file)\n",
    "    print(f\"Loaded {len(processed_dois)} processed DOIs\")\n",
    "\n",
    "    # Load downloaded keys\n",
    "    downloaded_keys = load_downloaded_keys(downloaded_keys_file)\n",
    "    print(f\"Loaded {len(downloaded_keys)} downloaded keys\")\n",
    "    \n",
    "    # Determine if we need to write the header\n",
    "    write_header = not os.path.exists(output_file)\n",
    "    \n",
    "    # Open the output CSV file in append mode\n",
    "    with open(output_file, 'a', newline='', encoding='utf-8') as csvfile:\n",
    "        fieldnames = ['gbifID', 'year', 'countryCode', 'gbifDownloadKey', 'doi']\n",
    "        writer = csv.DictWriter(csvfile, fieldnames=fieldnames)\n",
    "        \n",
    "        # Write the header if the file did not exist before\n",
    "        if write_header:\n",
    "            writer.writeheader()\n",
    "            print(f\"Wrote header to {output_file}\")\n",
    "        \n",
    "        with open(error_log, 'w') as error_file:\n",
    "            for entry in tqdm(filtered_entries, desc=\"Downloading and processing GBIF data\"):\n",
    "                try:\n",
    "                    identifiers = entry.get('identifiers', {})\n",
    "                    doi = identifiers.get('doi', '')\n",
    "                    if doi in processed_dois:\n",
    "                        print(f\"Skipping already processed DOI: {doi}\")\n",
    "                        continue\n",
    "                    \n",
    "                    key = entry.get('gbifDownloadKey', [])[0]\n",
    "                    if key in downloaded_keys:\n",
    "                        print(f\"Skipping already downloaded key: {key}\")\n",
    "                        continue\n",
    "                    \n",
    "                    file_path = os.path.join(download_dir, f\"{key}.zip\")\n",
    "                    \n",
    "                    # Check if file already exists\n",
    "                    if os.path.exists(file_path):\n",
    "                        print(f\"File {file_path} already exists. Skipping download.\")\n",
    "                        continue\n",
    "                    \n",
    "                    # Download the zip file\n",
    "                    download_url = f\"{base_url}{key}.zip\"\n",
    "                    print(f\"Downloading {download_url}\")\n",
    "                    response = requests.get(download_url, stream=True)\n",
    "                    if response.status_code == 200:\n",
    "                        with open(file_path, 'wb') as file:\n",
    "                            for chunk in response.iter_content(chunk_size=1024):\n",
    "                                file.write(chunk)\n",
    "                        print(f\"Downloaded {file_path}\")\n",
    "                        # Save the downloaded key\n",
    "                        save_downloaded_key(downloaded_keys_file, key)\n",
    "                        downloaded_keys.add(key)\n",
    "                    elif response.status_code == 404:\n",
    "                        error_message = f\"Failed to download data for key {key}: 404 Not Found\"\n",
    "                        error_file.write(error_message + '\\n')\n",
    "                        print(error_message)\n",
    "                        continue\n",
    "                    else:\n",
    "                        error_message = f\"Failed to download data for key {key}: {response.status_code}\"\n",
    "                        error_file.write(error_message + '\\n')\n",
    "                        print(error_message)\n",
    "                        continue\n",
    "                \n",
    "                    # Unzip the downloaded file and extract required information\n",
    "                    try:\n",
    "                        print(f\"Unzipping {file_path}\")\n",
    "                        with zipfile.ZipFile(file_path, 'r') as zip_ref:\n",
    "                            zip_ref.extractall(download_dir)\n",
    "                            extracted_files = zip_ref.namelist()\n",
    "                            print(f\"Extracted files: {extracted_files}\")\n",
    "                            \n",
    "                            # Check for occurrence.txt (Darwin Core archive) or single CSV file\n",
    "                            occurrence_file_path = None\n",
    "                            if 'occurrence.txt' in extracted_files:\n",
    "                                occurrence_file_path = os.path.join(download_dir, 'occurrence.txt')\n",
    "                            else:\n",
    "                                csv_file_name = f\"{key}.csv\"\n",
    "                                if csv_file_name in extracted_files:\n",
    "                                    occurrence_file_path = os.path.join(download_dir, csv_file_name)\n",
    "                            \n",
    "                            if occurrence_file_path:\n",
    "                                print(f\"Processing {occurrence_file_path}\")\n",
    "                                with open(occurrence_file_path, newline='', encoding='utf-8') as occurrence_file:\n",
    "                                    reader = csv.DictReader(occurrence_file, delimiter='\\t')\n",
    "                                    for row in reader:\n",
    "                                        if row['basisOfRecord'] == 'PRESERVED_SPECIMEN':\n",
    "                                            writer.writerow({\n",
    "                                                'gbifID': row['gbifID'],\n",
    "                                                'year': row['year'],\n",
    "                                                'countryCode': row['countryCode'],\n",
    "                                                'gbifDownloadKey': key,\n",
    "                                                'doi': doi\n",
    "                                            })\n",
    "                                print(f\"Processed {occurrence_file_path}\")\n",
    "                                # Ensure the file is closed before deleting it\n",
    "                                del reader\n",
    "                                os.remove(occurrence_file_path)\n",
    "                                print(f\"Deleted extracted file {occurrence_file_path}\")\n",
    "                        \n",
    "                        # Ensure the zip file is closed before deleting it\n",
    "                        del zip_ref\n",
    "                        os.remove(file_path)\n",
    "                        print(f\"Deleted {file_path}\")\n",
    "                        \n",
    "                        # Save the DOI to the skip file\n",
    "                        save_processed_doi(skip_file, doi)\n",
    "                        print(f\"Saved DOI {doi} to skip file\")\n",
    "                    except zipfile.BadZipFile:\n",
    "                        error_message = f\"Bad zip file {file_path}\"\n",
    "                        error_file.write(error_message + '\\n')\n",
    "                        print(error_message)\n",
    "                    except Exception as e:\n",
    "                        error_message = f\"Failed to process file {file_path}: {str(e)}\"\n",
    "                        error_file.write(error_message + '\\n')\n",
    "                        print(error_message)\n",
    "                except requests.exceptions.RequestException as e:\n",
    "                    error_message = f\"Request error for key {key}: {str(e)}\"\n",
    "                    error_file.write(error_message + '\\n')\n",
    "                    print(error_message)\n",
    "                except Exception as e:\n",
    "                    error_message = f\"Unexpected error for key {key}: {str(e)}\"\n",
    "                    error_file.write(error_message + '\\n')\n",
    "                    print(error_message)"
   ]
  },
  {
   "cell_type": "code",
   "execution_count": null,
   "id": "18e39fbf",
   "metadata": {
    "scrolled": false
   },
   "outputs": [
    {
     "name": "stdout",
     "output_type": "stream",
     "text": [
      "Loading processed DOIs from D:/gbif_skip_files/processed_dois.txt\n",
      "Loaded 50 processed DOIs\n",
      "Loading downloaded keys from D:/gbif_skip_files/downloaded_keys.txt\n",
      "Loaded 1 downloaded keys\n"
     ]
    },
    {
     "name": "stderr",
     "output_type": "stream",
     "text": [
      "\r",
      "Downloading and processing GBIF data:   0%|          | 0/3572 [00:00<?, ?it/s]"
     ]
    },
    {
     "name": "stdout",
     "output_type": "stream",
     "text": [
      "Skipping already processed DOI: 10.15666/aeer/2202_18851902\n",
      "Downloading https://api.gbif.org/v1/occurrence/download/request/0013673-171219132708484.zip\n",
      "Downloaded D:/gbif_downloads\\0013673-171219132708484.zip\n",
      "Saving downloaded key 0013673-171219132708484 to D:/gbif_skip_files/downloaded_keys.txt\n",
      "Unzipping D:/gbif_downloads\\0013673-171219132708484.zip\n",
      "Extracted files: ['dataset/80d44654-f762-11e1-a439-00145eb45e9a.xml', 'dataset/2273e40d-26c2-4959-aea2-b6abcce16d09.xml', 'dataset/41c4b3e1-0a28-45f4-9f6c-09a7f77c184a.xml', 'dataset/5b605e9d-4e61-424d-950b-68ffbd010d20.xml', 'dataset/df582950-3b58-11dc-8c19-b8a03c50a862.xml', 'dataset/7fb0cd38-f762-11e1-a439-00145eb45e9a.xml', 'dataset/6bc3865d-62b3-48b8-91be-dd885437df9e.xml', 'dataset/f9f727fb-6356-4282-b39a-f6754424a618.xml', 'dataset/7741a517-ab3d-4b85-ae58-56322e44c8ce.xml', 'dataset/bdb3951b-1b8a-446d-8820-22ce0a2ea380.xml', 'dataset/4ce8e3f9-2546-4af1-b28d-e2eadf05dfd4.xml', 'dataset/3941e0f3-a88c-42af-b340-60056c84dc41.xml', 'dataset/52ffdb54-a3e9-4e83-9d30-ff81659873f9.xml', 'dataset/610ea243-6b10-4d44-a6cd-0e12cd6a38bd.xml', 'dataset/8013ca82-f762-11e1-a439-00145eb45e9a.xml', 'dataset/80a10230-f762-11e1-a439-00145eb45e9a.xml', 'dataset/992a83fc-4535-4846-9a19-eb8575bf2b93.xml', 'dataset/9fc5eae1-5a82-4f14-a1b4-254ed18d95d3.xml', 'dataset/c01696db-a5fe-4d3a-8b26-90760604774b.xml', 'dataset/7a2660bc-f762-11e1-a439-00145eb45e9a.xml', 'dataset/e2c104fa-6002-41b0-acd0-8fd2a04e78de.xml', 'dataset/334f20ec-3727-4db3-886b-7280e1f93204.xml', 'dataset/5a0f2fe0-5516-4dc2-87df-6664c14249e0.xml', 'dataset/801db6be-f762-11e1-a439-00145eb45e9a.xml', 'dataset/bddca4a4-60b5-4db5-95fa-be0cce979d3a.xml', 'dataset/2cc1e048-96db-40d2-b9b7-54d0d6975d54.xml', 'dataset/b00c7f09-f77a-4fa4-8b5c-58133c833033.xml', 'dataset/8380d926-f762-11e1-a439-00145eb45e9a.xml', 'dataset/8469143a-92d1-4434-8d2d-d94520d4a22c.xml', 'dataset/ab95dd97-4100-4ea2-9507-2b6ec11716f9.xml', 'dataset/400b65c0-0c62-11dd-84cf-b8a03c50a862.xml', 'dataset/dd7e0efe-fbe8-4650-b0b8-fe7015c59d1c.xml', 'dataset/fffdea53-c113-4cdc-896e-a9c5fd726591.xml', 'dataset/e38d4c95-3a1d-4594-9ae9-883b48042e6d.xml', 'dataset/7f6025cc-f762-11e1-a439-00145eb45e9a.xml', 'dataset/3717f916-d983-4a81-bb13-5f91200871a6.xml', 'dataset/82ac3414-f762-11e1-a439-00145eb45e9a.xml', 'dataset/85b69b0e-f762-11e1-a439-00145eb45e9a.xml', 'dataset/b997a951-75c0-4ffa-b048-d02b2fa33d04.xml', 'dataset/7fddb564-f762-11e1-a439-00145eb45e9a.xml', 'dataset/df761c30-988d-4ff8-b7d4-b24ff51c0c8d.xml', 'dataset/c5938535-cbc1-4ef8-bd25-756e4c6b3985.xml', 'dataset/0bcbd3a8-f22e-4350-a19d-a94fe6ca9738.xml', 'dataset/778cd54a-cbeb-4584-a594-0c7912f16ff4.xml', 'dataset/fb716825-2962-4375-8532-3ac7429aa86d.xml', 'dataset/4db619a6-9429-4bef-90c9-06cc90c39552.xml', 'dataset/f0af2e67-7404-4502-8db2-fd1db960de42.xml', 'dataset/80c60602-f762-11e1-a439-00145eb45e9a.xml', 'dataset/b5cdf794-8fa4-4a85-8b26-755d087bf531.xml', 'dataset/e684dd09-da00-4e7d-9c5e-33bd67f187ac.xml', 'dataset/9c2d26f1-0ce0-4cde-9f8d-de8284404fff.xml', 'dataset/b90cadd7-9ef5-4640-b1fe-94d4803e7129.xml', 'dataset/8da53f1a-8ed7-4c91-8b47-f51f3be8bd1d.xml', 'dataset/90302970-1bc6-4865-be76-9aef1dd707f9.xml', 'dataset/9c69b566-0ef0-49a8-9e55-3d52155ea05a.xml', 'dataset/074474ad-aee2-46ec-bcb3-346a1a75691c.xml', 'dataset/79684ec1-01e8-46cc-83cb-cd5bdfb469fe.xml', 'dataset/e8e716a0-201a-49af-85a1-c21101c6b9d3.xml', 'dataset/1e0f3d99-eb02-4806-b6a4-e903568129ec.xml', 'dataset/7fd0950a-f762-11e1-a439-00145eb45e9a.xml', 'dataset/f5edd628-9c86-4c93-920c-6daac027500d.xml', 'dataset/7f6a0d8a-f762-11e1-a439-00145eb45e9a.xml', 'dataset/7f93c170-f762-11e1-a439-00145eb45e9a.xml', 'dataset/2819ce12-fa31-4df2-81e7-296f1ef493d1.xml', 'dataset/12d298fc-0adb-4450-88c2-af25b38560af.xml', 'dataset/66150eda-ff1f-4dfa-84fa-ca5e57d4b332.xml', 'dataset/f45c5ee0-e5ec-42e3-a80a-07318144efa4.xml', 'dataset/1c334170-7ed1-11df-8c4a-0800200c9a66.xml', 'dataset/7fad2d40-f762-11e1-a439-00145eb45e9a.xml', 'dataset/7fcba126-f762-11e1-a439-00145eb45e9a.xml', 'dataset/8353c5bc-f762-11e1-a439-00145eb45e9a.xml', 'dataset/cc5e1e3d-0850-4cde-a282-656657752e13.xml', 'dataset/398d8e6d-e7cf-4582-a18a-d34aa4ddd7c0.xml', 'dataset/33082168-ab2e-4e27-b304-8e722a6f5403.xml', 'dataset/3dac6c1a-ef35-4804-9a7e-df3fd20621b3.xml', 'dataset/808c9278-f762-11e1-a439-00145eb45e9a.xml', 'dataset/7fccd136-f762-11e1-a439-00145eb45e9a.xml', 'dataset/1ca35622-e040-47ee-b87b-23bbd65514c5.xml', 'dataset/3345dcbc-a43d-4307-9cd8-084cb293d6bb.xml', 'dataset/b403c612-8402-4bdd-ad60-0fc6eb465cae.xml', 'dataset/0b94e07b-898e-47fc-b95f-31a5538f326b.xml', 'dataset/fdf55163-54d8-4bc7-862d-7e41068589e3.xml', 'dataset/fa968290-13d4-4c3c-bff3-fd5085e86023.xml', 'dataset/85b1cfb6-f762-11e1-a439-00145eb45e9a.xml', 'dataset/80307a38-f762-11e1-a439-00145eb45e9a.xml', 'dataset/85739778-f762-11e1-a439-00145eb45e9a.xml', 'dataset/8b85c5ec-1262-4adf-86a2-b4921d277948.xml', 'dataset/0943f690-fde5-11dd-83f4-b8a03c50a862.xml', 'dataset/7fce09c0-f762-11e1-a439-00145eb45e9a.xml', 'dataset/7b91859e-f762-11e1-a439-00145eb45e9a.xml', 'dataset/3e9817c1-8302-4955-87e3-a408db0ea379.xml', 'dataset/86894738-457d-4d25-89ca-d05231a02d46.xml', 'dataset/efd4552a-faa4-4f35-a5ac-007b9ca84e8e.xml', 'dataset/ecc2d1d3-031f-4478-8565-3e098e85b33f.xml', 'dataset/801b523e-f762-11e1-a439-00145eb45e9a.xml', 'dataset/1fe5d5cd-0336-4664-b768-d38acf349c0a.xml', 'dataset/7ba7566d-9ba9-468a-9ae7-359fb19222aa.xml', 'dataset/4daff70b-fd6f-424f-aeec-75afbac828a2.xml', 'dataset/f9b6a4d4-d4a2-4695-ab2a-7b415aa9d939.xml', 'dataset/9656fd77-7981-4cc4-916e-0e8bf5a63088.xml', 'dataset/1b9566d1-636d-4af3-b9a8-813efe9f3263.xml', 'dataset/bc81e05b-ed51-46ba-a0a4-90fbae9b5545.xml', 'dataset/838211b0-f762-11e1-a439-00145eb45e9a.xml', 'dataset/9df34318-5dc2-4edd-85ed-a2368e5c2cc7.xml', 'dataset/8fa89c37-9896-46a3-bc5a-ef68c1d09bfd.xml', 'dataset/f0671b1e-4584-4ec1-9583-fae2d99e4e74.xml', 'dataset/115927c2-12e1-49df-b162-d55ea28eefaf.xml', 'dataset/6e2b3706-4e87-428d-a860-beae8ccfef9f.xml', 'dataset/96c10340-e43d-4542-8d34-7dd0c4b3b010.xml', 'dataset/43e4b07b-f31d-4ab9-82c5-e87048a138ee.xml', 'dataset/7f87bdc6-f762-11e1-a439-00145eb45e9a.xml', 'dataset/7e380070-f762-11e1-a439-00145eb45e9a.xml', 'dataset/88f2cdff-323a-43f2-9c75-3bae018baa5d.xml', 'dataset/aab0cf80-0c64-11dd-84d1-b8a03c50a862.xml', 'dataset/73ee71a2-b43b-4419-a998-9cd42eefbd06.xml', 'dataset/1064b787-c882-493e-b17d-4ffba363b776.xml', 'dataset/7fb331fe-f762-11e1-a439-00145eb45e9a.xml', 'dataset/848182d0-f762-11e1-a439-00145eb45e9a.xml', 'dataset/83459d16-f762-11e1-a439-00145eb45e9a.xml', 'dataset/834c9918-f762-11e1-a439-00145eb45e9a.xml', 'dataset/03a03292-e179-4c62-86ee-4756aea3b7e4.xml', 'dataset/7f4ed916-f762-11e1-a439-00145eb45e9a.xml', 'dataset/689385b6-a672-4919-a4cc-3365c9d5aceb.xml', 'dataset/bf2a4bf0-5f31-11de-b67e-b8a03c50a862.xml', 'dataset/3021152d-571e-477e-8b22-e11f9b2e1ca4.xml', 'dataset/68c90cbc-e74b-4fb6-8ee4-6fa3bd247837.xml', 'dataset/16ed67e5-fd70-4fd4-85c3-70ea2da627fe.xml', 'dataset/7f6dc132-f762-11e1-a439-00145eb45e9a.xml', 'dataset/76823beb-2f33-47a6-96a1-ccd2df47ac28.xml', 'dataset/8310f570-f762-11e1-a439-00145eb45e9a.xml', 'dataset/f57cd13f-a377-47c0-b2aa-e0a0a15e8f40.xml', 'dataset/a797f77c-cd90-401c-827c-92662081cd1d.xml', 'dataset/24ee20b4-607c-4838-9056-44d502728e0c.xml', 'dataset/afae313d-2283-49fc-97fd-6825da4cb49b.xml', 'dataset/b98b81af-cc62-4a0b-b503-3da65c9f4a91.xml', 'dataset/ad0f71c1-1ddc-4a46-950c-751ceb5b2cf8.xml', 'dataset/f577c9f3-ae71-4278-b6bf-512ba1dfaa21.xml', 'dataset/fa4c1edd-7d51-46ee-92c2-70667dc068ad.xml', 'dataset/012ce6fa-5b67-4871-9a5c-5a187ccf54a3.xml', 'dataset/de49c340-0c61-11dd-84ce-b8a03c50a862.xml', 'dataset/80647608-f762-11e1-a439-00145eb45e9a.xml', 'dataset/c58c8244-a545-47ed-b169-43c438675f45.xml', 'dataset/c3cf0200-8818-40cc-bec3-039aad7625c6.xml', 'dataset/0c00cc8f-fd48-4771-acae-216bfc42dfc2.xml', 'dataset/aec6d756-3aa8-465e-83fd-4f6ee83e693e.xml', 'dataset/d415c253-4d61-4459-9d25-4015b9084fb0.xml', 'dataset/7f94ede8-f762-11e1-a439-00145eb45e9a.xml', 'dataset/b9a43c60-d2b6-445c-9362-2db65465c963.xml', 'dataset/80488236-f762-11e1-a439-00145eb45e9a.xml', 'dataset/7e36d9b6-f762-11e1-a439-00145eb45e9a.xml', 'dataset/80ba7738-f762-11e1-a439-00145eb45e9a.xml', 'dataset/42962fd5-34ee-4666-abdb-04e8ba4d23b0.xml', 'dataset/03929cfc-82e3-4f21-97e3-7be4de285584.xml', 'dataset/985eec8a-e9e3-4117-8231-fdebe0634a90.xml', 'dataset/05c7a097-a70b-4a6f-abaa-02bc58d980f0.xml', 'dataset/39f7ffd7-9416-4efb-934a-c81f116893fc.xml', 'dataset/1edaeec2-9fdf-48d2-a459-2bb8635e9aba.xml', 'dataset/7f5260c2-f762-11e1-a439-00145eb45e9a.xml', 'dataset/0ffe005a-c42f-4d74-b3d7-b400048ee8b7.xml', 'dataset/e44fd81f-025e-4f7c-9f63-28839826e3a5.xml', 'dataset/d1d43c63-6b44-472d-8369-8293eca75991.xml', 'dataset/8501be96-f762-11e1-a439-00145eb45e9a.xml', 'dataset/7fb97820-f762-11e1-a439-00145eb45e9a.xml', 'dataset/a51fa32f-831d-49d6-8b8a-c7b52ae65b3b.xml', 'dataset/e553568e-2317-4592-8638-92e5ac93b40c.xml', 'dataset/e92a7b4a-55ed-4b0b-8033-9bf38643d019.xml', 'dataset/42186781-dd9d-418a-ba65-05680906269a.xml', 'dataset/802b7bb4-f762-11e1-a439-00145eb45e9a.xml', 'dataset/21bd91d5-4179-4af6-8427-6630e32e2ffe.xml', 'dataset/e1278068-7d2d-44e0-8274-a46ae6ebf957.xml', 'dataset/4ffe09c6-5647-4fe5-b1ed-af4b07be47a6.xml', 'dataset/af85469c-ed5f-45ea-8217-993b6e41dde4.xml', 'dataset/eb2be3c8-8b4e-4bf6-b989-f4b0c4482c0c.xml', 'dataset/3254bb7f-4b13-444c-846e-33e43276aea0.xml', 'dataset/7ff33858-f762-11e1-a439-00145eb45e9a.xml', 'dataset/dd22ba99-bd1c-4950-b97f-5e43066b6791.xml', 'dataset/80903a4f-bc74-47bc-a52b-a8d5c280ef5d.xml', 'dataset/4300f8d5-1ae5-49e5-a101-63894b005868.xml', 'dataset/fda694ce-fb23-4c47-b765-4cd7d8b4d43d.xml', 'dataset/0f265f7c-e75e-4838-a4ea-a1664188ba04.xml', 'dataset/7ba5ac18-f762-11e1-a439-00145eb45e9a.xml', 'dataset/3c089a4c-c5af-4fa0-b46f-1885036b82f4.xml', 'dataset/7b4543e2-437d-4635-ac11-6a38007f6287.xml', 'dataset/dd03d3f4-b4ea-490d-bba7-983888cce902.xml', 'dataset/82e45d26-f762-11e1-a439-00145eb45e9a.xml', 'dataset/8ac9b3f9-383e-4401-bb17-fdd802057087.xml', 'dataset/23243164-c132-444d-a3a4-34662abb8305.xml', 'dataset/478ccd9e-2dac-47c2-b50a-8209cc55d66e.xml', 'dataset/68513375-3aa5-4f6f-9975-d97d56c21d61.xml', 'dataset/3e12052a-43b7-45e8-87d1-4939abbaf57c.xml', 'dataset/d9f88728-5c0d-4fbe-a0ef-9559c2d9bf46.xml', 'dataset/cd6e21c8-9e8a-493a-8a76-fbf7862069e5.xml', 'dataset/7f9af04e-f762-11e1-a439-00145eb45e9a.xml', 'dataset/801273c6-f762-11e1-a439-00145eb45e9a.xml', 'dataset/7f818456-f762-11e1-a439-00145eb45e9a.xml', 'dataset/821cc27a-e3bb-4bc5-ac34-89ada245069d.xml', 'dataset/d9522343-146c-4d6b-b312-543d4d8ca0e8.xml', 'dataset/4edd9396-59df-4b01-9e29-dc21a59f9963.xml', 'dataset/570510ec-5dd3-4c0d-9911-473f53788a00.xml', 'dataset/800aefe8-f762-11e1-a439-00145eb45e9a.xml', 'dataset/bb1e31f4-99eb-4568-8127-6b4872441f26.xml', 'dataset/8043a3a6-f762-11e1-a439-00145eb45e9a.xml', 'dataset/9129ec89-afa7-45af-8b73-509f1f8942ab.xml', 'dataset/8a43c2b7-5976-457d-9f35-a232655efdcc.xml', 'dataset/5a0cf651-a5d2-4645-b022-77f241218857.xml', 'dataset/85685a84-f762-11e1-a439-00145eb45e9a.xml', 'dataset/ed3093d3-7f6b-4da7-8726-f800531a5d7f.xml', 'dataset/c043cf3a-abb9-4039-bf5d-e2ae3a22e245.xml', 'dataset/e8a25a42-f125-476c-8554-3ec21cd51a84.xml', 'dataset/abd00b46-4c59-4437-85c0-c1b8d5c67029.xml', 'dataset/b8911be5-a01a-41d4-a160-aadd08b844d0.xml', 'dataset/a0cb1f6e-5766-4cc5-a8a0-cfc6a22c5c3d.xml', 'dataset/ec00e3e6-52cd-4e91-9ea8-8003345f5c3d.xml', 'dataset/648ab960-2021-4f48-8b3a-7b7343f3c84f.xml', 'dataset/80b56342-f762-11e1-a439-00145eb45e9a.xml', 'dataset/84f9770e-f762-11e1-a439-00145eb45e9a.xml', 'dataset/11081e0b-5ead-4d79-909f-b99cc4ebd444.xml', 'dataset/803aa7c4-f762-11e1-a439-00145eb45e9a.xml', 'dataset/fdce6e69-a78c-409c-8d66-dd79ad3fc4e9.xml', 'dataset/756fa11d-670b-4666-a1bd-05eb3d6ec158.xml', 'dataset/e7193f24-050b-4867-817d-5bb39f18dd05.xml', 'dataset/0ec3229f-2b53-484e-817a-de8ceb1fce2b.xml', 'dataset/ec76ce73-e02b-45e6-af0b-b2128f77ac22.xml', 'dataset/c9bc6b8d-a4ff-4a47-9cff-d0d1b9e548c7.xml', 'dataset/1a9d08bb-9e2c-4540-8f7f-3205846b6ddc.xml', 'dataset/4a76f6d6-5d77-4754-8aa9-adfd1e846eda.xml', 'dataset/800d7704-f762-11e1-a439-00145eb45e9a.xml', 'dataset/833db434-f762-11e1-a439-00145eb45e9a.xml', 'dataset/78dcee36-b0a2-4679-802d-bc0b5016518b.xml', 'dataset/26d97e94-6ee9-4d5a-a9b8-7d514ec0345c.xml', 'dataset/80931f9e-f762-11e1-a439-00145eb45e9a.xml', 'dataset/8074177a-f762-11e1-a439-00145eb45e9a.xml', 'dataset/09010edb-5e55-4dc0-8a97-a26a3bb89e85.xml', 'dataset/9b73f44e-bbe1-4fd1-a7a9-c96c38dcf884.xml', 'dataset/5d6c2985-c6b0-4f4a-a703-85822e238825.xml', 'dataset/963e4eb1-9ee4-47cb-bf1f-c6092ca5e985.xml', 'dataset/da8a0dd0-85c7-4d7a-8a5a-e66b1deaebaa.xml', 'dataset/8db1d1fa-4ae8-4c9c-843b-afa0e9bd398e.xml', 'dataset/fe7e89d1-8039-43dc-a833-df08f05f36b7.xml', 'dataset/965b5ae5-7b2d-4155-a7ff-e9e496d70f90.xml', 'dataset/cfa64a64-45e3-4717-8fe5-9f707cc362fa.xml', 'dataset/8bc4f5d2-8e7a-430d-b219-6776c38f401a.xml', 'dataset/d0aa984e-c6d3-45ee-8fc0-df1df8f4126b.xml', 'dataset/809bcf86-f762-11e1-a439-00145eb45e9a.xml', 'dataset/86aea6d0-e340-4745-a596-3fc20f90a021.xml', 'dataset/772b065f-0b77-4557-934b-81efba7f4610.xml', 'dataset/ecb6ff5d-71c8-4083-b55b-f48979addf7f.xml', 'dataset/91fa7d04-42e3-4e7e-b8ec-927a7b52c805.xml', 'dataset/0f158594-69e0-4364-9a04-bcb6126cb97e.xml', 'dataset/80178f32-f762-11e1-a439-00145eb45e9a.xml', 'dataset/bb080d40-c63b-4529-bf21-d1782a81e024.xml', 'dataset/1cd2fdd6-24d3-4402-905f-8a72ddffd3ad.xml', 'dataset/80a6238c-f762-11e1-a439-00145eb45e9a.xml', 'dataset/82a7898c-f762-11e1-a439-00145eb45e9a.xml', 'dataset/08a179fe-9cd1-4d33-afef-266dd55c59cf.xml', 'dataset/30f25223-4ab7-4471-babe-9544e06a3229.xml', 'dataset/d0763028-e8a8-4a0e-a5f5-3e65621df6da.xml', 'dataset/7c57418d-6abd-47a5-ad43-86c7ebf93d0e.xml', 'dataset/1a523735-7023-4457-8075-55ed885a5163.xml', 'dataset/3d80a83c-407a-4d67-bff3-896bcb418cca.xml', 'dataset/ca7f81ae-ebf9-43a8-947c-535a87fe5aec.xml', 'dataset/e45c7d91-81c6-4455-86e3-2965a5739b1f.xml', 'dataset/f9040e31-ee85-4b92-9963-a0272a44ec96.xml', 'dataset/838350b6-f762-11e1-a439-00145eb45e9a.xml', 'dataset/88af1796-f762-11e1-a439-00145eb45e9a.xml', 'dataset/80a89392-f762-11e1-a439-00145eb45e9a.xml', 'dataset/0835b6d6-ee6f-4c7a-86e7-81a95c313632.xml', 'dataset/166db736-ab3e-4e33-b766-96bbbb7f6b4a.xml', 'dataset/e30604cb-259d-4820-8eb8-8c7334a541de.xml', 'dataset/5a6e540f-db9b-4d68-9bef-a7b5d1e344ef.xml', 'dataset/9e482772-4281-4f7e-a8bc-a2501366588b.xml', 'dataset/56aa0680-0c60-11dd-84cd-b8a03c50a862.xml', 'dataset/7144a7d6-4341-4f06-b2e5-35e44b606f7a.xml', 'dataset/88e450ba-2076-4947-9529-9d0cfbb06f2a.xml', 'dataset/5bad80c7-8b9e-448a-84fe-df70288f16ac.xml', 'dataset/bdd4a614-fb1f-4f0a-a559-478f022baafb.xml', 'dataset/65d98c1d-a081-4b40-bc4b-81eae69a48e6.xml', 'dataset/7e8d2078-6109-438d-958d-cb3ccd076a1e.xml', 'dataset/647d4916-9356-4fa1-b068-229ec6296098.xml', 'dataset/de45bd59-54e6-4f62-9a15-b481af99fc48.xml', 'dataset/7fb208ec-f762-11e1-a439-00145eb45e9a.xml', 'dataset/7f7a401a-f762-11e1-a439-00145eb45e9a.xml', 'dataset/34bdd863-0afd-407c-bde0-a1539263156e.xml', 'dataset/832cb04e-f762-11e1-a439-00145eb45e9a.xml', 'dataset/bf0dd71d-364c-4f16-8612-2661f07f40a2.xml', 'dataset/171f18cb-5a9f-4abc-922e-4df68fbb0271.xml', 'dataset/cb9beff3-a185-486f-975a-732251444158.xml', 'dataset/1f6704e8-b455-4f6b-916c-0cd727293fca.xml', 'dataset/f8dca385-db58-4887-97e2-690fcfbdf83d.xml', 'dataset/a69745d9-519e-490a-8ae7-3942d9ce7c5d.xml', 'dataset/f2f31bf8-abd3-4bbc-b55e-8fa88c5c8222.xml', 'dataset/ffb63b32-306e-415c-87a3-34c60d157a2a.xml', 'dataset/3c6a5d9a-3d99-4f65-b44d-62a7dd9da196.xml', 'dataset/355179f1-4631-4ebc-b50d-d55361f8c465.xml', 'dataset/a2fc0119-703d-42e6-a627-a356433cde9d.xml', 'dataset/7b9a08ea-f762-11e1-a439-00145eb45e9a.xml', 'dataset/cbf8c968-37d6-45be-bf5c-e22914a384dc.xml', 'dataset/eee198af-c61d-489a-84f7-fef567e8c8d0.xml', 'dataset/5065080a-77d9-4a2d-a3f8-e65da9add067.xml', 'dataset/809077e4-f762-11e1-a439-00145eb45e9a.xml', 'dataset/374a9e84-fd75-425e-b0a5-20f2646a872f.xml', 'dataset/698bcafa-eb8e-4262-a0db-f0be58042f05.xml', 'dataset/4c4567f2-e495-4351-8f35-309dfa02a025.xml', 'dataset/fce21d43-c0c7-4d1f-b6d2-fc048f053456.xml', 'dataset/cd6905cf-54d7-4628-b762-f63d269e239b.xml', 'dataset/d031156d-6ff8-4eb5-b91a-a50861e98be9.xml', 'dataset/07fd0d79-4883-435f-bba1-58fef110cd13.xml', 'dataset/33a0f02e-6a9d-4b6f-a731-014f89d943de.xml', 'dataset/6b2dd7dd-9304-4060-b0bd-6d25a82d1024.xml', 'dataset/4f28afd9-f50e-42aa-b49f-60d9f637ab2c.xml', 'dataset/8f7e3c45-4d76-4982-9478-651439e0cd4b.xml', 'dataset/73f644a4-9079-45f4-bb61-512692a09035.xml', 'dataset/99ab3167-a2d5-411a-8176-34dc02edee4a.xml', 'dataset/d54974b5-c680-44fa-b82a-9f84148d46b5.xml', 'dataset/7f88eb10-f762-11e1-a439-00145eb45e9a.xml', 'dataset/55593034-e52a-4b4a-8b2f-e2d3d24b6aa1.xml', 'dataset/7fc1bb5c-f762-11e1-a439-00145eb45e9a.xml', 'dataset/7fa2233c-f762-11e1-a439-00145eb45e9a.xml', 'dataset/802a4c8a-f762-11e1-a439-00145eb45e9a.xml', 'dataset/f6a922c4-d0ca-4f9c-bba2-7b1939996439.xml', 'dataset/1e0337ce-ed10-434e-9078-090289f1f13b.xml', 'dataset/20cfe5fa-8e4e-4f18-92df-7add93a55de7.xml', 'dataset/72c1ee1f-4303-4ce8-9a5a-07e0130887a4.xml', 'dataset/7fb46f10-f762-11e1-a439-00145eb45e9a.xml', 'dataset/3b8e9d83-b2d4-4a97-973c-31d98b67b1e9.xml', 'dataset/5ebe1081-cd38-479c-9cdd-4af21989891b.xml', 'dataset/d0d734c0-14f5-4f70-b915-5740cce60b07.xml', 'dataset/8908a9a0-f762-11e1-a439-00145eb45e9a.xml', 'dataset/f60aa56f-cbb7-4f55-8a6d-67288d5ba9b1.xml', 'dataset/1881d048-04f9-4bc2-b7c8-931d1659a354.xml', 'dataset/966426ce-f762-11e1-a439-00145eb45e9a.xml', 'dataset/19dab322-882a-4d7e-80a5-28644b750634.xml', 'dataset/7f8efb22-f762-11e1-a439-00145eb45e9a.xml', 'dataset/96b7961a-f762-11e1-a439-00145eb45e9a.xml', 'dataset/b5adf05f-7dd4-45b0-9aad-5948c4c42899.xml', 'dataset/8056a0e6-f762-11e1-a439-00145eb45e9a.xml', 'dataset/5178a9d0-50de-4583-aee5-322b6c3f5b35.xml', 'dataset/80bbcc0a-f762-11e1-a439-00145eb45e9a.xml', 'dataset/80863c34-f762-11e1-a439-00145eb45e9a.xml', 'dataset/8044d0f0-f762-11e1-a439-00145eb45e9a.xml', 'dataset/ff8bd33b-f362-46ad-8670-797ce1e701a1.xml', 'dataset/5140e9ce-ca14-4f1f-a5b3-f9023f4e4043.xml', 'dataset/5ab71997-6cb4-4796-8ba9-4b9b49a703ab.xml', 'dataset/d1bb9ca1-95c3-453a-9ff2-2ee2e4ad6a62.xml', 'dataset/8dd06261-d1a7-4c2b-9007-c3a4d93dfee3.xml', 'dataset/ae379339-581e-4126-9fb1-ea1c1fc91412.xml', 'dataset/90c853e6-56bd-480b-8e8f-6285c3f8d42b.xml', 'dataset/aeb4640c-e649-43b9-bf5c-dc9c6ec7540e.xml', 'dataset/3cc6171e-8c52-4f65-ad7a-32c74e395f29.xml', 'dataset/17efa320-7312-4b55-bf0a-a4cfc4613169.xml', 'dataset/27ba04cd-45b9-4f5c-b032-d1bcc584fbdd.xml', 'dataset/909c04cb-3f28-4fea-bb7d-3b99a851e265.xml', 'dataset/962cceea-f762-11e1-a439-00145eb45e9a.xml', 'dataset/808f2448-f762-11e1-a439-00145eb45e9a.xml', 'dataset/066497bc-d5ba-4faf-a37a-09730d436acf.xml', 'dataset/807a74b2-f762-11e1-a439-00145eb45e9a.xml', 'dataset/e7753fee-b13d-4e6d-85c7-d85ddeeefef6.xml', 'dataset/2e684fd6-09e2-4661-910a-0a188b610c04.xml', 'dataset/7f5ed794-f762-11e1-a439-00145eb45e9a.xml', 'dataset/012473a9-1c60-42d9-be83-53ab144b271b.xml', 'dataset/55a29b7c-9cb3-4721-b1e3-40561c955e21.xml', 'dataset/7fbf4372-f762-11e1-a439-00145eb45e9a.xml', 'dataset/f248c45a-97da-4ed2-b89c-b47c9a885f3c.xml', 'dataset/e9b9f9d0-bd86-49a2-9695-d72f92ed7548.xml', 'dataset/7f6143b2-f762-11e1-a439-00145eb45e9a.xml', 'dataset/6728c42d-c4b6-4fda-a211-5ad1bb59cda4.xml', 'dataset/ce383525-0996-4ce4-bee0-b6fb6c7b6458.xml', 'dataset/c065ec9e-e74f-463b-97d3-5c5fab5b0700.xml', 'dataset/847375df-8ac8-4189-a8d6-deaefb90355c.xml', 'dataset/ec20771d-5c61-409f-825c-3eea4118c437.xml', 'dataset/3f6a3304-f66f-4ba8-be57-92a70f3aac3f.xml', 'dataset/cea8cd4e-ac8b-4e81-9242-6a5bf9e41e4d.xml', 'dataset/834a4794-f762-11e1-a439-00145eb45e9a.xml', 'dataset/dd31ac22-63d4-4bb4-a987-5eece5ffadb8.xml', 'dataset/861e6afe-f762-11e1-a439-00145eb45e9a.xml', 'dataset/5c1fdaf6-4a18-4c5d-a84b-a4ba41f077c9.xml', 'dataset/1bb3cae3-b91f-4109-8a2d-a1f05f2d6fd3.xml', 'dataset/80850062-f762-11e1-a439-00145eb45e9a.xml', 'dataset/7fc2fb2a-f762-11e1-a439-00145eb45e9a.xml', 'dataset/05776b2b-eda0-4a70-ba81-986e3f100e1a.xml', 'dataset/b7d5e282-aeeb-41f2-923b-e24b52d8028a.xml', 'dataset/5b5cf455-a448-4c0a-aecd-3e0956f27f10.xml', 'dataset/8346c3a8-f762-11e1-a439-00145eb45e9a.xml', 'dataset/2229752a-7d50-4632-a338-0930a6d792d1.xml', 'dataset/5a41b65b-27a3-4e5b-8fd0-72a8ba9d7c68.xml', 'dataset/963f12d0-f762-11e1-a439-00145eb45e9a.xml', 'dataset/7faac758-f762-11e1-a439-00145eb45e9a.xml', 'dataset/7fea5f1c-f762-11e1-a439-00145eb45e9a.xml', 'dataset/e153bbae-f9cd-46a6-a4dd-db74983c7075.xml', 'dataset/4f59d35c-4f92-419d-b5e1-cb9cee50685e.xml', 'dataset/cb5cd6d7-1743-4d41-a5c0-43992b336c9c.xml', 'dataset/eb63cc46-126f-43b2-9c3e-0f03a97e0638.xml', 'dataset/8038283c-f762-11e1-a439-00145eb45e9a.xml', 'dataset/3283bea4-1ca5-423e-bc2e-e907d0317522.xml', 'dataset/7aac2a16-2b16-410c-8649-6aae7a752ebb.xml', 'dataset/707cb1ed-19e4-41b0-9ffa-d9251e2e03bf.xml', 'dataset/49821f95-e784-49d3-82ce-5b5cf9aa96f4.xml', 'dataset/70790a0d-6cb3-4127-9bf9-8e8c55a1e1b9.xml', 'dataset/7f8b4f86-f762-11e1-a439-00145eb45e9a.xml', 'dataset/83a517aa-f762-11e1-a439-00145eb45e9a.xml', 'dataset/73e5b51c-de49-41ed-a6d2-ff3d5206c424.xml', 'dataset/7e285238-f762-11e1-a439-00145eb45e9a.xml', 'dataset/12db9486-3bb3-4113-aaa2-8554ec92810c.xml', 'dataset/7fbbb7a2-f762-11e1-a439-00145eb45e9a.xml', 'dataset/ed8e1590-62b5-48a8-8654-4ecc13554f57.xml', 'dataset/46a95f2f-4f0c-4002-8e1a-68724e63f01d.xml', 'dataset/2fed5d1a-9893-4b46-a15d-6db3dde8b286.xml', 'dataset/d71abe29-0cc7-451c-9eaf-42514a361885.xml', 'dataset/3524e6fa-341d-4afa-a7c2-952faae72b94.xml', 'dataset/a3328ccd-32d8-4d78-af7d-6ed099723a27.xml', 'dataset/5dbf40d0-0d2d-46af-a205-c83ff2e74098.xml', 'dataset/2429287b-ef65-4cfd-afcc-11cc3ba95cca.xml', 'dataset/7fc43fee-f762-11e1-a439-00145eb45e9a.xml', 'dataset/7fda37f4-f762-11e1-a439-00145eb45e9a.xml', 'dataset/aed35888-68cb-4574-8a98-d13b89cf0f38.xml', 'dataset/2f7208c8-b31d-4287-84b4-fc10ab376302.xml', 'dataset/7fb5c784-f762-11e1-a439-00145eb45e9a.xml', 'dataset/8276c2d9-24ac-4f5c-8f79-06fcf31b9f70.xml', 'dataset/85771146-f762-11e1-a439-00145eb45e9a.xml', 'dataset/56e9c560-bd2a-11dd-b15e-b8a03c50a862.xml', 'dataset/71d88e93-f830-4878-832e-3e10e3e80f61.xml', 'dataset/92e7a11c-2765-4eee-9341-2a89083e6132.xml', 'dataset/4aed1b54-e881-4a65-a294-71b9ada41f63.xml', 'dataset/197e1421-7932-46a9-b227-0405ed5a4304.xml', 'dataset/5152f65f-ec13-4847-a02e-3cb454ae6dd5.xml', 'dataset/f2b6763d-931a-4ffc-b92f-3d9b5db3f3d3.xml', 'dataset/80241018-f762-11e1-a439-00145eb45e9a.xml', 'dataset/7f7f1342-f762-11e1-a439-00145eb45e9a.xml', 'dataset/850e5d36-21b7-4eae-84b2-3dc93db6a153.xml', 'dataset/32d48308-ed92-4cd8-bd45-9b767596c1f2.xml', 'dataset/ddce7f9a-3b1b-460f-ba50-99344281fc60.xml', 'dataset/809e70d8-f762-11e1-a439-00145eb45e9a.xml', 'dataset/f3af5cc9-4d39-4125-8739-2bbe5cf9d9cc.xml', 'dataset/5288946d-5fcf-4b53-8fd3-74f4cc6b53fc.xml', 'dataset/646858f7-8620-4124-9405-279539aec76c.xml', 'dataset/80d0549a-f762-11e1-a439-00145eb45e9a.xml', 'dataset/751cac02-cee1-4712-ab40-da02d972a60c.xml', 'dataset/f30836e6-fffa-44fb-9fa7-2b4c536e8bb9.xml', 'dataset/7bac0ff4-f762-11e1-a439-00145eb45e9a.xml', 'dataset/224bb9c2-4426-4d4d-ac9c-38758b5d938f.xml', 'dataset/37e95be3-cbba-480e-b120-3da7014b38ae.xml', 'dataset/6a1a22f8-638a-4c20-92ca-ba4cd7891e9a.xml', 'dataset/37700302-4c97-4bf7-b054-213f254b45d2.xml', 'dataset/794215ba-5f4a-423f-b5a5-775f0dbf6c2a.xml', 'dataset/a3b38536-39ae-4a63-bc14-54322b03508e.xml', 'dataset/0b8c0f5b-e970-44fd-8823-7f4bf7a6a370.xml', 'dataset/7aeb3ded-7443-4512-95f7-2ec7ab0f308c.xml', 'dataset/905daf20-04fd-11df-8c28-b8a03c50a862.xml', 'dataset/f9e1895f-4f52-45e7-aa4f-4dea366b7d2d.xml', 'dataset/330d773a-abe3-4234-b423-129dc4d00963.xml', 'dataset/858d51e0-f762-11e1-a439-00145eb45e9a.xml', 'dataset/4b215a29-3ff0-4242-be72-77490cc773a8.xml', 'dataset/9d300300-333d-4ac3-abcb-04d4b369e556.xml', 'dataset/f867bf08-2836-452d-85eb-9a4a6f460062.xml', 'dataset/8c3aaec2-64ac-4e34-a589-07137594d19c.xml', 'dataset/af1b4db0-c8ce-4a95-b700-8a6a02bed9d6.xml', 'dataset/b929f23d-290f-4e85-8f17-764c55b3b284.xml', 'dataset/1352ce3d-a1a8-47da-8ef7-ac7bba2b1149.xml', 'dataset/82ceb6ba-f762-11e1-a439-00145eb45e9a.xml', 'dataset/7fa5dbd0-f762-11e1-a439-00145eb45e9a.xml', 'dataset/a59636ef-6028-4fa4-8895-553ba8af3b02.xml', 'dataset/ea64fb7a-708f-477d-9e46-e426a0c906b3.xml', 'dataset/806eb816-f762-11e1-a439-00145eb45e9a.xml', 'dataset/80b168c8-f762-11e1-a439-00145eb45e9a.xml', 'dataset/80b01cca-f762-11e1-a439-00145eb45e9a.xml', 'dataset/abb9972c-8003-464a-89d7-955f10064cae.xml', 'dataset/84de00a0-f762-11e1-a439-00145eb45e9a.xml', 'dataset/8091cd10-f762-11e1-a439-00145eb45e9a.xml', 'dataset/f70fdd5a-e761-43b6-a854-462826cc7933.xml', 'dataset/81e6cff2-b409-417e-8c72-e1bbafb7c61f.xml', 'dataset/8797a31d-1d10-425f-8e95-c83ffc1a9e77.xml', 'dataset/80113592-f762-11e1-a439-00145eb45e9a.xml', 'dataset/c39c4f05-412f-4c0f-86f3-2fc1df00988f.xml', 'dataset/82d9ff5c-f762-11e1-a439-00145eb45e9a.xml', 'dataset/85c8e444-f762-11e1-a439-00145eb45e9a.xml', 'dataset/f7f05647-5608-4b11-aa08-ce51da5949a1.xml', 'dataset/8db77d0a-f139-4f1c-b1c3-16c7fd4a17c0.xml', 'dataset/26d72d3b-4544-4645-aa56-27aa8a669c6f.xml', 'dataset/9f747cff-839f-4485-83a1-f10317a92a82.xml', 'dataset/8016518a-f762-11e1-a439-00145eb45e9a.xml', 'dataset/806835f4-f762-11e1-a439-00145eb45e9a.xml', 'dataset/80bfa122-f762-11e1-a439-00145eb45e9a.xml', 'dataset/7fdc9242-f762-11e1-a439-00145eb45e9a.xml', 'dataset/57746ff2-ac01-4889-899f-713f4de3226d.xml', 'dataset/54b9569e-94b0-4da2-88f4-fa5baae7445c.xml', 'dataset/9cffad6e-51b7-45ca-8679-32374a07f884.xml', 'dataset/c6677d76-f416-4479-9175-c5ec9e8eda4a.xml', 'dataset/878b1066-ebac-4a81-a852-7db747ba07b9.xml', 'dataset/08502f36-77c5-4fca-aeda-3c306b5179f9.xml', 'dataset/7bd65a7a-f762-11e1-a439-00145eb45e9a.xml', 'dataset/8375dada-f762-11e1-a439-00145eb45e9a.xml', 'dataset/80218190-f762-11e1-a439-00145eb45e9a.xml', 'dataset/7f8dc63a-f762-11e1-a439-00145eb45e9a.xml', 'dataset/a8e78a51-12b2-4ca1-8945-6d909022ef6a.xml', 'dataset/34c5f30d-675b-4bc0-8c63-3af03bf6210d.xml', 'dataset/856ba999-339c-441c-9fa8-3643294a70ef.xml', 'dataset/f9650277-63c3-4612-83ac-812d10b5fbc9.xml', 'dataset/7f6776a6-f762-11e1-a439-00145eb45e9a.xml', 'dataset/cd2f99e0-9b66-44b5-8cd8-4f5dc58c2a54.xml', 'dataset/80c9cd0a-f762-11e1-a439-00145eb45e9a.xml', 'dataset/33948acc-bfac-4107-92c8-6464de387822.xml', 'dataset/80c88d00-f762-11e1-a439-00145eb45e9a.xml', 'dataset/d82d5a18-0428-4e52-be16-f509153e8126.xml', 'dataset/80cc6506-f762-11e1-a439-00145eb45e9a.xml', 'dataset/91fa0308-8901-45f2-a9df-b42f64b53c0e.xml', 'dataset/f934f8e2-32ca-46a7-b2f8-b032a4740454.xml', 'dataset/80b92d60-f762-11e1-a439-00145eb45e9a.xml', 'dataset/fe8c1017-5941-4703-8f81-5023028a32ab.xml', 'dataset/262ec79d-5ff8-4b1a-974f-5c19fcb2f1ee.xml', 'dataset/fea77396-7b26-44cb-8580-aefadc8db276.xml', 'dataset/52b78a58-c84a-4370-bb14-b27a007d5da6.xml', 'dataset/2e8ffb5b-d515-4245-abd4-dc4f6b20955d.xml', 'dataset/7fbce258-f762-11e1-a439-00145eb45e9a.xml', 'dataset/b3769e61-c3d0-4046-81cf-bf4d6b23b444.xml', 'dataset/83fdaa14-f762-11e1-a439-00145eb45e9a.xml', 'dataset/858e7462-f762-11e1-a439-00145eb45e9a.xml', 'dataset/2beeb895-b24c-4136-9037-b05ba4d09fd3.xml', 'dataset/75dc6f56-7b8c-4820-8d8c-3734b2ad365d.xml', 'dataset/d03374b7-5a72-4a55-b350-0856007078a4.xml', 'dataset/3c78b768-00e8-41aa-8efb-c4d928b21bb0.xml', 'dataset/704c6469-86ba-418b-bda1-66dc56f4b5ee.xml', 'dataset/e2af6d99-7387-43aa-bd04-7c579a9befa5.xml', 'dataset/23b714b1-fae6-4074-bdd0-5e17ae3b5f11.xml', 'dataset/3df8b088-b7d4-4621-aa32-dd17460736db.xml', 'dataset/8347f6ba-f762-11e1-a439-00145eb45e9a.xml', 'dataset/5325ba61-44e7-4d92-ac11-868b3294b3bb.xml', 'dataset/d29d79fd-2dc4-4ef5-89b8-cdf66994de0d.xml', 'dataset/bbb1f181-3221-4a10-ad52-14f1da0dca26.xml', 'dataset/dd1279b0-11cc-4ad2-9872-9d65522cdb08.xml', 'dataset/d2470ef8-edfa-4ba7-821e-c3e1a537bdba.xml', 'dataset/5678b0b3-450b-4513-82e1-2b32c3c50b54.xml', 'dataset/80460150-f762-11e1-a439-00145eb45e9a.xml', 'dataset/4e22dd77-6ba1-4256-a692-64fecdf38ea7.xml', 'dataset/9168f50d-350e-4af1-ba97-17274f1faeaf.xml', 'dataset/360ea197-6713-46f3-bde3-ed5c29afa0f4.xml', 'dataset/bbe02a61-14c8-4035-a3d4-7a748068d729.xml', 'dataset/22331d58-4a7e-40da-b7db-652a4d4d85ed.xml', 'dataset/80b401aa-f762-11e1-a439-00145eb45e9a.xml', 'dataset/55d3f041-5cd7-45cf-99e0-80cddfd035d7.xml', 'dataset/38073295-5a6a-4ec9-b1a9-90966c3e6099.xml', 'dataset/bd87f432-1b92-4494-894b-e3f0b1eca64d.xml', 'dataset/3a489e55-ec80-4c62-b6aa-4911372d23c2.xml', 'dataset/20ae569a-b65c-4e7f-8f2c-e2f99f561f38.xml', 'dataset/61a9ca38-b62f-11e2-afcb-00145eb45e9a.xml', 'dataset/7f928abc-f762-11e1-a439-00145eb45e9a.xml', 'dataset/c734c754-bfe1-4fc7-8a6f-003eca60ffd9.xml', 'dataset/80036d2c-f762-11e1-a439-00145eb45e9a.xml', 'dataset/d9bceb64-0334-43e8-868e-72d4cd506ca1.xml', 'dataset/7fd2f6e2-f762-11e1-a439-00145eb45e9a.xml', 'dataset/e4434e00-a215-11da-beae-b8a03c50a862.xml', 'dataset/fd99455d-f6e9-4421-930a-5d8e23ac8895.xml', 'dataset/3509d20f-3c92-4edd-9a9c-cf21d804af44.xml', 'dataset/56b40d17-9023-4f73-a342-a1e59175c094.xml', 'dataset/4df57e87-369b-418b-b9a4-5b69fc64857c.xml', 'dataset/8031a106-f762-11e1-a439-00145eb45e9a.xml', 'dataset/b18aa640-0367-4956-a6a4-5f07141127f1.xml', 'dataset/85714c48-f762-11e1-a439-00145eb45e9a.xml', 'dataset/c525b217-2f59-4b71-a173-68d13da5e8a7.xml', 'dataset/c1a13bf0-0c71-11dd-84d4-b8a03c50a862.xml', 'dataset/767bddaa-9e6a-4eb1-bd12-f94a2b39a7d6.xml', 'dataset/ca18b3ec-8819-4f45-8f86-ababf580bcc6.xml', 'dataset/ba945b85-a284-48fe-a68c-7b76845c5109.xml', 'dataset/2cee1ad6-1597-4bc8-9368-4cf2f8e088d6.xml', 'dataset/7f638a28-f762-11e1-a439-00145eb45e9a.xml', 'dataset/4d0fa690-1551-46f0-9a22-acfec0e00dd0.xml', 'dataset/2b7fa478-bc11-4404-9ab5-93c23bbd9e0b.xml', 'dataset/1938f3c5-e377-42bd-85b8-888ac0394dea.xml', 'dataset/8026a170-f762-11e1-a439-00145eb45e9a.xml', 'dataset/bbedc129-ddc2-4651-b64d-f9d7666e4b74.xml', 'dataset/b7464a9e-dc9e-47d8-9245-b32500e89ccc.xml', 'dataset/f318309f-f9db-453d-9b93-39acd4a67227.xml', 'dataset/7fd41eb4-f762-11e1-a439-00145eb45e9a.xml', 'dataset/80717510-f762-11e1-a439-00145eb45e9a.xml', 'dataset/95c938a8-f762-11e1-a439-00145eb45e9a.xml', 'dataset/c2c4acd9-c985-47af-90a7-535b7b8697ae.xml', 'dataset/c5a9b58e-00b0-4a00-898f-a44e3a844236.xml', 'dataset/530fefbf-0ce3-4624-a692-301c2126be3a.xml', 'dataset/84ff719a-f762-11e1-a439-00145eb45e9a.xml', 'dataset/f11b55db-cf5d-484a-9acd-55e064e437fb.xml', 'dataset/ad40d9c6-1a48-4bcb-bc93-194a4226d51d.xml', 'dataset/ee9e05bb-878a-4222-b2ab-a114b6b9ac62.xml', 'dataset/704fd2e5-f071-4836-8f24-2b3da24f7b57.xml', 'dataset/1e61b812-b2ec-43d0-bdbb-8534a761f74c.xml', 'dataset/b3e962e6-c1c4-4d52-87d2-7926d06750e7.xml', 'dataset/80a4cdca-f762-11e1-a439-00145eb45e9a.xml', 'dataset/aefe4840-ce1f-4b7b-b83b-1a0203e9e5e4.xml', 'dataset/f25059a7-ccb0-4c2e-a0f0-73b1d1155ad3.xml', 'dataset/80a76dc8-f762-11e1-a439-00145eb45e9a.xml', 'dataset/ff470f29-2838-43fe-9c92-64ac1f9373ea.xml', 'dataset/b89d52a2-861d-4388-adad-c0da3d55fc78.xml', 'dataset/d603329b-9cfa-4238-8509-c28432bf1c9d.xml', 'dataset/1a56d457-8ab8-4592-bcf3-0f57a937844f.xml', 'dataset/7fac7128-936b-4da9-8baf-6020bb898fb7.xml', 'dataset/0348540a-e644-4496-89d3-c257da9ad776.xml', 'dataset/293bc355-c0d3-4ce8-98f7-5fa6303152cb.xml', 'rights.txt', 'citations.txt', 'metadata.xml', 'meta.xml', 'occurrence.txt', 'verbatim.txt', 'multimedia.txt']\n",
      "Processing D:/gbif_downloads\\occurrence.txt\n"
     ]
    },
    {
     "name": "stdout",
     "output_type": "stream",
     "text": [
      "Processed D:/gbif_downloads\\occurrence.txt\n",
      "Deleted extracted file D:/gbif_downloads\\occurrence.txt\n"
     ]
    },
    {
     "name": "stderr",
     "output_type": "stream",
     "text": [
      "\r",
      "Downloading and processing GBIF data:   0%|          | 2/3572 [17:28<519:38:20, 524.01s/it]"
     ]
    },
    {
     "name": "stdout",
     "output_type": "stream",
     "text": [
      "Deleted D:/gbif_downloads\\0013673-171219132708484.zip\n",
      "Saving DOI 10.1002/ece3.11230 to D:/gbif_skip_files/processed_dois.txt\n",
      "Saved DOI 10.1002/ece3.11230 to skip file\n",
      "Skipping already processed DOI: 10.1038/s41598-024-59947-y\n",
      "Skipping already downloaded key: 0019000-220831081235567\n",
      "Skipping already processed DOI: 10.1016/j.tfp.2024.100559\n",
      "Downloading https://api.gbif.org/v1/occurrence/download/request/0009997-230828120925497.zip\n"
     ]
    },
    {
     "name": "stderr",
     "output_type": "stream",
     "text": [
      "\r",
      "Downloading and processing GBIF data:   0%|          | 6/3572 [17:28<134:38:39, 135.93s/it]"
     ]
    },
    {
     "name": "stdout",
     "output_type": "stream",
     "text": [
      "Downloaded D:/gbif_downloads\\0009997-230828120925497.zip\n",
      "Saving downloaded key 0009997-230828120925497 to D:/gbif_skip_files/downloaded_keys.txt\n",
      "Unzipping D:/gbif_downloads\\0009997-230828120925497.zip\n",
      "Extracted files: ['0009997-230828120925497.csv']\n",
      "Processing D:/gbif_downloads\\0009997-230828120925497.csv\n",
      "Processed D:/gbif_downloads\\0009997-230828120925497.csv\n",
      "Deleted extracted file D:/gbif_downloads\\0009997-230828120925497.csv\n",
      "Deleted D:/gbif_downloads\\0009997-230828120925497.zip\n",
      "Saving DOI 10.1007/s10530-024-03313-6 to D:/gbif_skip_files/processed_dois.txt\n",
      "Saved DOI 10.1007/s10530-024-03313-6 to skip file\n",
      "Downloading https://api.gbif.org/v1/occurrence/download/request/0162339-230224095556074.zip\n",
      "Downloaded D:/gbif_downloads\\0162339-230224095556074.zip\n",
      "Saving downloaded key 0162339-230224095556074 to D:/gbif_skip_files/downloaded_keys.txt\n",
      "Unzipping D:/gbif_downloads\\0162339-230224095556074.zip\n",
      "Extracted files: ['0162339-230224095556074.csv']\n",
      "Processing D:/gbif_downloads\\0162339-230224095556074.csv\n"
     ]
    },
    {
     "name": "stderr",
     "output_type": "stream",
     "text": [
      "\r",
      "Downloading and processing GBIF data:   0%|          | 7/3572 [18:02<113:31:09, 114.63s/it]"
     ]
    },
    {
     "name": "stdout",
     "output_type": "stream",
     "text": [
      "Processed D:/gbif_downloads\\0162339-230224095556074.csv\n",
      "Deleted extracted file D:/gbif_downloads\\0162339-230224095556074.csv\n",
      "Deleted D:/gbif_downloads\\0162339-230224095556074.zip\n",
      "Saving DOI 10.32383/appdr/185727 to D:/gbif_skip_files/processed_dois.txt\n",
      "Saved DOI 10.32383/appdr/185727 to skip file\n",
      "Skipping already processed DOI: 10.3390/fishes9040148\n",
      "Downloading https://api.gbif.org/v1/occurrence/download/request/0227785-230224095556074.zip\n"
     ]
    },
    {
     "name": "stderr",
     "output_type": "stream",
     "text": [
      "\r",
      "Downloading and processing GBIF data:   0%|          | 9/3572 [18:02<71:04:08, 71.81s/it]  "
     ]
    },
    {
     "name": "stdout",
     "output_type": "stream",
     "text": [
      "Downloaded D:/gbif_downloads\\0227785-230224095556074.zip\n",
      "Saving downloaded key 0227785-230224095556074 to D:/gbif_skip_files/downloaded_keys.txt\n",
      "Unzipping D:/gbif_downloads\\0227785-230224095556074.zip\n",
      "Extracted files: ['0227785-230224095556074.csv']\n",
      "Processing D:/gbif_downloads\\0227785-230224095556074.csv\n",
      "Processed D:/gbif_downloads\\0227785-230224095556074.csv\n",
      "Deleted extracted file D:/gbif_downloads\\0227785-230224095556074.csv\n",
      "Deleted D:/gbif_downloads\\0227785-230224095556074.zip\n",
      "Saving DOI 10.1007/s10681-024-03317-2 to D:/gbif_skip_files/processed_dois.txt\n",
      "Saved DOI 10.1007/s10681-024-03317-2 to skip file\n",
      "Downloading https://api.gbif.org/v1/occurrence/download/request/0215706-220831081235567.zip\n",
      "Downloaded D:/gbif_downloads\\0215706-220831081235567.zip\n",
      "Saving downloaded key 0215706-220831081235567 to D:/gbif_skip_files/downloaded_keys.txt\n",
      "Unzipping D:/gbif_downloads\\0215706-220831081235567.zip\n",
      "Extracted files: ['0215706-220831081235567.csv']\n",
      "Processing D:/gbif_downloads\\0215706-220831081235567.csv\n"
     ]
    },
    {
     "name": "stderr",
     "output_type": "stream",
     "text": [
      "\r",
      "Downloading and processing GBIF data:   0%|          | 10/3572 [18:07<57:03:38, 57.67s/it]"
     ]
    },
    {
     "name": "stdout",
     "output_type": "stream",
     "text": [
      "Processed D:/gbif_downloads\\0215706-220831081235567.csv\n",
      "Deleted extracted file D:/gbif_downloads\\0215706-220831081235567.csv\n",
      "Deleted D:/gbif_downloads\\0215706-220831081235567.zip\n",
      "Saving DOI 10.1007/s10750-024-05554-x to D:/gbif_skip_files/processed_dois.txt\n",
      "Saved DOI 10.1007/s10750-024-05554-x to skip file\n",
      "Downloading https://api.gbif.org/v1/occurrence/download/request/0197090-230224095556074.zip\n",
      "Downloaded D:/gbif_downloads\\0197090-230224095556074.zip\n",
      "Saving downloaded key 0197090-230224095556074 to D:/gbif_skip_files/downloaded_keys.txt\n",
      "Unzipping D:/gbif_downloads\\0197090-230224095556074.zip\n",
      "Extracted files: ['0197090-230224095556074.csv']\n",
      "Processing D:/gbif_downloads\\0197090-230224095556074.csv\n"
     ]
    },
    {
     "name": "stderr",
     "output_type": "stream",
     "text": [
      "\r",
      "Downloading and processing GBIF data:   0%|          | 11/3572 [18:09<44:18:31, 44.79s/it]"
     ]
    },
    {
     "name": "stdout",
     "output_type": "stream",
     "text": [
      "Processed D:/gbif_downloads\\0197090-230224095556074.csv\n",
      "Deleted extracted file D:/gbif_downloads\\0197090-230224095556074.csv\n",
      "Deleted D:/gbif_downloads\\0197090-230224095556074.zip\n",
      "Saving DOI 10.1016/j.ecoinf.2024.102604 to D:/gbif_skip_files/processed_dois.txt\n",
      "Saved DOI 10.1016/j.ecoinf.2024.102604 to skip file\n",
      "Downloading https://api.gbif.org/v1/occurrence/download/request/0077952-230224095556074.zip\n"
     ]
    },
    {
     "name": "stderr",
     "output_type": "stream",
     "text": [
      "\r",
      "Downloading and processing GBIF data:   0%|          | 12/3572 [18:10<33:26:29, 33.82s/it]"
     ]
    },
    {
     "name": "stdout",
     "output_type": "stream",
     "text": [
      "Downloaded D:/gbif_downloads\\0077952-230224095556074.zip\n",
      "Saving downloaded key 0077952-230224095556074 to D:/gbif_skip_files/downloaded_keys.txt\n",
      "Unzipping D:/gbif_downloads\\0077952-230224095556074.zip\n",
      "Extracted files: ['0077952-230224095556074.csv']\n",
      "Processing D:/gbif_downloads\\0077952-230224095556074.csv\n",
      "Processed D:/gbif_downloads\\0077952-230224095556074.csv\n",
      "Deleted extracted file D:/gbif_downloads\\0077952-230224095556074.csv\n",
      "Deleted D:/gbif_downloads\\0077952-230224095556074.zip\n",
      "Saving DOI 10.1093/jee/toae013 to D:/gbif_skip_files/processed_dois.txt\n",
      "Saved DOI 10.1093/jee/toae013 to skip file\n",
      "Downloading https://api.gbif.org/v1/occurrence/download/request/0016030-230828120925497.zip\n"
     ]
    },
    {
     "name": "stderr",
     "output_type": "stream",
     "text": [
      "\r",
      "Downloading and processing GBIF data:   0%|          | 13/3572 [18:10<24:46:15, 25.06s/it]"
     ]
    },
    {
     "name": "stdout",
     "output_type": "stream",
     "text": [
      "Downloaded D:/gbif_downloads\\0016030-230828120925497.zip\n",
      "Saving downloaded key 0016030-230828120925497 to D:/gbif_skip_files/downloaded_keys.txt\n",
      "Unzipping D:/gbif_downloads\\0016030-230828120925497.zip\n",
      "Extracted files: ['0016030-230828120925497.csv']\n",
      "Processing D:/gbif_downloads\\0016030-230828120925497.csv\n",
      "Processed D:/gbif_downloads\\0016030-230828120925497.csv\n",
      "Deleted extracted file D:/gbif_downloads\\0016030-230828120925497.csv\n",
      "Deleted D:/gbif_downloads\\0016030-230828120925497.zip\n",
      "Saving DOI 10.3897/zookeys.1196.116144 to D:/gbif_skip_files/processed_dois.txt\n",
      "Saved DOI 10.3897/zookeys.1196.116144 to skip file\n",
      "Downloading https://api.gbif.org/v1/occurrence/download/request/0054160-200221144449610.zip\n"
     ]
    },
    {
     "name": "stderr",
     "output_type": "stream",
     "text": [
      "\r",
      "Downloading and processing GBIF data:   0%|          | 14/3572 [18:11<18:06:40, 18.32s/it]"
     ]
    },
    {
     "name": "stdout",
     "output_type": "stream",
     "text": [
      "Downloaded D:/gbif_downloads\\0054160-200221144449610.zip\n",
      "Saving downloaded key 0054160-200221144449610 to D:/gbif_skip_files/downloaded_keys.txt\n",
      "Unzipping D:/gbif_downloads\\0054160-200221144449610.zip\n",
      "Extracted files: ['0054160-200221144449610.csv']\n",
      "Processing D:/gbif_downloads\\0054160-200221144449610.csv\n",
      "Processed D:/gbif_downloads\\0054160-200221144449610.csv\n",
      "Deleted extracted file D:/gbif_downloads\\0054160-200221144449610.csv\n",
      "Deleted D:/gbif_downloads\\0054160-200221144449610.zip\n",
      "Saving DOI 10.37828/em.2024.72.20 to D:/gbif_skip_files/processed_dois.txt\n",
      "Saved DOI 10.37828/em.2024.72.20 to skip file\n",
      "Downloading https://api.gbif.org/v1/occurrence/download/request/0417875-210914110416597.zip\n"
     ]
    },
    {
     "name": "stderr",
     "output_type": "stream",
     "text": [
      "\r",
      "Downloading and processing GBIF data:   0%|          | 15/3572 [18:11<13:09:50, 13.32s/it]"
     ]
    },
    {
     "name": "stdout",
     "output_type": "stream",
     "text": [
      "Downloaded D:/gbif_downloads\\0417875-210914110416597.zip\n",
      "Saving downloaded key 0417875-210914110416597 to D:/gbif_skip_files/downloaded_keys.txt\n",
      "Unzipping D:/gbif_downloads\\0417875-210914110416597.zip\n",
      "Extracted files: ['0417875-210914110416597.csv']\n",
      "Processing D:/gbif_downloads\\0417875-210914110416597.csv\n",
      "Processed D:/gbif_downloads\\0417875-210914110416597.csv\n",
      "Deleted extracted file D:/gbif_downloads\\0417875-210914110416597.csv\n",
      "Deleted D:/gbif_downloads\\0417875-210914110416597.zip\n",
      "Saving DOI 10.7494/geom.2024.18.3.45 to D:/gbif_skip_files/processed_dois.txt\n",
      "Saved DOI 10.7494/geom.2024.18.3.45 to skip file\n",
      "Downloading https://api.gbif.org/v1/occurrence/download/request/0081205-240229165702484.zip\n"
     ]
    },
    {
     "name": "stderr",
     "output_type": "stream",
     "text": [
      "\r",
      "Downloading and processing GBIF data:   0%|          | 16/3572 [18:11<9:29:40,  9.61s/it] "
     ]
    },
    {
     "name": "stdout",
     "output_type": "stream",
     "text": [
      "Downloaded D:/gbif_downloads\\0081205-240229165702484.zip\n",
      "Saving downloaded key 0081205-240229165702484 to D:/gbif_skip_files/downloaded_keys.txt\n",
      "Unzipping D:/gbif_downloads\\0081205-240229165702484.zip\n",
      "Extracted files: ['0081205-240229165702484.csv']\n",
      "Processing D:/gbif_downloads\\0081205-240229165702484.csv\n",
      "Processed D:/gbif_downloads\\0081205-240229165702484.csv\n",
      "Deleted extracted file D:/gbif_downloads\\0081205-240229165702484.csv\n",
      "Deleted D:/gbif_downloads\\0081205-240229165702484.zip\n",
      "Saving DOI 10.1007/s10113-024-02222-7 to D:/gbif_skip_files/processed_dois.txt\n",
      "Saved DOI 10.1007/s10113-024-02222-7 to skip file\n",
      "Downloading https://api.gbif.org/v1/occurrence/download/request/0034182-231120084113126.zip\n"
     ]
    },
    {
     "name": "stderr",
     "output_type": "stream",
     "text": [
      "\r",
      "Downloading and processing GBIF data:   0%|          | 17/3572 [18:12<6:51:38,  6.95s/it]"
     ]
    },
    {
     "name": "stdout",
     "output_type": "stream",
     "text": [
      "Downloaded D:/gbif_downloads\\0034182-231120084113126.zip\n",
      "Saving downloaded key 0034182-231120084113126 to D:/gbif_skip_files/downloaded_keys.txt\n",
      "Unzipping D:/gbif_downloads\\0034182-231120084113126.zip\n",
      "Extracted files: ['0034182-231120084113126.csv']\n",
      "Processing D:/gbif_downloads\\0034182-231120084113126.csv\n",
      "Processed D:/gbif_downloads\\0034182-231120084113126.csv\n",
      "Deleted extracted file D:/gbif_downloads\\0034182-231120084113126.csv\n",
      "Deleted D:/gbif_downloads\\0034182-231120084113126.zip\n",
      "Saving DOI 10.13057/biodiv/d250328 to D:/gbif_skip_files/processed_dois.txt\n",
      "Saved DOI 10.13057/biodiv/d250328 to skip file\n",
      "Skipping already processed DOI: 10.1002/ajb2.16322\n",
      "Downloading https://api.gbif.org/v1/occurrence/download/request/0227647-230224095556074.zip\n"
     ]
    },
    {
     "name": "stderr",
     "output_type": "stream",
     "text": [
      "\r",
      "Downloading and processing GBIF data:   1%|          | 19/3572 [18:12<3:51:18,  3.91s/it]"
     ]
    },
    {
     "name": "stdout",
     "output_type": "stream",
     "text": [
      "Downloaded D:/gbif_downloads\\0227647-230224095556074.zip\n",
      "Saving downloaded key 0227647-230224095556074 to D:/gbif_skip_files/downloaded_keys.txt\n",
      "Unzipping D:/gbif_downloads\\0227647-230224095556074.zip\n",
      "Extracted files: ['0227647-230224095556074.csv']\n",
      "Processing D:/gbif_downloads\\0227647-230224095556074.csv\n",
      "Processed D:/gbif_downloads\\0227647-230224095556074.csv\n",
      "Deleted extracted file D:/gbif_downloads\\0227647-230224095556074.csv\n",
      "Deleted D:/gbif_downloads\\0227647-230224095556074.zip\n",
      "Saving DOI 10.1111/eea.13451 to D:/gbif_skip_files/processed_dois.txt\n",
      "Saved DOI 10.1111/eea.13451 to skip file\n",
      "Downloading https://api.gbif.org/v1/occurrence/download/request/0193290-220831081235567.zip\n",
      "Downloaded D:/gbif_downloads\\0193290-220831081235567.zip\n",
      "Saving downloaded key 0193290-220831081235567 to D:/gbif_skip_files/downloaded_keys.txt\n",
      "Unzipping D:/gbif_downloads\\0193290-220831081235567.zip\n",
      "Extracted files: ['0193290-220831081235567.csv']\n",
      "Processing D:/gbif_downloads\\0193290-220831081235567.csv\n"
     ]
    },
    {
     "name": "stderr",
     "output_type": "stream",
     "text": [
      "\r",
      "Downloading and processing GBIF data:   1%|          | 20/3572 [18:58<13:52:42, 14.07s/it]"
     ]
    },
    {
     "name": "stdout",
     "output_type": "stream",
     "text": [
      "Processed D:/gbif_downloads\\0193290-220831081235567.csv\n",
      "Deleted extracted file D:/gbif_downloads\\0193290-220831081235567.csv\n",
      "Deleted D:/gbif_downloads\\0193290-220831081235567.zip\n",
      "Saving DOI 10.1111/oik.10217 to D:/gbif_skip_files/processed_dois.txt\n",
      "Saved DOI 10.1111/oik.10217 to skip file\n",
      "Downloading https://api.gbif.org/v1/occurrence/download/request/0407383-210914110416597.zip\n",
      "Downloaded D:/gbif_downloads\\0407383-210914110416597.zip\n",
      "Saving downloaded key 0407383-210914110416597 to D:/gbif_skip_files/downloaded_keys.txt\n",
      "Unzipping D:/gbif_downloads\\0407383-210914110416597.zip\n",
      "Extracted files: ['0407383-210914110416597.csv']\n",
      "Processing D:/gbif_downloads\\0407383-210914110416597.csv\n"
     ]
    },
    {
     "name": "stderr",
     "output_type": "stream",
     "text": [
      "\r",
      "Downloading and processing GBIF data:   1%|          | 21/3572 [19:01<11:09:50, 11.32s/it]"
     ]
    },
    {
     "name": "stdout",
     "output_type": "stream",
     "text": [
      "Processed D:/gbif_downloads\\0407383-210914110416597.csv\n",
      "Deleted extracted file D:/gbif_downloads\\0407383-210914110416597.csv\n",
      "Deleted D:/gbif_downloads\\0407383-210914110416597.zip\n",
      "Saving DOI 10.1016/j.scitotenv.2024.172519 to D:/gbif_skip_files/processed_dois.txt\n",
      "Saved DOI 10.1016/j.scitotenv.2024.172519 to skip file\n",
      "Downloading https://api.gbif.org/v1/occurrence/download/request/0014654-230224095556074.zip\n"
     ]
    },
    {
     "name": "stderr",
     "output_type": "stream",
     "text": [
      "\r",
      "Downloading and processing GBIF data:   1%|          | 22/3572 [19:01<8:14:13,  8.35s/it] "
     ]
    },
    {
     "name": "stdout",
     "output_type": "stream",
     "text": [
      "Failed to download data for key 0014654-230224095556074: 404 Not Found\n",
      "Skipping already processed DOI: 10.1002/tax.13173\n",
      "Downloading https://api.gbif.org/v1/occurrence/download/request/0202277-220831081235567.zip\n"
     ]
    }
   ],
   "source": [
    "# Call the function with the filtered entries and specify the skip file and downloaded keys file\n",
    "skip_file = \"D:/gbif_skip_files/processed_dois.txt\"  # Change to D drive and use a subdirectory\n",
    "downloaded_keys_file = \"D:/gbif_skip_files/downloaded_keys.txt\"  # Change to D drive and use a subdirectory\n",
    "download_and_process_gbif_data(filtered_entries, skip_file, downloaded_keys_file)"
   ]
  },
  {
   "cell_type": "code",
   "execution_count": null,
   "id": "e52c77d3",
   "metadata": {},
   "outputs": [],
   "source": []
  }
 ],
 "metadata": {
  "kernelspec": {
   "display_name": "Python 3 (ipykernel)",
   "language": "python",
   "name": "python3"
  },
  "language_info": {
   "codemirror_mode": {
    "name": "ipython",
    "version": 3
   },
   "file_extension": ".py",
   "mimetype": "text/x-python",
   "name": "python",
   "nbconvert_exporter": "python",
   "pygments_lexer": "ipython3",
   "version": "3.11.4"
  }
 },
 "nbformat": 4,
 "nbformat_minor": 5
}
