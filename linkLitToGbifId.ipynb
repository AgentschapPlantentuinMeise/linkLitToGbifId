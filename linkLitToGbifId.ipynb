{
 "cells": [
  {
   "cell_type": "code",
   "execution_count": 4,
   "id": "13744c2e",
   "metadata": {},
   "outputs": [],
   "source": [
    "import requests\n",
    "import json\n",
    "from tqdm import tqdm\n",
    "import os  # Import os module for directory management\n",
    "import zipfile\n",
    "import csv\n",
    "import sys"
   ]
  },
  {
   "cell_type": "code",
   "execution_count": 5,
   "id": "53fb823b",
   "metadata": {},
   "outputs": [],
   "source": [
    "# Define the API endpoint and initial parameters\n",
    "api_url = \"https://api.gbif.org/v1/literature/search\"\n",
    "params = {\n",
    "    \"contentType\": \"literature\",\n",
    "    \"literatureType\": [\"journal\", \"working_paper\"],\n",
    "    \"relevance\": \"GBIF_USED\",\n",
    "    \"peerReview\": \"true\",\n",
    "    \"limit\": 10,\n",
    "    \"offset\": 0  # Start from the beginning\n",
    "}"
   ]
  },
  {
   "cell_type": "code",
   "execution_count": 6,
   "id": "5f9264f2",
   "metadata": {},
   "outputs": [],
   "source": [
    "# Function to get data from the API\n",
    "def fetch_data(params):\n",
    "    response = requests.get(api_url, params=params)\n",
    "    if response.status_code == 200:\n",
    "        return response.json()\n",
    "    else:\n",
    "        print(f\"Failed to fetch data: {response.status_code}\")\n",
    "        return None"
   ]
  },
  {
   "cell_type": "code",
   "execution_count": 7,
   "id": "0f60f60a",
   "metadata": {},
   "outputs": [],
   "source": [
    "# Function to extract all entries and filter those with content in gbifDownloadKey\n",
    "def extract_filtered_entries():\n",
    "    all_entries = []\n",
    "    params['offset'] = 0  # Ensure offset starts at 0\n",
    "    \n",
    "    # Fetch initial data to determine total number of results\n",
    "    initial_data = fetch_data(params)\n",
    "    if not initial_data or 'count' not in initial_data:\n",
    "        print(\"Failed to fetch initial data or count not available.\")\n",
    "        return []\n",
    "    \n",
    "    total_results = initial_data['count']\n",
    "    print(f\"Total results to fetch: {total_results}\")\n",
    "    \n",
    "    with tqdm(total=total_results, desc=\"Fetching entries\") as pbar:\n",
    "        while True:\n",
    "            data = fetch_data(params)\n",
    "            if data and 'results' in data:\n",
    "                # Filter entries that have content in gbifDownloadKey\n",
    "                filtered_entries = [entry for entry in data['results'] if entry.get('gbifDownloadKey')]\n",
    "                all_entries.extend(filtered_entries)\n",
    "                pbar.update(len(data['results']))\n",
    "                if len(data['results']) < params['limit']:\n",
    "                    # No more data to fetch\n",
    "                    break\n",
    "                else:\n",
    "                    # Move to the next page\n",
    "                    params['offset'] += params['limit']\n",
    "            else:\n",
    "                break\n",
    "            \n",
    "    return all_entries"
   ]
  },
  {
   "cell_type": "code",
   "execution_count": 8,
   "id": "4206f485",
   "metadata": {},
   "outputs": [
    {
     "name": "stdout",
     "output_type": "stream",
     "text": [
      "Total results to fetch: 10585\n"
     ]
    },
    {
     "name": "stderr",
     "output_type": "stream",
     "text": [
      "Fetching entries: 100%|██████████| 10585/10585 [04:38<00:00, 38.05it/s]\n"
     ]
    },
    {
     "name": "stdout",
     "output_type": "stream",
     "text": [
      "Total filtered entries fetched: 3572\n"
     ]
    }
   ],
   "source": [
    "# Extract and filter entries\n",
    "filtered_entries = extract_filtered_entries()\n",
    "\n",
    "# Optionally, save the data to a file\n",
    "with open('filtered_gbif_entries.json', 'w') as f:\n",
    "    json.dump(filtered_entries, f, indent=2)\n",
    "\n",
    "# Print the number of filtered entries fetched\n",
    "print(f\"Total filtered entries fetched: {len(filtered_entries)}\")"
   ]
  },
  {
   "cell_type": "markdown",
   "id": "03b7b9a0",
   "metadata": {
    "scrolled": false
   },
   "source": [
    "### Summary:\n",
    "- **Increase Field Size Limit**: The script sets the field size limit for CSV processing to 1,000,000 characters to handle large fields.\n",
    "- **Load and Save Processed DOIs**: Functions to load and save DOIs to track which entries have been processed.\n",
    "- **Download and Process Data**: The main function to download, unzip, process, and filter data, ensuring only preserved specimens are kept, and appending results to an output file on the D drive.\n",
    "- **Directory Checks**: Ensures necessary directories exist before writing files."
   ]
  },
  {
   "cell_type": "code",
   "execution_count": 27,
   "id": "a3066394",
   "metadata": {
    "scrolled": false
   },
   "outputs": [],
   "source": [
    "# Increase the CSV field size limit to a large value\n",
    "csv.field_size_limit(10**6)\n",
    "\n",
    "# Function to load processed DOIs from skip file\n",
    "def load_processed_dois(skip_file):\n",
    "    if os.path.exists(skip_file):\n",
    "        with open(skip_file, 'r', encoding='utf-8') as file:\n",
    "            return set(line.strip() for line in file)\n",
    "    return set()\n",
    "\n",
    "# Function to save a DOI to the skip file\n",
    "def save_processed_doi(skip_file, doi):\n",
    "    with open(skip_file, 'a', encoding='utf-8') as file:\n",
    "        file.write(doi + '\\n')\n",
    "\n",
    "# Function to download, unzip, process data using gbifDownloadKey, and delete zip files and extracted contents\n",
    "def download_and_process_gbif_data(filtered_entries, skip_file):\n",
    "    base_url = \"https://api.gbif.org/v1/occurrence/download/request/\"\n",
    "    download_dir = \"D:/gbif_downloads\"  # Change to D drive\n",
    "    error_log = \"D:/gbif_errors/error_log.txt\"  # Change to D drive and use a subdirectory\n",
    "    output_file = \"D:/gbif_outputs/output_data.csv\"  # Change to D drive and use a subdirectory\n",
    "    \n",
    "    # Ensure the directories exist\n",
    "    if not os.path.exists(download_dir):\n",
    "        os.makedirs(download_dir)\n",
    "    if not os.path.exists(os.path.dirname(error_log)):\n",
    "        os.makedirs(os.path.dirname(error_log))\n",
    "    if not os.path.exists(os.path.dirname(output_file)):\n",
    "        os.makedirs(os.path.dirname(output_file))\n",
    "    if not os.path.exists(os.path.dirname(skip_file)):\n",
    "        os.makedirs(os.path.dirname(skip_file))\n",
    "    \n",
    "    # Load processed DOIs\n",
    "    processed_dois = load_processed_dois(skip_file)\n",
    "    \n",
    "    # Determine if we need to write the header\n",
    "    write_header = not os.path.exists(output_file)\n",
    "    \n",
    "    # Open the output CSV file in append mode\n",
    "    with open(output_file, 'a', newline='', encoding='utf-8') as csvfile:\n",
    "        fieldnames = ['gbifID', 'year', 'countryCode', 'gbifDownloadKey', 'doi']\n",
    "        writer = csv.DictWriter(csvfile, fieldnames=fieldnames)\n",
    "        \n",
    "        # Write the header if the file did not exist before\n",
    "        if write_header:\n",
    "            writer.writeheader()\n",
    "        \n",
    "        with open(error_log, 'w') as error_file:\n",
    "            for entry in tqdm(filtered_entries, desc=\"Downloading and processing GBIF data\"):\n",
    "                try:\n",
    "                    identifiers = entry.get('identifiers', {})\n",
    "                    doi = identifiers.get('doi', '')\n",
    "                    if doi in processed_dois:\n",
    "                        print(f\"Skipping already processed DOI: {doi}\")\n",
    "                        continue\n",
    "                    \n",
    "                    key = entry.get('gbifDownloadKey', [])[0]\n",
    "                    file_path = os.path.join(download_dir, f\"{key}.zip\")\n",
    "                    \n",
    "                    # Check if file already exists\n",
    "                    if os.path.exists(file_path):\n",
    "                        print(f\"File {file_path} already exists. Skipping download.\")\n",
    "                        continue\n",
    "                    \n",
    "                    # Download the zip file\n",
    "                    download_url = f\"{base_url}{key}.zip\"\n",
    "                    print(f\"Downloading {download_url}\")\n",
    "                    response = requests.get(download_url, stream=True)\n",
    "                    if response.status_code == 200:\n",
    "                        with open(file_path, 'wb') as file:\n",
    "                            for chunk in response.iter_content(chunk_size=1024):\n",
    "                                file.write(chunk)\n",
    "                        print(f\"Downloaded {file_path}\")\n",
    "                    elif response.status_code == 404:\n",
    "                        error_message = f\"Failed to download data for key {key}: 404 Not Found\"\n",
    "                        error_file.write(error_message + '\\n')\n",
    "                        print(error_message)\n",
    "                        continue\n",
    "                    else:\n",
    "                        error_message = f\"Failed to download data for key {key}: {response.status_code}\"\n",
    "                        error_file.write(error_message + '\\n')\n",
    "                        print(error_message)\n",
    "                        continue\n",
    "                \n",
    "                    # Unzip the downloaded file and extract required information\n",
    "                    try:\n",
    "                        print(f\"Unzipping {file_path}\")\n",
    "                        with zipfile.ZipFile(file_path, 'r') as zip_ref:\n",
    "                            zip_ref.extractall(download_dir)\n",
    "                            extracted_files = zip_ref.namelist()\n",
    "                            \n",
    "                            # Process each extracted file\n",
    "                            for extracted_file in extracted_files:\n",
    "                                if 'occurrence' in extracted_file and extracted_file.endswith('.txt'):\n",
    "                                    occurrence_file_path = os.path.join(download_dir, extracted_file)\n",
    "                                    print(f\"Processing {occurrence_file_path}\")\n",
    "                                    with open(occurrence_file_path, newline='', encoding='utf-8') as occurrence_file:\n",
    "                                        reader = csv.DictReader(occurrence_file, delimiter='\\t')\n",
    "                                        for row in reader:\n",
    "                                            if row['basisOfRecord'] == 'PRESERVED_SPECIMEN':\n",
    "                                                writer.writerow({\n",
    "                                                    'gbifID': row['gbifID'],\n",
    "                                                    'year': row['year'],\n",
    "                                                    'countryCode': row['countryCode'],\n",
    "                                                    'gbifDownloadKey': key,\n",
    "                                                    'doi': doi\n",
    "                                                })\n",
    "                                    print(f\"Processed {occurrence_file_path}\")\n",
    "                                    # Ensure the file is closed before deleting it\n",
    "                                    del reader\n",
    "                                    os.remove(occurrence_file_path)\n",
    "                                    print(f\"Deleted extracted file {occurrence_file_path}\")\n",
    "                        \n",
    "                        # Ensure the zip file is closed before deleting it\n",
    "                        del zip_ref\n",
    "                        os.remove(file_path)\n",
    "                        print(f\"Deleted {file_path}\")\n",
    "                        \n",
    "                        # Save the DOI to the skip file\n",
    "                        save_processed_doi(skip_file, doi)\n",
    "                        print(f\"Saved DOI {doi} to skip file\")\n",
    "                    except zipfile.BadZipFile:\n",
    "                        error_message = f\"Bad zip file {file_path}\"\n",
    "                        error_file.write(error_message + '\\n')\n",
    "                        print(error_message)\n",
    "                    except Exception as e:\n",
    "                        error_message = f\"Failed to process file {file_path}: {str(e)}\"\n",
    "                        error_file.write(error_message + '\\n')\n",
    "                        print(error_message)\n",
    "                except requests.exceptions.RequestException as e:\n",
    "                    error_message = f\"Request error for key {key}: {str(e)}\"\n",
    "                    error_file.write(error_message + '\\n')\n",
    "                    print(error_message)\n",
    "                except Exception as e:\n",
    "                    error_message = f\"Unexpected error for key {key}: {str(e)}\"\n",
    "                    error_file.write(error_message + '\\n')\n",
    "                    print(error_message)"
   ]
  },
  {
   "cell_type": "code",
   "execution_count": null,
   "id": "18e39fbf",
   "metadata": {
    "scrolled": false
   },
   "outputs": [
    {
     "name": "stderr",
     "output_type": "stream",
     "text": [
      "\r",
      "Downloading and processing GBIF data:   0%|          | 0/3572 [00:00<?, ?it/s]"
     ]
    },
    {
     "name": "stdout",
     "output_type": "stream",
     "text": [
      "Skipping already processed DOI: 10.15666/aeer/2202_18851902\n",
      "File D:/gbif_downloads\\0013673-171219132708484.zip already exists. Skipping download.\n",
      "File D:/gbif_downloads\\0388302-210914110416597.zip already exists. Skipping download.\n",
      "Skipping already processed DOI: 10.1007/s10531-024-02851-8\n",
      "File D:/gbif_downloads\\0029038-231120084113126.zip already exists. Skipping download.\n",
      "Skipping already processed DOI: 10.1007/s10530-024-03313-6\n",
      "Skipping already processed DOI: 10.32383/appdr/185727\n",
      "File D:/gbif_downloads\\0097129-210914110416597.zip already exists. Skipping download.\n",
      "Skipping already processed DOI: 10.1007/s10681-024-03317-2\n",
      "Skipping already processed DOI: 10.1007/s10750-024-05554-x\n",
      "Skipping already processed DOI: 10.1016/j.ecoinf.2024.102604\n",
      "Skipping already processed DOI: 10.1093/jee/toae013\n",
      "Skipping already processed DOI: 10.3897/zookeys.1196.116144\n",
      "Skipping already processed DOI: 10.37828/em.2024.72.20\n",
      "Skipping already processed DOI: 10.7494/geom.2024.18.3.45\n",
      "Skipping already processed DOI: 10.1007/s10113-024-02222-7\n",
      "Skipping already processed DOI: 10.13057/biodiv/d250328\n",
      "File D:/gbif_downloads\\0009223-180412121330197.zip already exists. Skipping download.\n",
      "Skipping already processed DOI: 10.1111/eea.13451\n",
      "Skipping already processed DOI: 10.1111/oik.10217\n",
      "Skipping already processed DOI: 10.1016/j.scitotenv.2024.172519\n",
      "Downloading https://api.gbif.org/v1/occurrence/download/request/0014654-230224095556074.zip\n"
     ]
    },
    {
     "name": "stderr",
     "output_type": "stream",
     "text": [
      "\r",
      "Downloading and processing GBIF data:   1%|          | 22/3572 [00:00<00:53, 66.09it/s]"
     ]
    },
    {
     "name": "stdout",
     "output_type": "stream",
     "text": [
      "Failed to download data for key 0014654-230224095556074: 404 Not Found\n",
      "File D:/gbif_downloads\\0086008-230530130749713.zip already exists. Skipping download.\n",
      "File D:/gbif_downloads\\0202277-220831081235567.zip already exists. Skipping download.\n",
      "Skipping already processed DOI: 10.1002/ecs2.4837\n",
      "Skipping already processed DOI: 10.1002/ps.8128\n",
      "Skipping already processed DOI: 10.15560/20.2.536\n",
      "Skipping already processed DOI: 10.1111/eff.12784\n",
      "Skipping already processed DOI: 10.1111/mec.17347\n",
      "Skipping already processed DOI: 10.1111/gcb.17282\n",
      "Skipping already processed DOI: 10.1093/botlinnean/boae019\n",
      "Skipping already processed DOI: 10.1007/s10340-024-01767-0\n",
      "Skipping already processed DOI: 10.1038/s41558-024-01966-8\n",
      "Skipping already processed DOI: 10.1002/ecs2.4830\n",
      "Skipping already processed DOI: 10.1111/geb.13847\n",
      "Skipping already processed DOI: 10.26577/eb.2024.v98.i1.010\n",
      "Skipping already processed DOI: 10.1038/s41467-024-46818-3\n",
      "File D:/gbif_downloads\\0431196-210914110416597.zip already exists. Skipping download.\n",
      "Skipping already processed DOI: 10.3390/d16040223\n",
      "File D:/gbif_downloads\\0329580-210914110416597.zip already exists. Skipping download.\n",
      "Downloading https://api.gbif.org/v1/occurrence/download/request/0009059-230828120925497.zip\n",
      "Downloaded D:/gbif_downloads\\0009059-230828120925497.zip\n",
      "Unzipping D:/gbif_downloads\\0009059-230828120925497.zip\n",
      "Processing D:/gbif_downloads\\occurrence.txt\n"
     ]
    },
    {
     "name": "stderr",
     "output_type": "stream",
     "text": [
      "\r",
      "Downloading and processing GBIF data:   1%|          | 41/3572 [00:03<05:50, 10.09it/s]"
     ]
    },
    {
     "name": "stdout",
     "output_type": "stream",
     "text": [
      "Processed D:/gbif_downloads\\occurrence.txt\n",
      "Deleted extracted file D:/gbif_downloads\\occurrence.txt\n",
      "Deleted D:/gbif_downloads\\0009059-230828120925497.zip\n",
      "Saved DOI 10.11646/phytotaxa.639.1.1 to skip file\n",
      "Downloading https://api.gbif.org/v1/occurrence/download/request/0108569-210914110416597.zip\n",
      "Downloaded D:/gbif_downloads\\0108569-210914110416597.zip\n",
      "Unzipping D:/gbif_downloads\\0108569-210914110416597.zip\n",
      "Deleted D:/gbif_downloads\\0108569-210914110416597.zip\n",
      "Saved DOI 10.3897/bdj.12.e118854 to skip file\n",
      "Downloading https://api.gbif.org/v1/occurrence/download/request/0068135-200221144449610.zip\n"
     ]
    },
    {
     "name": "stderr",
     "output_type": "stream",
     "text": [
      "\r",
      "Downloading and processing GBIF data:   1%|          | 41/3572 [00:19<05:50, 10.09it/s]"
     ]
    },
    {
     "name": "stdout",
     "output_type": "stream",
     "text": [
      "Downloaded D:/gbif_downloads\\0068135-200221144449610.zip\n",
      "Unzipping D:/gbif_downloads\\0068135-200221144449610.zip\n",
      "Processing D:/gbif_downloads\\occurrence.txt\n",
      "Processed D:/gbif_downloads\\occurrence.txt\n"
     ]
    },
    {
     "name": "stderr",
     "output_type": "stream",
     "text": [
      "\r",
      "Downloading and processing GBIF data:   1%|          | 43/3572 [15:29<34:53:22, 35.59s/it]"
     ]
    },
    {
     "name": "stdout",
     "output_type": "stream",
     "text": [
      "Deleted extracted file D:/gbif_downloads\\occurrence.txt\n",
      "Deleted D:/gbif_downloads\\0068135-200221144449610.zip\n",
      "Saved DOI 10.1111/jbi.14840 to skip file\n",
      "Downloading https://api.gbif.org/v1/occurrence/download/request/0196283-230224095556074.zip\n",
      "Downloaded D:/gbif_downloads\\0196283-230224095556074.zip\n",
      "Unzipping D:/gbif_downloads\\0196283-230224095556074.zip\n",
      "Processing D:/gbif_downloads\\occurrence.txt\n"
     ]
    },
    {
     "name": "stderr",
     "output_type": "stream",
     "text": [
      "\r",
      "Downloading and processing GBIF data:   1%|          | 44/3572 [15:44<33:51:29, 34.55s/it]"
     ]
    },
    {
     "name": "stdout",
     "output_type": "stream",
     "text": [
      "Processed D:/gbif_downloads\\occurrence.txt\n",
      "Deleted extracted file D:/gbif_downloads\\occurrence.txt\n",
      "Deleted D:/gbif_downloads\\0196283-230224095556074.zip\n",
      "Saved DOI 10.21829/abm131.2024.2287 to skip file\n",
      "Downloading https://api.gbif.org/v1/occurrence/download/request/0072196-230224095556074.zip\n"
     ]
    },
    {
     "name": "stderr",
     "output_type": "stream",
     "text": [
      "\r",
      "Downloading and processing GBIF data:   1%|▏         | 45/3572 [15:45<31:32:17, 32.19s/it]"
     ]
    },
    {
     "name": "stdout",
     "output_type": "stream",
     "text": [
      "Downloaded D:/gbif_downloads\\0072196-230224095556074.zip\n",
      "Unzipping D:/gbif_downloads\\0072196-230224095556074.zip\n",
      "Deleted D:/gbif_downloads\\0072196-230224095556074.zip\n",
      "Saved DOI 10.1007/s13744-024-01148-3 to skip file\n",
      "Downloading https://api.gbif.org/v1/occurrence/download/request/0235288-200613084148143.zip\n"
     ]
    },
    {
     "name": "stderr",
     "output_type": "stream",
     "text": [
      "\r",
      "Downloading and processing GBIF data:   1%|▏         | 45/3572 [16:00<31:32:17, 32.19s/it]"
     ]
    },
    {
     "name": "stdout",
     "output_type": "stream",
     "text": [
      "Downloaded D:/gbif_downloads\\0235288-200613084148143.zip\n",
      "Unzipping D:/gbif_downloads\\0235288-200613084148143.zip\n"
     ]
    },
    {
     "name": "stderr",
     "output_type": "stream",
     "text": [
      "\r",
      "Downloading and processing GBIF data:   1%|▏         | 46/3572 [41:07<162:34:03, 165.98s/it]"
     ]
    },
    {
     "name": "stdout",
     "output_type": "stream",
     "text": [
      "Deleted D:/gbif_downloads\\0235288-200613084148143.zip\n",
      "Saved DOI 10.1111/ecog.07010 to skip file\n",
      "Downloading https://api.gbif.org/v1/occurrence/download/request/0205840-200613084148143.zip\n"
     ]
    },
    {
     "name": "stderr",
     "output_type": "stream",
     "text": [
      "\r",
      "Downloading and processing GBIF data:   1%|▏         | 47/3572 [41:07<144:06:31, 147.17s/it]"
     ]
    },
    {
     "name": "stdout",
     "output_type": "stream",
     "text": [
      "Downloaded D:/gbif_downloads\\0205840-200613084148143.zip\n",
      "Unzipping D:/gbif_downloads\\0205840-200613084148143.zip\n",
      "Deleted D:/gbif_downloads\\0205840-200613084148143.zip\n",
      "Saved DOI 10.7717/peerj.17178 to skip file\n",
      "Downloading https://api.gbif.org/v1/occurrence/download/request/0019192-230530130749713.zip\n",
      "Downloaded D:/gbif_downloads\\0019192-230530130749713.zip\n",
      "Unzipping D:/gbif_downloads\\0019192-230530130749713.zip\n",
      "Deleted D:/gbif_downloads\\0019192-230530130749713.zip\n",
      "Saved DOI 10.1111/njb.04250 to skip file\n",
      "Downloading https://api.gbif.org/v1/occurrence/download/request/0060507-230224095556074.zip\n"
     ]
    },
    {
     "name": "stderr",
     "output_type": "stream",
     "text": [
      "\r",
      "Downloading and processing GBIF data:   1%|▏         | 47/3572 [41:21<144:06:31, 147.17s/it]"
     ]
    },
    {
     "name": "stdout",
     "output_type": "stream",
     "text": [
      "Downloaded D:/gbif_downloads\\0060507-230224095556074.zip\n",
      "Unzipping D:/gbif_downloads\\0060507-230224095556074.zip\n"
     ]
    },
    {
     "name": "stderr",
     "output_type": "stream",
     "text": [
      "\r",
      "Downloading and processing GBIF data:   1%|▏         | 49/3572 [42:24<117:55:52, 120.51s/it]"
     ]
    },
    {
     "name": "stdout",
     "output_type": "stream",
     "text": [
      "Deleted D:/gbif_downloads\\0060507-230224095556074.zip\n",
      "Saved DOI 10.1002/ajb2.16308 to skip file\n",
      "Downloading https://api.gbif.org/v1/occurrence/download/request/0130501-230224095556074.zip\n"
     ]
    },
    {
     "name": "stderr",
     "output_type": "stream",
     "text": [
      "\r",
      "Downloading and processing GBIF data:   1%|▏         | 50/3572 [42:25<100:22:30, 102.60s/it]"
     ]
    },
    {
     "name": "stdout",
     "output_type": "stream",
     "text": [
      "Downloaded D:/gbif_downloads\\0130501-230224095556074.zip\n",
      "Unzipping D:/gbif_downloads\\0130501-230224095556074.zip\n",
      "Deleted D:/gbif_downloads\\0130501-230224095556074.zip\n",
      "Saved DOI 10.3897/zookeys.1197.114679 to skip file\n",
      "Downloading https://api.gbif.org/v1/occurrence/download/request/0023642-240216155721649.zip\n"
     ]
    },
    {
     "name": "stderr",
     "output_type": "stream",
     "text": [
      "\r",
      "Downloading and processing GBIF data:   1%|▏         | 51/3572 [42:25<82:51:44, 84.72s/it]  "
     ]
    },
    {
     "name": "stdout",
     "output_type": "stream",
     "text": [
      "Downloaded D:/gbif_downloads\\0023642-240216155721649.zip\n",
      "Unzipping D:/gbif_downloads\\0023642-240216155721649.zip\n",
      "Deleted D:/gbif_downloads\\0023642-240216155721649.zip\n",
      "Saved DOI 10.1016/j.sajb.2024.03.022 to skip file\n",
      "Downloading https://api.gbif.org/v1/occurrence/download/request/0098841-230530130749713.zip\n",
      "Downloaded D:/gbif_downloads\\0098841-230530130749713.zip\n",
      "Unzipping D:/gbif_downloads\\0098841-230530130749713.zip\n",
      "Processing D:/gbif_downloads\\occurrence.txt\n"
     ]
    },
    {
     "name": "stderr",
     "output_type": "stream",
     "text": [
      "\r",
      "Downloading and processing GBIF data:   1%|▏         | 52/3572 [42:29<66:52:59, 68.40s/it]"
     ]
    },
    {
     "name": "stdout",
     "output_type": "stream",
     "text": [
      "Processed D:/gbif_downloads\\occurrence.txt\n",
      "Deleted extracted file D:/gbif_downloads\\occurrence.txt\n",
      "Deleted D:/gbif_downloads\\0098841-230530130749713.zip\n",
      "Saved DOI 10.1007/s11056-024-10040-2 to skip file\n",
      "Downloading https://api.gbif.org/v1/occurrence/download/request/0109954-230224095556074.zip\n",
      "Downloaded D:/gbif_downloads\\0109954-230224095556074.zip\n",
      "Unzipping D:/gbif_downloads\\0109954-230224095556074.zip\n",
      "Processing D:/gbif_downloads\\occurrence.txt\n"
     ]
    },
    {
     "name": "stderr",
     "output_type": "stream",
     "text": [
      "\r",
      "Downloading and processing GBIF data:   1%|▏         | 53/3572 [42:30<52:11:28, 53.39s/it]"
     ]
    },
    {
     "name": "stdout",
     "output_type": "stream",
     "text": [
      "Processed D:/gbif_downloads\\occurrence.txt\n",
      "Deleted extracted file D:/gbif_downloads\\occurrence.txt\n",
      "Deleted D:/gbif_downloads\\0109954-230224095556074.zip\n",
      "Saved DOI 10.1080/17550874.2024.2328832 to skip file\n",
      "Downloading https://api.gbif.org/v1/occurrence/download/request/0061890-200221144449610.zip\n"
     ]
    },
    {
     "name": "stderr",
     "output_type": "stream",
     "text": [
      "\r",
      "Downloading and processing GBIF data:   2%|▏         | 54/3572 [42:30<39:40:54, 40.61s/it]"
     ]
    },
    {
     "name": "stdout",
     "output_type": "stream",
     "text": [
      "Downloaded D:/gbif_downloads\\0061890-200221144449610.zip\n",
      "Unzipping D:/gbif_downloads\\0061890-200221144449610.zip\n",
      "Deleted D:/gbif_downloads\\0061890-200221144449610.zip\n",
      "Saved DOI 10.1007/s10531-024-02831-y to skip file\n",
      "Downloading https://api.gbif.org/v1/occurrence/download/request/0010584-230810091245214.zip\n"
     ]
    },
    {
     "name": "stderr",
     "output_type": "stream",
     "text": [
      "\r",
      "Downloading and processing GBIF data:   2%|▏         | 55/3572 [42:31<29:37:05, 30.32s/it]"
     ]
    },
    {
     "name": "stdout",
     "output_type": "stream",
     "text": [
      "Downloaded D:/gbif_downloads\\0010584-230810091245214.zip\n",
      "Unzipping D:/gbif_downloads\\0010584-230810091245214.zip\n",
      "Deleted D:/gbif_downloads\\0010584-230810091245214.zip\n",
      "Saved DOI 10.7717/peerj.17210 to skip file\n",
      "Downloading https://api.gbif.org/v1/occurrence/download/request/0238554-220831081235567.zip\n"
     ]
    },
    {
     "name": "stderr",
     "output_type": "stream",
     "text": [
      "\r",
      "Downloading and processing GBIF data:   2%|▏         | 56/3572 [42:31<21:47:18, 22.31s/it]"
     ]
    },
    {
     "name": "stdout",
     "output_type": "stream",
     "text": [
      "Downloaded D:/gbif_downloads\\0238554-220831081235567.zip\n",
      "Unzipping D:/gbif_downloads\\0238554-220831081235567.zip\n",
      "Deleted D:/gbif_downloads\\0238554-220831081235567.zip\n",
      "Saved DOI 10.1093/jee/toae060 to skip file\n",
      "Downloading https://api.gbif.org/v1/occurrence/download/request/0104897-230530130749713.zip\n"
     ]
    },
    {
     "name": "stderr",
     "output_type": "stream",
     "text": [
      "\r",
      "Downloading and processing GBIF data:   2%|▏         | 57/3572 [42:31<15:51:33, 16.24s/it]"
     ]
    },
    {
     "name": "stdout",
     "output_type": "stream",
     "text": [
      "Downloaded D:/gbif_downloads\\0104897-230530130749713.zip\n",
      "Unzipping D:/gbif_downloads\\0104897-230530130749713.zip\n",
      "Deleted D:/gbif_downloads\\0104897-230530130749713.zip\n",
      "Saved DOI 10.3390/conservation4020011 to skip file\n",
      "Downloading https://api.gbif.org/v1/occurrence/download/request/0044704-231120084113126.zip\n"
     ]
    },
    {
     "name": "stderr",
     "output_type": "stream",
     "text": [
      "\r",
      "Downloading and processing GBIF data:   2%|▏         | 58/3572 [42:32<11:30:08, 11.78s/it]"
     ]
    },
    {
     "name": "stdout",
     "output_type": "stream",
     "text": [
      "Downloaded D:/gbif_downloads\\0044704-231120084113126.zip\n",
      "Unzipping D:/gbif_downloads\\0044704-231120084113126.zip\n",
      "Deleted D:/gbif_downloads\\0044704-231120084113126.zip\n",
      "Saved DOI 10.17129/botsci.3364 to skip file\n",
      "Downloading https://api.gbif.org/v1/occurrence/download/request/0006411-200221144449610.zip\n"
     ]
    },
    {
     "name": "stderr",
     "output_type": "stream",
     "text": [
      "\r",
      "Downloading and processing GBIF data:   2%|▏         | 59/3572 [42:33<8:22:49,  8.59s/it] "
     ]
    },
    {
     "name": "stdout",
     "output_type": "stream",
     "text": [
      "Downloaded D:/gbif_downloads\\0006411-200221144449610.zip\n",
      "Unzipping D:/gbif_downloads\\0006411-200221144449610.zip\n",
      "Deleted D:/gbif_downloads\\0006411-200221144449610.zip\n",
      "Saved DOI 10.1111/jbi.14843 to skip file\n",
      "Downloading https://api.gbif.org/v1/occurrence/download/request/0051044-220831081235567.zip\n",
      "Downloaded D:/gbif_downloads\\0051044-220831081235567.zip\n",
      "Unzipping D:/gbif_downloads\\0051044-220831081235567.zip\n",
      "Processing D:/gbif_downloads\\occurrence.txt\n",
      "Processed D:/gbif_downloads\\occurrence.txt\n"
     ]
    },
    {
     "name": "stderr",
     "output_type": "stream",
     "text": [
      "\r",
      "Downloading and processing GBIF data:   2%|▏         | 60/3572 [48:48<112:49:09, 115.65s/it]"
     ]
    },
    {
     "name": "stdout",
     "output_type": "stream",
     "text": [
      "Deleted extracted file D:/gbif_downloads\\occurrence.txt\n",
      "Deleted D:/gbif_downloads\\0051044-220831081235567.zip\n",
      "Saved DOI 10.1111/jbi.14837 to skip file\n",
      "Downloading https://api.gbif.org/v1/occurrence/download/request/0028463-231120084113126.zip\n",
      "Downloaded D:/gbif_downloads\\0028463-231120084113126.zip\n",
      "Unzipping D:/gbif_downloads\\0028463-231120084113126.zip\n"
     ]
    },
    {
     "name": "stderr",
     "output_type": "stream",
     "text": [
      "\r",
      "Downloading and processing GBIF data:   2%|▏         | 61/3572 [48:50<80:04:34, 82.11s/it]  "
     ]
    },
    {
     "name": "stdout",
     "output_type": "stream",
     "text": [
      "Processing D:/gbif_downloads\\occurrence.txt\n",
      "Processed D:/gbif_downloads\\occurrence.txt\n",
      "Deleted extracted file D:/gbif_downloads\\occurrence.txt\n",
      "Deleted D:/gbif_downloads\\0028463-231120084113126.zip\n",
      "Saved DOI 10.1002/tax.13170 to skip file\n",
      "Downloading https://api.gbif.org/v1/occurrence/download/request/0294933-200613084148143.zip\n",
      "Downloaded D:/gbif_downloads\\0294933-200613084148143.zip\n",
      "Unzipping D:/gbif_downloads\\0294933-200613084148143.zip\n"
     ]
    },
    {
     "name": "stderr",
     "output_type": "stream",
     "text": [
      "\r",
      "Downloading and processing GBIF data:   2%|▏         | 62/3572 [1:02:49<298:21:55, 306.02s/it]"
     ]
    },
    {
     "name": "stdout",
     "output_type": "stream",
     "text": [
      "Deleted D:/gbif_downloads\\0294933-200613084148143.zip\n",
      "Saved DOI 10.1111/nph.19723 to skip file\n",
      "Downloading https://api.gbif.org/v1/occurrence/download/request/0007192-240216155721649.zip\n"
     ]
    },
    {
     "name": "stderr",
     "output_type": "stream",
     "text": [
      "\r",
      "Downloading and processing GBIF data:   2%|▏         | 63/3572 [1:02:50<209:56:57, 215.39s/it]"
     ]
    },
    {
     "name": "stdout",
     "output_type": "stream",
     "text": [
      "Downloaded D:/gbif_downloads\\0007192-240216155721649.zip\n",
      "Unzipping D:/gbif_downloads\\0007192-240216155721649.zip\n",
      "Deleted D:/gbif_downloads\\0007192-240216155721649.zip\n",
      "Saved DOI 10.1071/bt23104 to skip file\n",
      "Downloading https://api.gbif.org/v1/occurrence/download/request/0106579-230224095556074.zip\n"
     ]
    },
    {
     "name": "stderr",
     "output_type": "stream",
     "text": [
      "\r",
      "Downloading and processing GBIF data:   2%|▏         | 64/3572 [1:02:51<147:35:16, 151.46s/it]"
     ]
    },
    {
     "name": "stdout",
     "output_type": "stream",
     "text": [
      "Downloaded D:/gbif_downloads\\0106579-230224095556074.zip\n",
      "Unzipping D:/gbif_downloads\\0106579-230224095556074.zip\n",
      "Processing D:/gbif_downloads\\occurrence.txt\n",
      "Processed D:/gbif_downloads\\occurrence.txt\n",
      "Deleted extracted file D:/gbif_downloads\\occurrence.txt\n",
      "Deleted D:/gbif_downloads\\0106579-230224095556074.zip\n",
      "Saved DOI 10.1007/s11101-024-09934-y to skip file\n",
      "Downloading https://api.gbif.org/v1/occurrence/download/request/0065480-210914110416597.zip\n",
      "Downloaded D:/gbif_downloads\\0065480-210914110416597.zip\n",
      "Unzipping D:/gbif_downloads\\0065480-210914110416597.zip\n"
     ]
    },
    {
     "name": "stderr",
     "output_type": "stream",
     "text": [
      "\r",
      "Downloading and processing GBIF data:   2%|▏         | 65/3572 [1:07:00<175:57:22, 180.62s/it]"
     ]
    },
    {
     "name": "stdout",
     "output_type": "stream",
     "text": [
      "Deleted D:/gbif_downloads\\0065480-210914110416597.zip\n",
      "Saved DOI 10.1007/s11160-024-09839-1 to skip file\n",
      "Downloading https://api.gbif.org/v1/occurrence/download/request/0144839-230530130749713.zip\n"
     ]
    },
    {
     "name": "stderr",
     "output_type": "stream",
     "text": [
      "\r",
      "Downloading and processing GBIF data:   2%|▏         | 66/3572 [1:07:00<123:26:07, 126.74s/it]"
     ]
    },
    {
     "name": "stdout",
     "output_type": "stream",
     "text": [
      "Downloaded D:/gbif_downloads\\0144839-230530130749713.zip\n",
      "Unzipping D:/gbif_downloads\\0144839-230530130749713.zip\n",
      "Deleted D:/gbif_downloads\\0144839-230530130749713.zip\n",
      "Saved DOI 10.59763/mam.aeq.v6i.71 to skip file\n",
      "Downloading https://api.gbif.org/v1/occurrence/download/request/0051044-220831081235567.zip\n",
      "Downloaded D:/gbif_downloads\\0051044-220831081235567.zip\n",
      "Unzipping D:/gbif_downloads\\0051044-220831081235567.zip\n",
      "Processing D:/gbif_downloads\\occurrence.txt\n",
      "Processed D:/gbif_downloads\\occurrence.txt\n"
     ]
    },
    {
     "name": "stderr",
     "output_type": "stream",
     "text": [
      "\r",
      "Downloading and processing GBIF data:   2%|▏         | 67/3572 [1:13:27<199:10:52, 204.58s/it]"
     ]
    },
    {
     "name": "stdout",
     "output_type": "stream",
     "text": [
      "Deleted extracted file D:/gbif_downloads\\occurrence.txt\n",
      "Deleted D:/gbif_downloads\\0051044-220831081235567.zip\n",
      "Saved DOI 10.1111/ddi.13839 to skip file\n",
      "Downloading https://api.gbif.org/v1/occurrence/download/request/0003826-230828120925497.zip\n",
      "Downloaded D:/gbif_downloads\\0003826-230828120925497.zip\n",
      "Unzipping D:/gbif_downloads\\0003826-230828120925497.zip\n"
     ]
    },
    {
     "name": "stderr",
     "output_type": "stream",
     "text": [
      "\r",
      "Downloading and processing GBIF data:   2%|▏         | 68/3572 [1:13:33<141:07:44, 145.00s/it]"
     ]
    },
    {
     "name": "stdout",
     "output_type": "stream",
     "text": [
      "Deleted D:/gbif_downloads\\0003826-230828120925497.zip\n",
      "Saved DOI 10.1002/ece3.11200 to skip file\n",
      "Downloading https://api.gbif.org/v1/occurrence/download/request/0037134-230530130749713.zip\n"
     ]
    },
    {
     "name": "stderr",
     "output_type": "stream",
     "text": [
      "\r",
      "Downloading and processing GBIF data:   2%|▏         | 69/3572 [1:13:33<98:55:51, 101.67s/it] "
     ]
    },
    {
     "name": "stdout",
     "output_type": "stream",
     "text": [
      "Downloaded D:/gbif_downloads\\0037134-230530130749713.zip\n",
      "Unzipping D:/gbif_downloads\\0037134-230530130749713.zip\n",
      "Deleted D:/gbif_downloads\\0037134-230530130749713.zip\n",
      "Saved DOI 10.1007/s10750-024-05501-w to skip file\n",
      "Downloading https://api.gbif.org/v1/occurrence/download/request/0208453-210914110416597.zip\n",
      "Downloaded D:/gbif_downloads\\0208453-210914110416597.zip\n",
      "Unzipping D:/gbif_downloads\\0208453-210914110416597.zip\n",
      "Processing D:/gbif_downloads\\occurrence.txt\n"
     ]
    },
    {
     "name": "stderr",
     "output_type": "stream",
     "text": [
      "\r",
      "Downloading and processing GBIF data:   2%|▏         | 70/3572 [1:13:34<69:40:09, 71.62s/it] "
     ]
    },
    {
     "name": "stdout",
     "output_type": "stream",
     "text": [
      "Processed D:/gbif_downloads\\occurrence.txt\n",
      "Deleted extracted file D:/gbif_downloads\\occurrence.txt\n",
      "Deleted D:/gbif_downloads\\0208453-210914110416597.zip\n",
      "Saved DOI 10.1007/s00338-024-02490-z to skip file\n",
      "Downloading https://api.gbif.org/v1/occurrence/download/request/0063506-200221144449610.zip\n"
     ]
    },
    {
     "name": "stderr",
     "output_type": "stream",
     "text": [
      "\r",
      "Downloading and processing GBIF data:   2%|▏         | 71/3572 [1:13:35<48:52:52, 50.26s/it]"
     ]
    },
    {
     "name": "stdout",
     "output_type": "stream",
     "text": [
      "Downloaded D:/gbif_downloads\\0063506-200221144449610.zip\n",
      "Unzipping D:/gbif_downloads\\0063506-200221144449610.zip\n",
      "Deleted D:/gbif_downloads\\0063506-200221144449610.zip\n",
      "Saved DOI 10.1038/s41598-024-57590-1 to skip file\n",
      "Downloading https://api.gbif.org/v1/occurrence/download/request/0304139-220831081235567.zip\n"
     ]
    },
    {
     "name": "stderr",
     "output_type": "stream",
     "text": [
      "\r",
      "Downloading and processing GBIF data:   2%|▏         | 72/3572 [1:13:35<34:20:02, 35.31s/it]"
     ]
    },
    {
     "name": "stdout",
     "output_type": "stream",
     "text": [
      "Downloaded D:/gbif_downloads\\0304139-220831081235567.zip\n",
      "Unzipping D:/gbif_downloads\\0304139-220831081235567.zip\n",
      "Deleted D:/gbif_downloads\\0304139-220831081235567.zip\n",
      "Saved DOI 10.1590/1809-4392202301392 to skip file\n",
      "Downloading https://api.gbif.org/v1/occurrence/download/request/0027910-200613084148143.zip\n"
     ]
    },
    {
     "name": "stderr",
     "output_type": "stream",
     "text": [
      "\r",
      "Downloading and processing GBIF data:   2%|▏         | 73/3572 [1:13:36<24:10:46, 24.88s/it]"
     ]
    },
    {
     "name": "stdout",
     "output_type": "stream",
     "text": [
      "Downloaded D:/gbif_downloads\\0027910-200613084148143.zip\n",
      "Unzipping D:/gbif_downloads\\0027910-200613084148143.zip\n",
      "Deleted D:/gbif_downloads\\0027910-200613084148143.zip\n",
      "Saved DOI 10.1093/botlinnean/boad065 to skip file\n",
      "Downloading https://api.gbif.org/v1/occurrence/download/request/0216203-200613084148143.zip\n"
     ]
    },
    {
     "name": "stderr",
     "output_type": "stream",
     "text": [
      "\r",
      "Downloading and processing GBIF data:   2%|▏         | 74/3572 [1:13:36<17:00:51, 17.51s/it]"
     ]
    },
    {
     "name": "stdout",
     "output_type": "stream",
     "text": [
      "Downloaded D:/gbif_downloads\\0216203-200613084148143.zip\n",
      "Unzipping D:/gbif_downloads\\0216203-200613084148143.zip\n",
      "Deleted D:/gbif_downloads\\0216203-200613084148143.zip\n",
      "Saved DOI 10.1080/17451000.2024.2309562 to skip file\n",
      "Downloading https://api.gbif.org/v1/occurrence/download/request/0003614-240229165702484.zip\n"
     ]
    },
    {
     "name": "stderr",
     "output_type": "stream",
     "text": [
      "\r",
      "Downloading and processing GBIF data:   2%|▏         | 75/3572 [1:13:36<12:01:09, 12.37s/it]"
     ]
    },
    {
     "name": "stdout",
     "output_type": "stream",
     "text": [
      "Downloaded D:/gbif_downloads\\0003614-240229165702484.zip\n",
      "Unzipping D:/gbif_downloads\\0003614-240229165702484.zip\n",
      "Deleted D:/gbif_downloads\\0003614-240229165702484.zip\n",
      "Saved DOI 10.3390/d16040205 to skip file\n",
      "Downloading https://api.gbif.org/v1/occurrence/download/request/0026987-210914110416597.zip\n",
      "Downloaded D:/gbif_downloads\\0026987-210914110416597.zip\n",
      "Unzipping D:/gbif_downloads\\0026987-210914110416597.zip\n"
     ]
    },
    {
     "name": "stderr",
     "output_type": "stream",
     "text": [
      "\r",
      "Downloading and processing GBIF data:   2%|▏         | 76/3572 [1:13:38<8:57:13,  9.22s/it] "
     ]
    },
    {
     "name": "stdout",
     "output_type": "stream",
     "text": [
      "Processing D:/gbif_downloads\\occurrence.txt\n",
      "Processed D:/gbif_downloads\\occurrence.txt\n",
      "Deleted extracted file D:/gbif_downloads\\occurrence.txt\n",
      "Deleted D:/gbif_downloads\\0026987-210914110416597.zip\n",
      "Saved DOI 10.17129/botsci.3389 to skip file\n",
      "Downloading https://api.gbif.org/v1/occurrence/download/request/0059674-231002084531237.zip\n"
     ]
    },
    {
     "name": "stderr",
     "output_type": "stream",
     "text": [
      "\r",
      "Downloading and processing GBIF data:   2%|▏         | 77/3572 [1:13:39<6:23:54,  6.59s/it]"
     ]
    },
    {
     "name": "stdout",
     "output_type": "stream",
     "text": [
      "Downloaded D:/gbif_downloads\\0059674-231002084531237.zip\n",
      "Unzipping D:/gbif_downloads\\0059674-231002084531237.zip\n",
      "Deleted D:/gbif_downloads\\0059674-231002084531237.zip\n",
      "Saved DOI 10.7717/peerj.17131 to skip file\n",
      "Downloading https://api.gbif.org/v1/occurrence/download/request/0187900-200613084148143.zip\n"
     ]
    },
    {
     "name": "stderr",
     "output_type": "stream",
     "text": [
      "\r",
      "Downloading and processing GBIF data:   2%|▏         | 78/3572 [1:13:39<4:39:23,  4.80s/it]"
     ]
    },
    {
     "name": "stdout",
     "output_type": "stream",
     "text": [
      "Downloaded D:/gbif_downloads\\0187900-200613084148143.zip\n",
      "Unzipping D:/gbif_downloads\\0187900-200613084148143.zip\n",
      "Deleted D:/gbif_downloads\\0187900-200613084148143.zip\n",
      "Saved DOI 10.1007/s10336-024-02168-x to skip file\n",
      "Downloading https://api.gbif.org/v1/occurrence/download/request/0272981-220831081235567.zip\n",
      "Downloaded D:/gbif_downloads\\0272981-220831081235567.zip\n",
      "Unzipping D:/gbif_downloads\\0272981-220831081235567.zip\n",
      "Processing D:/gbif_downloads\\occurrence.txt\n"
     ]
    },
    {
     "name": "stderr",
     "output_type": "stream",
     "text": [
      "\r",
      "Downloading and processing GBIF data:   2%|▏         | 79/3572 [1:13:41<3:50:47,  3.96s/it]"
     ]
    },
    {
     "name": "stdout",
     "output_type": "stream",
     "text": [
      "Processed D:/gbif_downloads\\occurrence.txt\n",
      "Deleted extracted file D:/gbif_downloads\\occurrence.txt\n",
      "Deleted D:/gbif_downloads\\0272981-220831081235567.zip\n",
      "Saved DOI 10.1016/j.egg.2024.100240 to skip file\n",
      "Downloading https://api.gbif.org/v1/occurrence/download/request/0248726-220831081235567.zip\n"
     ]
    },
    {
     "name": "stderr",
     "output_type": "stream",
     "text": [
      "\r",
      "Downloading and processing GBIF data:   2%|▏         | 80/3572 [1:13:42<2:52:30,  2.96s/it]"
     ]
    },
    {
     "name": "stdout",
     "output_type": "stream",
     "text": [
      "Downloaded D:/gbif_downloads\\0248726-220831081235567.zip\n",
      "Unzipping D:/gbif_downloads\\0248726-220831081235567.zip\n",
      "Processing D:/gbif_downloads\\occurrence.txt\n",
      "Processed D:/gbif_downloads\\occurrence.txt\n",
      "Deleted extracted file D:/gbif_downloads\\occurrence.txt\n",
      "Deleted D:/gbif_downloads\\0248726-220831081235567.zip\n",
      "Saved DOI 10.1134/s003294522470005x to skip file\n",
      "Downloading https://api.gbif.org/v1/occurrence/download/request/0405963-210914110416597.zip\n",
      "Downloaded D:/gbif_downloads\\0405963-210914110416597.zip\n",
      "Unzipping D:/gbif_downloads\\0405963-210914110416597.zip\n",
      "Processing D:/gbif_downloads\\occurrence.txt\n"
     ]
    },
    {
     "name": "stderr",
     "output_type": "stream",
     "text": [
      "\r",
      "Downloading and processing GBIF data:   2%|▏         | 81/3572 [1:14:05<8:36:32,  8.88s/it]"
     ]
    },
    {
     "name": "stdout",
     "output_type": "stream",
     "text": [
      "Processed D:/gbif_downloads\\occurrence.txt\n",
      "Deleted extracted file D:/gbif_downloads\\occurrence.txt\n",
      "Deleted D:/gbif_downloads\\0405963-210914110416597.zip\n",
      "Saved DOI 10.1016/j.jenvman.2024.120757 to skip file\n",
      "Downloading https://api.gbif.org/v1/occurrence/download/request/0011986-231002084531237.zip\n"
     ]
    },
    {
     "name": "stderr",
     "output_type": "stream",
     "text": [
      "\r",
      "Downloading and processing GBIF data:   2%|▏         | 82/3572 [1:14:05<6:09:09,  6.35s/it]"
     ]
    },
    {
     "name": "stdout",
     "output_type": "stream",
     "text": [
      "Downloaded D:/gbif_downloads\\0011986-231002084531237.zip\n",
      "Unzipping D:/gbif_downloads\\0011986-231002084531237.zip\n",
      "Deleted D:/gbif_downloads\\0011986-231002084531237.zip\n",
      "Saved DOI 10.1134/s1062359023605554 to skip file\n",
      "Downloading https://api.gbif.org/v1/occurrence/download/request/0005536-210914110416597.zip\n"
     ]
    },
    {
     "name": "stderr",
     "output_type": "stream",
     "text": [
      "\r",
      "Downloading and processing GBIF data:   2%|▏         | 83/3572 [1:14:06<4:26:36,  4.58s/it]"
     ]
    },
    {
     "name": "stdout",
     "output_type": "stream",
     "text": [
      "Downloaded D:/gbif_downloads\\0005536-210914110416597.zip\n",
      "Unzipping D:/gbif_downloads\\0005536-210914110416597.zip\n",
      "Deleted D:/gbif_downloads\\0005536-210914110416597.zip\n",
      "Saved DOI 10.1134/s0032945224700073 to skip file\n",
      "Downloading https://api.gbif.org/v1/occurrence/download/request/0277198-220831081235567.zip\n",
      "Downloaded D:/gbif_downloads\\0277198-220831081235567.zip\n",
      "Unzipping D:/gbif_downloads\\0277198-220831081235567.zip\n"
     ]
    },
    {
     "name": "stderr",
     "output_type": "stream",
     "text": [
      "\r",
      "Downloading and processing GBIF data:   2%|▏         | 84/3572 [1:14:36<12:05:01, 12.47s/it]"
     ]
    },
    {
     "name": "stdout",
     "output_type": "stream",
     "text": [
      "Deleted D:/gbif_downloads\\0277198-220831081235567.zip\n",
      "Saved DOI 10.1093/biosci/biae022 to skip file\n",
      "Downloading https://api.gbif.org/v1/occurrence/download/request/0005637-220831081235567.zip\n"
     ]
    },
    {
     "name": "stderr",
     "output_type": "stream",
     "text": [
      "\r",
      "Downloading and processing GBIF data:   2%|▏         | 85/3572 [1:14:37<8:39:05,  8.93s/it] "
     ]
    },
    {
     "name": "stdout",
     "output_type": "stream",
     "text": [
      "Downloaded D:/gbif_downloads\\0005637-220831081235567.zip\n",
      "Unzipping D:/gbif_downloads\\0005637-220831081235567.zip\n",
      "Deleted D:/gbif_downloads\\0005637-220831081235567.zip\n",
      "Saved DOI 10.1111/gcb.17262 to skip file\n",
      "Downloading https://api.gbif.org/v1/occurrence/download/request/0011696-200613084148143.zip\n"
     ]
    },
    {
     "name": "stderr",
     "output_type": "stream",
     "text": [
      "\r",
      "Downloading and processing GBIF data:   2%|▏         | 86/3572 [1:14:38<6:10:21,  6.37s/it]"
     ]
    },
    {
     "name": "stdout",
     "output_type": "stream",
     "text": [
      "Downloaded D:/gbif_downloads\\0011696-200613084148143.zip\n",
      "Unzipping D:/gbif_downloads\\0011696-200613084148143.zip\n",
      "Deleted D:/gbif_downloads\\0011696-200613084148143.zip\n",
      "Saved DOI 10.1016/j.ecss.2024.108735 to skip file\n",
      "Downloading https://api.gbif.org/v1/occurrence/download/request/0018093-180508205500799.zip\n"
     ]
    },
    {
     "name": "stderr",
     "output_type": "stream",
     "text": [
      "\r",
      "Downloading and processing GBIF data:   2%|▏         | 87/3572 [1:14:38<4:35:54,  4.75s/it]"
     ]
    },
    {
     "name": "stdout",
     "output_type": "stream",
     "text": [
      "Downloaded D:/gbif_downloads\\0018093-180508205500799.zip\n",
      "Unzipping D:/gbif_downloads\\0018093-180508205500799.zip\n",
      "Deleted D:/gbif_downloads\\0018093-180508205500799.zip\n",
      "Saved DOI 10.1093/botlinnean/boae007 to skip file\n",
      "Downloading https://api.gbif.org/v1/occurrence/download/request/0027209-231120084113126.zip\n"
     ]
    },
    {
     "name": "stderr",
     "output_type": "stream",
     "text": [
      "\r",
      "Downloading and processing GBIF data:   2%|▏         | 88/3572 [1:14:39<3:25:13,  3.53s/it]"
     ]
    },
    {
     "name": "stdout",
     "output_type": "stream",
     "text": [
      "Downloaded D:/gbif_downloads\\0027209-231120084113126.zip\n",
      "Unzipping D:/gbif_downloads\\0027209-231120084113126.zip\n",
      "Deleted D:/gbif_downloads\\0027209-231120084113126.zip\n",
      "Saved DOI 10.11609/jott.8574.16.3.24967-24972 to skip file\n",
      "Downloading https://api.gbif.org/v1/occurrence/download/request/0003084-230918134249559.zip\n"
     ]
    },
    {
     "name": "stderr",
     "output_type": "stream",
     "text": [
      "\r",
      "Downloading and processing GBIF data:   2%|▏         | 89/3572 [1:14:41<2:49:00,  2.91s/it]"
     ]
    },
    {
     "name": "stdout",
     "output_type": "stream",
     "text": [
      "Downloaded D:/gbif_downloads\\0003084-230918134249559.zip\n",
      "Unzipping D:/gbif_downloads\\0003084-230918134249559.zip\n",
      "Deleted D:/gbif_downloads\\0003084-230918134249559.zip\n",
      "Saved DOI 10.3897/herpetozoa.37.e117370 to skip file\n",
      "Downloading https://api.gbif.org/v1/occurrence/download/request/0149092-210914110416597.zip\n"
     ]
    },
    {
     "name": "stderr",
     "output_type": "stream",
     "text": [
      "\r",
      "Downloading and processing GBIF data:   3%|▎         | 90/3572 [1:14:41<2:04:37,  2.15s/it]"
     ]
    },
    {
     "name": "stdout",
     "output_type": "stream",
     "text": [
      "Downloaded D:/gbif_downloads\\0149092-210914110416597.zip\n",
      "Unzipping D:/gbif_downloads\\0149092-210914110416597.zip\n",
      "Deleted D:/gbif_downloads\\0149092-210914110416597.zip\n",
      "Saved DOI 10.1371/journal.pone.0295102 to skip file\n",
      "Downloading https://api.gbif.org/v1/occurrence/download/request/0294639-200613084148143.zip\n"
     ]
    },
    {
     "name": "stderr",
     "output_type": "stream",
     "text": [
      "\r",
      "Downloading and processing GBIF data:   3%|▎         | 91/3572 [1:14:41<1:34:18,  1.63s/it]"
     ]
    },
    {
     "name": "stdout",
     "output_type": "stream",
     "text": [
      "Failed to download data for key 0294639-200613084148143: 404 Not Found\n",
      "Downloading https://api.gbif.org/v1/occurrence/download/request/0182298-230224095556074.zip\n"
     ]
    },
    {
     "name": "stderr",
     "output_type": "stream",
     "text": [
      "\r",
      "Downloading and processing GBIF data:   3%|▎         | 92/3572 [1:14:42<1:14:55,  1.29s/it]"
     ]
    },
    {
     "name": "stdout",
     "output_type": "stream",
     "text": [
      "Downloaded D:/gbif_downloads\\0182298-230224095556074.zip\n",
      "Unzipping D:/gbif_downloads\\0182298-230224095556074.zip\n",
      "Deleted D:/gbif_downloads\\0182298-230224095556074.zip\n",
      "Saved DOI 10.1051/alr/2024002 to skip file\n",
      "Downloading https://api.gbif.org/v1/occurrence/download/request/0001501-240130105604617.zip\n"
     ]
    },
    {
     "name": "stderr",
     "output_type": "stream",
     "text": [
      "\r",
      "Downloading and processing GBIF data:   3%|▎         | 93/3572 [1:14:42<1:01:54,  1.07s/it]"
     ]
    },
    {
     "name": "stdout",
     "output_type": "stream",
     "text": [
      "Downloaded D:/gbif_downloads\\0001501-240130105604617.zip\n",
      "Unzipping D:/gbif_downloads\\0001501-240130105604617.zip\n",
      "Processing D:/gbif_downloads\\occurrence.txt\n",
      "Processed D:/gbif_downloads\\occurrence.txt\n",
      "Deleted extracted file D:/gbif_downloads\\occurrence.txt\n",
      "Deleted D:/gbif_downloads\\0001501-240130105604617.zip\n",
      "Saved DOI 10.1007/s10530-024-03283-9 to skip file\n",
      "Downloading https://api.gbif.org/v1/occurrence/download/request/0046560-210914110416597.zip\n",
      "Downloaded D:/gbif_downloads\\0046560-210914110416597.zip\n",
      "Unzipping D:/gbif_downloads\\0046560-210914110416597.zip\n"
     ]
    },
    {
     "name": "stderr",
     "output_type": "stream",
     "text": [
      "\r",
      "Downloading and processing GBIF data:   3%|▎         | 94/3572 [1:19:47<89:06:40, 92.24s/it]"
     ]
    },
    {
     "name": "stdout",
     "output_type": "stream",
     "text": [
      "Deleted D:/gbif_downloads\\0046560-210914110416597.zip\n",
      "Saved DOI 10.1111/ddi.13832 to skip file\n",
      "Downloading https://api.gbif.org/v1/occurrence/download/request/0031286-231120084113126.zip\n"
     ]
    },
    {
     "name": "stderr",
     "output_type": "stream",
     "text": [
      "\r",
      "Downloading and processing GBIF data:   3%|▎         | 95/3572 [1:19:48<62:29:14, 64.70s/it]"
     ]
    },
    {
     "name": "stdout",
     "output_type": "stream",
     "text": [
      "Downloaded D:/gbif_downloads\\0031286-231120084113126.zip\n",
      "Unzipping D:/gbif_downloads\\0031286-231120084113126.zip\n",
      "Deleted D:/gbif_downloads\\0031286-231120084113126.zip\n",
      "Saved DOI 10.1016/j.revpalbo.2024.105096 to skip file\n",
      "Downloading https://api.gbif.org/v1/occurrence/download/request/0000889-240216155721649.zip\n"
     ]
    },
    {
     "name": "stderr",
     "output_type": "stream",
     "text": [
      "\r",
      "Downloading and processing GBIF data:   3%|▎         | 96/3572 [1:19:48<43:49:12, 45.38s/it]"
     ]
    },
    {
     "name": "stdout",
     "output_type": "stream",
     "text": [
      "Downloaded D:/gbif_downloads\\0000889-240216155721649.zip\n",
      "Unzipping D:/gbif_downloads\\0000889-240216155721649.zip\n",
      "Deleted D:/gbif_downloads\\0000889-240216155721649.zip\n",
      "Saved DOI 10.3390/biology13030198 to skip file\n",
      "Downloading https://api.gbif.org/v1/occurrence/download/request/0026716-230810091245214.zip\n"
     ]
    },
    {
     "name": "stderr",
     "output_type": "stream",
     "text": [
      "\r",
      "Downloading and processing GBIF data:   3%|▎         | 97/3572 [1:19:49<30:47:46, 31.90s/it]"
     ]
    },
    {
     "name": "stdout",
     "output_type": "stream",
     "text": [
      "Downloaded D:/gbif_downloads\\0026716-230810091245214.zip\n",
      "Unzipping D:/gbif_downloads\\0026716-230810091245214.zip\n",
      "Deleted D:/gbif_downloads\\0026716-230810091245214.zip\n",
      "Saved DOI 10.1093/jxb/erae126 to skip file\n",
      "Downloading https://api.gbif.org/v1/occurrence/download/request/0001225-240229165702484.zip\n"
     ]
    },
    {
     "name": "stderr",
     "output_type": "stream",
     "text": [
      "\r",
      "Downloading and processing GBIF data:   3%|▎         | 98/3572 [1:19:49<21:40:00, 22.45s/it]"
     ]
    },
    {
     "name": "stdout",
     "output_type": "stream",
     "text": [
      "Downloaded D:/gbif_downloads\\0001225-240229165702484.zip\n",
      "Unzipping D:/gbif_downloads\\0001225-240229165702484.zip\n",
      "Processing D:/gbif_downloads\\occurrence.txt\n",
      "Processed D:/gbif_downloads\\occurrence.txt\n",
      "Deleted extracted file D:/gbif_downloads\\occurrence.txt\n",
      "Deleted D:/gbif_downloads\\0001225-240229165702484.zip\n",
      "Saved DOI 10.3897/bdj.12.e120670 to skip file\n",
      "Downloading https://api.gbif.org/v1/occurrence/download/request/0000728-231120084113126.zip\n"
     ]
    },
    {
     "name": "stderr",
     "output_type": "stream",
     "text": [
      "\r",
      "Downloading and processing GBIF data:   3%|▎         | 99/3572 [1:19:49<15:15:10, 15.81s/it]"
     ]
    },
    {
     "name": "stdout",
     "output_type": "stream",
     "text": [
      "Downloaded D:/gbif_downloads\\0000728-231120084113126.zip\n",
      "Unzipping D:/gbif_downloads\\0000728-231120084113126.zip\n",
      "Deleted D:/gbif_downloads\\0000728-231120084113126.zip\n",
      "Saved DOI 10.1093/botlinnean/boae016 to skip file\n",
      "Downloading https://api.gbif.org/v1/occurrence/download/request/0180551-230224095556074.zip\n"
     ]
    },
    {
     "name": "stderr",
     "output_type": "stream",
     "text": [
      "\r",
      "Downloading and processing GBIF data:   3%|▎         | 100/3572 [1:19:50<10:57:06, 11.36s/it]"
     ]
    },
    {
     "name": "stdout",
     "output_type": "stream",
     "text": [
      "Downloaded D:/gbif_downloads\\0180551-230224095556074.zip\n",
      "Unzipping D:/gbif_downloads\\0180551-230224095556074.zip\n",
      "Processing D:/gbif_downloads\\occurrence.txt\n",
      "Processed D:/gbif_downloads\\occurrence.txt\n",
      "Deleted extracted file D:/gbif_downloads\\occurrence.txt\n",
      "Deleted D:/gbif_downloads\\0180551-230224095556074.zip\n",
      "Saved DOI 10.1007/s10661-024-12543-z to skip file\n",
      "Downloading https://api.gbif.org/v1/occurrence/download/request/0009975-190415153152247.zip\n",
      "Downloaded D:/gbif_downloads\\0009975-190415153152247.zip\n",
      "Unzipping D:/gbif_downloads\\0009975-190415153152247.zip\n"
     ]
    },
    {
     "name": "stderr",
     "output_type": "stream",
     "text": [
      "\r",
      "Downloading and processing GBIF data:   3%|▎         | 101/3572 [1:20:05<11:55:18, 12.36s/it]"
     ]
    },
    {
     "name": "stdout",
     "output_type": "stream",
     "text": [
      "Deleted D:/gbif_downloads\\0009975-190415153152247.zip\n",
      "Saved DOI 10.1111/ecog.06697 to skip file\n",
      "Downloading https://api.gbif.org/v1/occurrence/download/request/0053505-230224095556074.zip\n"
     ]
    },
    {
     "name": "stderr",
     "output_type": "stream",
     "text": [
      "\r",
      "Downloading and processing GBIF data:   3%|▎         | 102/3572 [1:20:05<8:26:30,  8.76s/it] "
     ]
    },
    {
     "name": "stdout",
     "output_type": "stream",
     "text": [
      "Downloaded D:/gbif_downloads\\0053505-230224095556074.zip\n",
      "Unzipping D:/gbif_downloads\\0053505-230224095556074.zip\n",
      "Deleted D:/gbif_downloads\\0053505-230224095556074.zip\n",
      "Saved DOI 10.1016/j.vetpar.2024.110172 to skip file\n",
      "Downloading https://api.gbif.org/v1/occurrence/download/request/0027947-231120084113126.zip\n"
     ]
    },
    {
     "name": "stderr",
     "output_type": "stream",
     "text": [
      "\r",
      "Downloading and processing GBIF data:   3%|▎         | 103/3572 [1:20:06<6:00:56,  6.24s/it]"
     ]
    },
    {
     "name": "stdout",
     "output_type": "stream",
     "text": [
      "Downloaded D:/gbif_downloads\\0027947-231120084113126.zip\n",
      "Unzipping D:/gbif_downloads\\0027947-231120084113126.zip\n",
      "Deleted D:/gbif_downloads\\0027947-231120084113126.zip\n",
      "Saved DOI 10.22271/letters.2024.v4.i1b.85 to skip file\n",
      "Downloading https://api.gbif.org/v1/occurrence/download/request/0038688-231120084113126.zip\n"
     ]
    },
    {
     "name": "stderr",
     "output_type": "stream",
     "text": [
      "\r",
      "Downloading and processing GBIF data:   3%|▎         | 104/3572 [1:20:06<4:18:17,  4.47s/it]"
     ]
    },
    {
     "name": "stdout",
     "output_type": "stream",
     "text": [
      "Downloaded D:/gbif_downloads\\0038688-231120084113126.zip\n",
      "Unzipping D:/gbif_downloads\\0038688-231120084113126.zip\n",
      "Deleted D:/gbif_downloads\\0038688-231120084113126.zip\n",
      "Saved DOI 10.1111/njb.04266 to skip file\n",
      "Downloading https://api.gbif.org/v1/occurrence/download/request/0056190-231002084531237.zip\n"
     ]
    },
    {
     "name": "stderr",
     "output_type": "stream",
     "text": [
      "\r",
      "Downloading and processing GBIF data:   3%|▎         | 105/3572 [1:20:07<3:08:37,  3.26s/it]"
     ]
    },
    {
     "name": "stdout",
     "output_type": "stream",
     "text": [
      "Downloaded D:/gbif_downloads\\0056190-231002084531237.zip\n",
      "Unzipping D:/gbif_downloads\\0056190-231002084531237.zip\n",
      "Deleted D:/gbif_downloads\\0056190-231002084531237.zip\n",
      "Saved DOI 10.3390/su16051929 to skip file\n",
      "Downloading https://api.gbif.org/v1/occurrence/download/request/0062562-231002084531237.zip\n"
     ]
    },
    {
     "name": "stderr",
     "output_type": "stream",
     "text": [
      "\r",
      "Downloading and processing GBIF data:   3%|▎         | 106/3572 [1:20:07<2:17:29,  2.38s/it]"
     ]
    },
    {
     "name": "stdout",
     "output_type": "stream",
     "text": [
      "Downloaded D:/gbif_downloads\\0062562-231002084531237.zip\n",
      "Unzipping D:/gbif_downloads\\0062562-231002084531237.zip\n",
      "Deleted D:/gbif_downloads\\0062562-231002084531237.zip\n",
      "Saved DOI 10.1007/s11258-024-01408-7 to skip file\n",
      "Downloading https://api.gbif.org/v1/occurrence/download/request/0066688-231120084113126.zip\n"
     ]
    },
    {
     "name": "stderr",
     "output_type": "stream",
     "text": [
      "\r",
      "Downloading and processing GBIF data:   3%|▎         | 107/3572 [1:20:07<1:41:55,  1.76s/it]"
     ]
    },
    {
     "name": "stdout",
     "output_type": "stream",
     "text": [
      "Downloaded D:/gbif_downloads\\0066688-231120084113126.zip\n",
      "Unzipping D:/gbif_downloads\\0066688-231120084113126.zip\n",
      "Processing D:/gbif_downloads\\occurrence.txt\n",
      "Processed D:/gbif_downloads\\occurrence.txt\n",
      "Deleted extracted file D:/gbif_downloads\\occurrence.txt\n",
      "Deleted D:/gbif_downloads\\0066688-231120084113126.zip\n",
      "Saved DOI 10.1002/ece3.11132 to skip file\n",
      "Downloading https://api.gbif.org/v1/occurrence/download/request/0172771-200613084148143.zip\n",
      "Downloaded D:/gbif_downloads\\0172771-200613084148143.zip\n",
      "Unzipping D:/gbif_downloads\\0172771-200613084148143.zip\n"
     ]
    },
    {
     "name": "stderr",
     "output_type": "stream",
     "text": [
      "\r",
      "Downloading and processing GBIF data:   3%|▎         | 108/3572 [1:20:08<1:26:25,  1.50s/it]"
     ]
    },
    {
     "name": "stdout",
     "output_type": "stream",
     "text": [
      "Processing D:/gbif_downloads\\occurrence.txt\n",
      "Processed D:/gbif_downloads\\occurrence.txt\n",
      "Deleted extracted file D:/gbif_downloads\\occurrence.txt\n",
      "Deleted D:/gbif_downloads\\0172771-200613084148143.zip\n",
      "Saved DOI 10.1002/ece3.11097 to skip file\n",
      "Downloading https://api.gbif.org/v1/occurrence/download/request/0254626-220831081235567.zip\n"
     ]
    },
    {
     "name": "stderr",
     "output_type": "stream",
     "text": [
      "\r",
      "Downloading and processing GBIF data:   3%|▎         | 109/3572 [1:20:08<1:07:43,  1.17s/it]"
     ]
    },
    {
     "name": "stdout",
     "output_type": "stream",
     "text": [
      "Downloaded D:/gbif_downloads\\0254626-220831081235567.zip\n",
      "Unzipping D:/gbif_downloads\\0254626-220831081235567.zip\n",
      "Deleted D:/gbif_downloads\\0254626-220831081235567.zip\n",
      "Saved DOI 10.1016/j.ecochg.2024.100084 to skip file\n",
      "Downloading https://api.gbif.org/v1/occurrence/download/request/0001732-240216155721649.zip\n"
     ]
    },
    {
     "name": "stderr",
     "output_type": "stream",
     "text": [
      "\r",
      "Downloading and processing GBIF data:   3%|▎         | 110/3572 [1:20:09<53:38,  1.08it/s]  "
     ]
    },
    {
     "name": "stdout",
     "output_type": "stream",
     "text": [
      "Downloaded D:/gbif_downloads\\0001732-240216155721649.zip\n",
      "Unzipping D:/gbif_downloads\\0001732-240216155721649.zip\n",
      "Deleted D:/gbif_downloads\\0001732-240216155721649.zip\n",
      "Saved DOI 10.1016/j.scitotenv.2024.171664 to skip file\n",
      "Downloading https://api.gbif.org/v1/occurrence/download/request/0007219-231120084113126.zip\n"
     ]
    },
    {
     "name": "stderr",
     "output_type": "stream",
     "text": [
      "\r",
      "Downloading and processing GBIF data:   3%|▎         | 111/3572 [1:20:09<46:09,  1.25it/s]"
     ]
    },
    {
     "name": "stdout",
     "output_type": "stream",
     "text": [
      "Downloaded D:/gbif_downloads\\0007219-231120084113126.zip\n",
      "Unzipping D:/gbif_downloads\\0007219-231120084113126.zip\n",
      "Deleted D:/gbif_downloads\\0007219-231120084113126.zip\n",
      "Saved DOI 10.1111/jfb.15724 to skip file\n",
      "Downloading https://api.gbif.org/v1/occurrence/download/request/0191671-230224095556074.zip\n"
     ]
    },
    {
     "name": "stderr",
     "output_type": "stream",
     "text": [
      "\r",
      "Downloading and processing GBIF data:   3%|▎         | 112/3572 [1:20:10<40:02,  1.44it/s]"
     ]
    },
    {
     "name": "stdout",
     "output_type": "stream",
     "text": [
      "Downloaded D:/gbif_downloads\\0191671-230224095556074.zip\n",
      "Unzipping D:/gbif_downloads\\0191671-230224095556074.zip\n",
      "Deleted D:/gbif_downloads\\0191671-230224095556074.zip\n",
      "Saved DOI 10.1016/j.gecco.2024.e02903 to skip file\n",
      "Downloading https://api.gbif.org/v1/occurrence/download/request/0025772-181108115102211.zip\n"
     ]
    },
    {
     "name": "stderr",
     "output_type": "stream",
     "text": [
      "\r",
      "Downloading and processing GBIF data:   3%|▎         | 113/3572 [1:20:11<41:32,  1.39it/s]"
     ]
    },
    {
     "name": "stdout",
     "output_type": "stream",
     "text": [
      "Downloaded D:/gbif_downloads\\0025772-181108115102211.zip\n",
      "Unzipping D:/gbif_downloads\\0025772-181108115102211.zip\n",
      "Processing D:/gbif_downloads\\occurrence.txt\n",
      "Processed D:/gbif_downloads\\occurrence.txt\n",
      "Deleted extracted file D:/gbif_downloads\\occurrence.txt\n",
      "Deleted D:/gbif_downloads\\0025772-181108115102211.zip\n",
      "Saved DOI 10.1111/jbi.14834 to skip file\n",
      "Downloading https://api.gbif.org/v1/occurrence/download/request/0012076-231120084113126.zip\n"
     ]
    },
    {
     "name": "stderr",
     "output_type": "stream",
     "text": [
      "\r",
      "Downloading and processing GBIF data:   3%|▎         | 114/3572 [1:20:11<35:02,  1.64it/s]"
     ]
    },
    {
     "name": "stdout",
     "output_type": "stream",
     "text": [
      "Downloaded D:/gbif_downloads\\0012076-231120084113126.zip\n",
      "Unzipping D:/gbif_downloads\\0012076-231120084113126.zip\n",
      "Deleted D:/gbif_downloads\\0012076-231120084113126.zip\n",
      "Saved DOI 10.11646/zootaxa.5424.4.8 to skip file\n",
      "Downloading https://api.gbif.org/v1/occurrence/download/request/0003887-231002084531237.zip\n",
      "Downloaded D:/gbif_downloads\\0003887-231002084531237.zip\n",
      "Unzipping D:/gbif_downloads\\0003887-231002084531237.zip\n",
      "Processing D:/gbif_downloads\\occurrence.txt\n"
     ]
    },
    {
     "name": "stderr",
     "output_type": "stream",
     "text": [
      "\r",
      "Downloading and processing GBIF data:   3%|▎         | 115/3572 [1:21:13<18:23:24, 19.15s/it]"
     ]
    },
    {
     "name": "stdout",
     "output_type": "stream",
     "text": [
      "Failed to process file D:/gbif_downloads\\0003887-231002084531237.zip: field larger than field limit (1000000)\n",
      "Downloading https://api.gbif.org/v1/occurrence/download/request/0018121-240229165702484.zip\n",
      "Downloaded D:/gbif_downloads\\0018121-240229165702484.zip\n",
      "Unzipping D:/gbif_downloads\\0018121-240229165702484.zip\n"
     ]
    },
    {
     "name": "stderr",
     "output_type": "stream",
     "text": [
      "\r",
      "Downloading and processing GBIF data:   3%|▎         | 116/3572 [1:21:14<13:05:06, 13.63s/it]"
     ]
    },
    {
     "name": "stdout",
     "output_type": "stream",
     "text": [
      "Processing D:/gbif_downloads\\occurrence.txt\n",
      "Processed D:/gbif_downloads\\occurrence.txt\n",
      "Deleted extracted file D:/gbif_downloads\\occurrence.txt\n",
      "Deleted D:/gbif_downloads\\0018121-240229165702484.zip\n",
      "Saved DOI 10.3390/insects15030195 to skip file\n",
      "Downloading https://api.gbif.org/v1/occurrence/download/request/0007780-200127171203522.zip\n",
      "Downloaded D:/gbif_downloads\\0007780-200127171203522.zip\n",
      "Unzipping D:/gbif_downloads\\0007780-200127171203522.zip\n"
     ]
    },
    {
     "name": "stderr",
     "output_type": "stream",
     "text": [
      "\r",
      "Downloading and processing GBIF data:   3%|▎         | 117/3572 [1:21:19<10:29:33, 10.93s/it]"
     ]
    },
    {
     "name": "stdout",
     "output_type": "stream",
     "text": [
      "Deleted D:/gbif_downloads\\0007780-200127171203522.zip\n",
      "Saved DOI 10.1093/evolut/qpae034 to skip file\n",
      "Downloading https://api.gbif.org/v1/occurrence/download/request/0184369-220831081235567.zip\n"
     ]
    },
    {
     "name": "stderr",
     "output_type": "stream",
     "text": [
      "\r",
      "Downloading and processing GBIF data:   3%|▎         | 118/3572 [1:21:19<7:29:13,  7.80s/it] "
     ]
    },
    {
     "name": "stdout",
     "output_type": "stream",
     "text": [
      "Downloaded D:/gbif_downloads\\0184369-220831081235567.zip\n",
      "Unzipping D:/gbif_downloads\\0184369-220831081235567.zip\n",
      "Processing D:/gbif_downloads\\occurrence.txt\n",
      "Processed D:/gbif_downloads\\occurrence.txt\n",
      "Deleted extracted file D:/gbif_downloads\\occurrence.txt\n",
      "Deleted D:/gbif_downloads\\0184369-220831081235567.zip\n",
      "Saved DOI 10.1016/j.aquaculture.2024.740815 to skip file\n",
      "Downloading https://api.gbif.org/v1/occurrence/download/request/0301817-220831081235567.zip\n"
     ]
    },
    {
     "name": "stderr",
     "output_type": "stream",
     "text": [
      "\r",
      "Downloading and processing GBIF data:   3%|▎         | 119/3572 [1:21:20<5:21:50,  5.59s/it]"
     ]
    },
    {
     "name": "stdout",
     "output_type": "stream",
     "text": [
      "Downloaded D:/gbif_downloads\\0301817-220831081235567.zip\n",
      "Unzipping D:/gbif_downloads\\0301817-220831081235567.zip\n",
      "Deleted D:/gbif_downloads\\0301817-220831081235567.zip\n",
      "Saved DOI 10.1098/rsos.230603 to skip file\n",
      "Downloading https://api.gbif.org/v1/occurrence/download/request/0270044-200613084148143.zip\n"
     ]
    },
    {
     "name": "stderr",
     "output_type": "stream",
     "text": [
      "\r",
      "Downloading and processing GBIF data:   3%|▎         | 120/3572 [1:21:20<3:51:27,  4.02s/it]"
     ]
    },
    {
     "name": "stdout",
     "output_type": "stream",
     "text": [
      "Downloaded D:/gbif_downloads\\0270044-200613084148143.zip\n",
      "Unzipping D:/gbif_downloads\\0270044-200613084148143.zip\n",
      "Deleted D:/gbif_downloads\\0270044-200613084148143.zip\n",
      "Saved DOI 10.1111/jbi.14828 to skip file\n",
      "Downloading https://api.gbif.org/v1/occurrence/download/request/0094290-200613084148143.zip\n",
      "Downloaded D:/gbif_downloads\\0094290-200613084148143.zip\n",
      "Unzipping D:/gbif_downloads\\0094290-200613084148143.zip\n",
      "Processing D:/gbif_downloads\\occurrence.txt\n",
      "Processed D:/gbif_downloads\\occurrence.txt\n",
      "Deleted extracted file D:/gbif_downloads\\occurrence.txt\n"
     ]
    },
    {
     "name": "stderr",
     "output_type": "stream",
     "text": [
      "\r",
      "Downloading and processing GBIF data:   3%|▎         | 121/3572 [1:39:29<315:53:40, 329.53s/it]"
     ]
    },
    {
     "name": "stdout",
     "output_type": "stream",
     "text": [
      "Deleted D:/gbif_downloads\\0094290-200613084148143.zip\n",
      "Saved DOI 10.1111/1365-2435.14543 to skip file\n",
      "Downloading https://api.gbif.org/v1/occurrence/download/request/0272306-210914110416597.zip\n",
      "Downloaded D:/gbif_downloads\\0272306-210914110416597.zip\n",
      "Unzipping D:/gbif_downloads\\0272306-210914110416597.zip\n",
      "Processing D:/gbif_downloads\\occurrence.txt\n"
     ]
    },
    {
     "name": "stderr",
     "output_type": "stream",
     "text": [
      "\r",
      "Downloading and processing GBIF data:   3%|▎         | 122/3572 [1:40:24<236:45:50, 247.06s/it]"
     ]
    },
    {
     "name": "stdout",
     "output_type": "stream",
     "text": [
      "Processed D:/gbif_downloads\\occurrence.txt\n",
      "Deleted extracted file D:/gbif_downloads\\occurrence.txt\n",
      "Deleted D:/gbif_downloads\\0272306-210914110416597.zip\n",
      "Saved DOI 10.1111/icad.12731 to skip file\n",
      "Downloading https://api.gbif.org/v1/occurrence/download/request/0014515-190918142434337.zip\n"
     ]
    },
    {
     "name": "stderr",
     "output_type": "stream",
     "text": [
      "\r",
      "Downloading and processing GBIF data:   3%|▎         | 123/3572 [1:40:24<165:50:08, 173.10s/it]"
     ]
    },
    {
     "name": "stdout",
     "output_type": "stream",
     "text": [
      "Downloaded D:/gbif_downloads\\0014515-190918142434337.zip\n",
      "Unzipping D:/gbif_downloads\\0014515-190918142434337.zip\n",
      "Deleted D:/gbif_downloads\\0014515-190918142434337.zip\n",
      "Saved DOI 10.1111/zsc.12656 to skip file\n",
      "Downloading https://api.gbif.org/v1/occurrence/download/request/0159561-200613084148143.zip\n",
      "Downloaded D:/gbif_downloads\\0159561-200613084148143.zip\n",
      "Unzipping D:/gbif_downloads\\0159561-200613084148143.zip\n"
     ]
    },
    {
     "name": "stderr",
     "output_type": "stream",
     "text": [
      "\r",
      "Downloading and processing GBIF data:   3%|▎         | 124/3572 [1:41:10<129:20:06, 135.04s/it]"
     ]
    },
    {
     "name": "stdout",
     "output_type": "stream",
     "text": [
      "Deleted D:/gbif_downloads\\0159561-200613084148143.zip\n",
      "Saved DOI 10.1111/ecog.06996 to skip file\n",
      "Downloading https://api.gbif.org/v1/occurrence/download/request/0166919-220831081235567.zip\n"
     ]
    },
    {
     "name": "stderr",
     "output_type": "stream",
     "text": [
      "\r",
      "Downloading and processing GBIF data:   3%|▎         | 125/3572 [1:41:11<90:36:48, 94.64s/it]  "
     ]
    },
    {
     "name": "stdout",
     "output_type": "stream",
     "text": [
      "Downloaded D:/gbif_downloads\\0166919-220831081235567.zip\n",
      "Unzipping D:/gbif_downloads\\0166919-220831081235567.zip\n",
      "Deleted D:/gbif_downloads\\0166919-220831081235567.zip\n",
      "Saved DOI 10.3391/mbi.2024.15.1.09 to skip file\n",
      "Downloading https://api.gbif.org/v1/occurrence/download/request/0290071-200613084148143.zip\n",
      "Downloaded D:/gbif_downloads\\0290071-200613084148143.zip\n",
      "Unzipping D:/gbif_downloads\\0290071-200613084148143.zip\n"
     ]
    },
    {
     "name": "stderr",
     "output_type": "stream",
     "text": [
      "\r",
      "Downloading and processing GBIF data:   4%|▎         | 126/3572 [1:41:13<64:03:44, 66.93s/it]"
     ]
    },
    {
     "name": "stdout",
     "output_type": "stream",
     "text": [
      "Deleted D:/gbif_downloads\\0290071-200613084148143.zip\n",
      "Saved DOI 10.1186/s42408-024-00259-x to skip file\n",
      "Downloading https://api.gbif.org/v1/occurrence/download/request/0005795-230828120925497.zip\n"
     ]
    },
    {
     "name": "stderr",
     "output_type": "stream",
     "text": [
      "\r",
      "Downloading and processing GBIF data:   4%|▎         | 127/3572 [1:41:13<44:56:36, 46.97s/it]"
     ]
    },
    {
     "name": "stdout",
     "output_type": "stream",
     "text": [
      "Downloaded D:/gbif_downloads\\0005795-230828120925497.zip\n",
      "Unzipping D:/gbif_downloads\\0005795-230828120925497.zip\n",
      "Processing D:/gbif_downloads\\occurrence.txt\n",
      "Processed D:/gbif_downloads\\occurrence.txt\n",
      "Deleted extracted file D:/gbif_downloads\\occurrence.txt\n",
      "Deleted D:/gbif_downloads\\0005795-230828120925497.zip\n",
      "Saved DOI 10.2903/j.efsa.2024.8498 to skip file\n",
      "Downloading https://api.gbif.org/v1/occurrence/download/request/0316405-210914110416597.zip\n"
     ]
    },
    {
     "name": "stderr",
     "output_type": "stream",
     "text": [
      "\r",
      "Downloading and processing GBIF data:   4%|▎         | 128/3572 [1:41:14<31:33:18, 32.98s/it]"
     ]
    },
    {
     "name": "stdout",
     "output_type": "stream",
     "text": [
      "Downloaded D:/gbif_downloads\\0316405-210914110416597.zip\n",
      "Unzipping D:/gbif_downloads\\0316405-210914110416597.zip\n",
      "Deleted D:/gbif_downloads\\0316405-210914110416597.zip\n",
      "Saved DOI 10.1016/j.quaint.2024.03.004 to skip file\n",
      "Downloading https://api.gbif.org/v1/occurrence/download/request/0021289-230810091245214.zip\n",
      "Downloaded D:/gbif_downloads\\0021289-230810091245214.zip\n",
      "Unzipping D:/gbif_downloads\\0021289-230810091245214.zip\n",
      "Processing D:/gbif_downloads\\occurrence.txt\n"
     ]
    },
    {
     "name": "stderr",
     "output_type": "stream",
     "text": [
      "\r",
      "Downloading and processing GBIF data:   4%|▎         | 129/3572 [1:41:15<22:24:45, 23.43s/it]"
     ]
    },
    {
     "name": "stdout",
     "output_type": "stream",
     "text": [
      "Processed D:/gbif_downloads\\occurrence.txt\n",
      "Deleted extracted file D:/gbif_downloads\\occurrence.txt\n",
      "Deleted D:/gbif_downloads\\0021289-230810091245214.zip\n",
      "Saved DOI 10.3390/biology13030177 to skip file\n",
      "Downloading https://api.gbif.org/v1/occurrence/download/request/0050452-230530130749713.zip\n",
      "Downloaded D:/gbif_downloads\\0050452-230530130749713.zip\n",
      "Unzipping D:/gbif_downloads\\0050452-230530130749713.zip\n"
     ]
    },
    {
     "name": "stderr",
     "output_type": "stream",
     "text": [
      "\r",
      "Downloading and processing GBIF data:   4%|▎         | 130/3572 [1:41:21<17:30:10, 18.31s/it]"
     ]
    },
    {
     "name": "stdout",
     "output_type": "stream",
     "text": [
      "Deleted D:/gbif_downloads\\0050452-230530130749713.zip\n",
      "Saved DOI 10.1016/s2666-5247(23)00396-8 to skip file\n",
      "Downloading https://api.gbif.org/v1/occurrence/download/request/0237475-230224095556074.zip\n"
     ]
    },
    {
     "name": "stderr",
     "output_type": "stream",
     "text": [
      "\r",
      "Downloading and processing GBIF data:   4%|▎         | 131/3572 [1:41:22<12:22:21, 12.94s/it]"
     ]
    },
    {
     "name": "stdout",
     "output_type": "stream",
     "text": [
      "Downloaded D:/gbif_downloads\\0237475-230224095556074.zip\n",
      "Unzipping D:/gbif_downloads\\0237475-230224095556074.zip\n",
      "Deleted D:/gbif_downloads\\0237475-230224095556074.zip\n",
      "Saved DOI 10.28947/hrmo.2023.24.2.748 to skip file\n",
      "Downloading https://api.gbif.org/v1/occurrence/download/request/0002654-231002084531237.zip\n"
     ]
    },
    {
     "name": "stderr",
     "output_type": "stream",
     "text": [
      "\r",
      "Downloading and processing GBIF data:   4%|▎         | 132/3572 [1:41:22<8:46:01,  9.17s/it] "
     ]
    },
    {
     "name": "stdout",
     "output_type": "stream",
     "text": [
      "Downloaded D:/gbif_downloads\\0002654-231002084531237.zip\n",
      "Unzipping D:/gbif_downloads\\0002654-231002084531237.zip\n",
      "Processing D:/gbif_downloads\\occurrence.txt\n",
      "Processed D:/gbif_downloads\\occurrence.txt\n",
      "Deleted extracted file D:/gbif_downloads\\occurrence.txt\n",
      "Deleted D:/gbif_downloads\\0002654-231002084531237.zip\n",
      "Saved DOI 10.1016/j.rvsc.2024.105206 to skip file\n",
      "Downloading https://api.gbif.org/v1/occurrence/download/request/0134243-200613084148143.zip\n"
     ]
    },
    {
     "name": "stderr",
     "output_type": "stream",
     "text": [
      "\r",
      "Downloading and processing GBIF data:   4%|▎         | 133/3572 [1:41:23<6:14:35,  6.54s/it]"
     ]
    },
    {
     "name": "stdout",
     "output_type": "stream",
     "text": [
      "Downloaded D:/gbif_downloads\\0134243-200613084148143.zip\n",
      "Unzipping D:/gbif_downloads\\0134243-200613084148143.zip\n",
      "Deleted D:/gbif_downloads\\0134243-200613084148143.zip\n",
      "Saved DOI 10.1111/gcb.17232 to skip file\n",
      "Downloading https://api.gbif.org/v1/occurrence/download/request/0041550-230530130749713.zip\n"
     ]
    },
    {
     "name": "stderr",
     "output_type": "stream",
     "text": [
      "\r",
      "Downloading and processing GBIF data:   4%|▍         | 134/3572 [1:41:23<4:27:46,  4.67s/it]"
     ]
    },
    {
     "name": "stdout",
     "output_type": "stream",
     "text": [
      "Downloaded D:/gbif_downloads\\0041550-230530130749713.zip\n",
      "Unzipping D:/gbif_downloads\\0041550-230530130749713.zip\n",
      "Deleted D:/gbif_downloads\\0041550-230530130749713.zip\n",
      "Saved DOI 10.1111/1440-1703.12458 to skip file\n",
      "Downloading https://api.gbif.org/v1/occurrence/download/request/0216203-200613084148143.zip\n"
     ]
    },
    {
     "name": "stderr",
     "output_type": "stream",
     "text": [
      "\r",
      "Downloading and processing GBIF data:   4%|▍         | 135/3572 [1:41:23<3:12:25,  3.36s/it]"
     ]
    },
    {
     "name": "stdout",
     "output_type": "stream",
     "text": [
      "Downloaded D:/gbif_downloads\\0216203-200613084148143.zip\n",
      "Unzipping D:/gbif_downloads\\0216203-200613084148143.zip\n",
      "Deleted D:/gbif_downloads\\0216203-200613084148143.zip\n",
      "Saved DOI 10.1098/rspb.2023.2746 to skip file\n",
      "Downloading https://api.gbif.org/v1/occurrence/download/request/0100038-230224095556074.zip\n"
     ]
    },
    {
     "name": "stderr",
     "output_type": "stream",
     "text": [
      "\r",
      "Downloading and processing GBIF data:   4%|▍         | 136/3572 [1:41:24<2:23:28,  2.51s/it]"
     ]
    },
    {
     "name": "stdout",
     "output_type": "stream",
     "text": [
      "Downloaded D:/gbif_downloads\\0100038-230224095556074.zip\n",
      "Unzipping D:/gbif_downloads\\0100038-230224095556074.zip\n",
      "Deleted D:/gbif_downloads\\0100038-230224095556074.zip\n",
      "Saved DOI 10.15560/20.2.279 to skip file\n",
      "Downloading https://api.gbif.org/v1/occurrence/download/request/0107506-210914110416597.zip\n"
     ]
    },
    {
     "name": "stderr",
     "output_type": "stream",
     "text": [
      "\r",
      "Downloading and processing GBIF data:   4%|▍         | 137/3572 [1:41:25<1:57:44,  2.06s/it]"
     ]
    },
    {
     "name": "stdout",
     "output_type": "stream",
     "text": [
      "Downloaded D:/gbif_downloads\\0107506-210914110416597.zip\n",
      "Unzipping D:/gbif_downloads\\0107506-210914110416597.zip\n",
      "Deleted D:/gbif_downloads\\0107506-210914110416597.zip\n",
      "Saved DOI 10.5751/jfo-00432-950109 to skip file\n",
      "Downloading https://api.gbif.org/v1/occurrence/download/request/0187355-220831081235567.zip\n",
      "Downloaded D:/gbif_downloads\\0187355-220831081235567.zip\n",
      "Unzipping D:/gbif_downloads\\0187355-220831081235567.zip\n",
      "Processing D:/gbif_downloads\\occurrence.txt\n"
     ]
    },
    {
     "name": "stderr",
     "output_type": "stream",
     "text": [
      "\r",
      "Downloading and processing GBIF data:   4%|▍         | 138/3572 [1:41:26<1:38:51,  1.73s/it]"
     ]
    },
    {
     "name": "stdout",
     "output_type": "stream",
     "text": [
      "Processed D:/gbif_downloads\\occurrence.txt\n",
      "Deleted extracted file D:/gbif_downloads\\occurrence.txt\n",
      "Deleted D:/gbif_downloads\\0187355-220831081235567.zip\n",
      "Saved DOI 10.22543/0090-0222.2462 to skip file\n",
      "Downloading https://api.gbif.org/v1/occurrence/download/request/0288042-220831081235567.zip\n",
      "Downloaded D:/gbif_downloads\\0288042-220831081235567.zip\n",
      "Unzipping D:/gbif_downloads\\0288042-220831081235567.zip\n"
     ]
    },
    {
     "name": "stderr",
     "output_type": "stream",
     "text": [
      "\r",
      "Downloading and processing GBIF data:   4%|▍         | 139/3572 [1:42:25<18:13:33, 19.11s/it]"
     ]
    },
    {
     "name": "stdout",
     "output_type": "stream",
     "text": [
      "Deleted D:/gbif_downloads\\0288042-220831081235567.zip\n",
      "Saved DOI 10.1659/mrd.2023.00017 to skip file\n",
      "Downloading https://api.gbif.org/v1/occurrence/download/request/0287732-220831081235567.zip\n"
     ]
    },
    {
     "name": "stderr",
     "output_type": "stream",
     "text": [
      "\r",
      "Downloading and processing GBIF data:   4%|▍         | 140/3572 [1:42:27<13:19:19, 13.97s/it]"
     ]
    },
    {
     "name": "stdout",
     "output_type": "stream",
     "text": [
      "Downloaded D:/gbif_downloads\\0287732-220831081235567.zip\n",
      "Unzipping D:/gbif_downloads\\0287732-220831081235567.zip\n",
      "Deleted D:/gbif_downloads\\0287732-220831081235567.zip\n",
      "Saved DOI 10.1007/s00267-024-01955-9 to skip file\n",
      "Downloading https://api.gbif.org/v1/occurrence/download/request/0064201-210914110416597.zip\n",
      "Downloaded D:/gbif_downloads\\0064201-210914110416597.zip\n",
      "Unzipping D:/gbif_downloads\\0064201-210914110416597.zip\n"
     ]
    },
    {
     "name": "stderr",
     "output_type": "stream",
     "text": [
      "\r",
      "Downloading and processing GBIF data:   4%|▍         | 141/3572 [1:44:38<46:50:23, 49.15s/it]"
     ]
    },
    {
     "name": "stdout",
     "output_type": "stream",
     "text": [
      "Deleted D:/gbif_downloads\\0064201-210914110416597.zip\n",
      "Saved DOI 10.1038/s41559-024-02350-7 to skip file\n",
      "Downloading https://api.gbif.org/v1/occurrence/download/request/0295135-200613084148143.zip\n"
     ]
    },
    {
     "name": "stderr",
     "output_type": "stream",
     "text": [
      "\r",
      "Downloading and processing GBIF data:   4%|▍         | 142/3572 [1:44:39<32:54:53, 34.55s/it]"
     ]
    },
    {
     "name": "stdout",
     "output_type": "stream",
     "text": [
      "Downloaded D:/gbif_downloads\\0295135-200613084148143.zip\n",
      "Unzipping D:/gbif_downloads\\0295135-200613084148143.zip\n",
      "Deleted D:/gbif_downloads\\0295135-200613084148143.zip\n",
      "Saved DOI 10.1038/s41558-024-01941-3 to skip file\n",
      "Downloading https://api.gbif.org/v1/occurrence/download/request/0082584-220831081235567.zip\n"
     ]
    },
    {
     "name": "stderr",
     "output_type": "stream",
     "text": [
      "\r",
      "Downloading and processing GBIF data:   4%|▍         | 143/3572 [1:44:40<23:13:23, 24.38s/it]"
     ]
    },
    {
     "name": "stdout",
     "output_type": "stream",
     "text": [
      "Downloaded D:/gbif_downloads\\0082584-220831081235567.zip\n",
      "Unzipping D:/gbif_downloads\\0082584-220831081235567.zip\n",
      "Processing D:/gbif_downloads\\occurrence.txt\n",
      "Processed D:/gbif_downloads\\occurrence.txt\n",
      "Deleted extracted file D:/gbif_downloads\\occurrence.txt\n",
      "Deleted D:/gbif_downloads\\0082584-220831081235567.zip\n",
      "Saved DOI 10.1002/ece3.11092 to skip file\n",
      "Downloading https://api.gbif.org/v1/occurrence/download/request/0164090-200613084148143.zip\n"
     ]
    },
    {
     "name": "stderr",
     "output_type": "stream",
     "text": [
      "\r",
      "Downloading and processing GBIF data:   4%|▍         | 144/3572 [1:44:40<16:21:34, 17.18s/it]"
     ]
    },
    {
     "name": "stdout",
     "output_type": "stream",
     "text": [
      "Downloaded D:/gbif_downloads\\0164090-200613084148143.zip\n",
      "Unzipping D:/gbif_downloads\\0164090-200613084148143.zip\n",
      "Deleted D:/gbif_downloads\\0164090-200613084148143.zip\n",
      "Saved DOI 10.1111/plb.13635 to skip file\n",
      "Downloading https://api.gbif.org/v1/occurrence/download/request/0096230-200613084148143.zip\n",
      "Downloaded D:/gbif_downloads\\0096230-200613084148143.zip\n",
      "Unzipping D:/gbif_downloads\\0096230-200613084148143.zip\n"
     ]
    },
    {
     "name": "stderr",
     "output_type": "stream",
     "text": [
      "\r",
      "Downloading and processing GBIF data:   4%|▍         | 145/3572 [1:46:01<34:42:02, 36.45s/it]"
     ]
    },
    {
     "name": "stdout",
     "output_type": "stream",
     "text": [
      "Deleted D:/gbif_downloads\\0096230-200613084148143.zip\n",
      "Saved DOI 10.1111/ecog.07085 to skip file\n",
      "Downloading https://api.gbif.org/v1/occurrence/download/request/0048844-230224095556074.zip\n"
     ]
    },
    {
     "name": "stderr",
     "output_type": "stream",
     "text": [
      "\r",
      "Downloading and processing GBIF data:   4%|▍         | 146/3572 [1:46:02<24:24:37, 25.65s/it]"
     ]
    },
    {
     "name": "stdout",
     "output_type": "stream",
     "text": [
      "Downloaded D:/gbif_downloads\\0048844-230224095556074.zip\n",
      "Unzipping D:/gbif_downloads\\0048844-230224095556074.zip\n",
      "Deleted D:/gbif_downloads\\0048844-230224095556074.zip\n",
      "Saved DOI 10.1007/s10344-024-01780-9 to skip file\n",
      "Downloading https://api.gbif.org/v1/occurrence/download/request/0207163-230224095556074.zip\n",
      "Downloaded D:/gbif_downloads\\0207163-230224095556074.zip\n",
      "Unzipping D:/gbif_downloads\\0207163-230224095556074.zip\n",
      "Processing D:/gbif_downloads\\occurrence.txt\n"
     ]
    },
    {
     "name": "stderr",
     "output_type": "stream",
     "text": [
      "\r",
      "Downloading and processing GBIF data:   4%|▍         | 147/3572 [1:49:12<71:20:46, 74.99s/it]"
     ]
    },
    {
     "name": "stdout",
     "output_type": "stream",
     "text": [
      "Failed to process file D:/gbif_downloads\\0207163-230224095556074.zip: field larger than field limit (1000000)\n",
      "Downloading https://api.gbif.org/v1/occurrence/download/request/0178928-230224095556074.zip\n",
      "Downloaded D:/gbif_downloads\\0178928-230224095556074.zip\n",
      "Unzipping D:/gbif_downloads\\0178928-230224095556074.zip\n"
     ]
    },
    {
     "name": "stderr",
     "output_type": "stream",
     "text": [
      "\r",
      "Downloading and processing GBIF data:   4%|▍         | 148/3572 [1:49:13<50:18:29, 52.89s/it]"
     ]
    },
    {
     "name": "stdout",
     "output_type": "stream",
     "text": [
      "Processing D:/gbif_downloads\\occurrence.txt\n",
      "Processed D:/gbif_downloads\\occurrence.txt\n",
      "Deleted extracted file D:/gbif_downloads\\occurrence.txt\n",
      "Deleted D:/gbif_downloads\\0178928-230224095556074.zip\n",
      "Saved DOI 10.1002/2688-8319.12310 to skip file\n",
      "Downloading https://api.gbif.org/v1/occurrence/download/request/0066534-231120084113126.zip\n"
     ]
    },
    {
     "name": "stderr",
     "output_type": "stream",
     "text": [
      "\r",
      "Downloading and processing GBIF data:   4%|▍         | 149/3572 [1:49:14<35:18:01, 37.13s/it]"
     ]
    },
    {
     "name": "stdout",
     "output_type": "stream",
     "text": [
      "Downloaded D:/gbif_downloads\\0066534-231120084113126.zip\n",
      "Unzipping D:/gbif_downloads\\0066534-231120084113126.zip\n",
      "Deleted D:/gbif_downloads\\0066534-231120084113126.zip\n",
      "Saved DOI 10.1002/ece3.11066 to skip file\n",
      "Downloading https://api.gbif.org/v1/occurrence/download/request/0004399-181003121212138.zip\n"
     ]
    },
    {
     "name": "stderr",
     "output_type": "stream",
     "text": [
      "\r",
      "Downloading and processing GBIF data:   4%|▍         | 150/3572 [1:49:14<24:53:23, 26.18s/it]"
     ]
    },
    {
     "name": "stdout",
     "output_type": "stream",
     "text": [
      "Downloaded D:/gbif_downloads\\0004399-181003121212138.zip\n",
      "Unzipping D:/gbif_downloads\\0004399-181003121212138.zip\n",
      "Deleted D:/gbif_downloads\\0004399-181003121212138.zip\n",
      "Saved DOI 10.1016/j.jaridenv.2024.105139 to skip file\n",
      "Downloading https://api.gbif.org/v1/occurrence/download/request/0293662-220831081235567.zip\n"
     ]
    },
    {
     "name": "stderr",
     "output_type": "stream",
     "text": [
      "\r",
      "Downloading and processing GBIF data:   4%|▍         | 151/3572 [1:49:15<17:32:37, 18.46s/it]"
     ]
    },
    {
     "name": "stdout",
     "output_type": "stream",
     "text": [
      "Downloaded D:/gbif_downloads\\0293662-220831081235567.zip\n",
      "Unzipping D:/gbif_downloads\\0293662-220831081235567.zip\n",
      "Processing D:/gbif_downloads\\occurrence.txt\n",
      "Processed D:/gbif_downloads\\occurrence.txt\n",
      "Deleted extracted file D:/gbif_downloads\\occurrence.txt\n",
      "Deleted D:/gbif_downloads\\0293662-220831081235567.zip\n",
      "Saved DOI 10.1016/j.ecss.2024.108699 to skip file\n",
      "Downloading https://api.gbif.org/v1/occurrence/download/request/0005330-230530130749713.zip\n"
     ]
    },
    {
     "name": "stderr",
     "output_type": "stream",
     "text": [
      "\r",
      "Downloading and processing GBIF data:   4%|▍         | 152/3572 [1:49:15<12:21:53, 13.02s/it]"
     ]
    },
    {
     "name": "stdout",
     "output_type": "stream",
     "text": [
      "Downloaded D:/gbif_downloads\\0005330-230530130749713.zip\n",
      "Unzipping D:/gbif_downloads\\0005330-230530130749713.zip\n",
      "Deleted D:/gbif_downloads\\0005330-230530130749713.zip\n",
      "Saved DOI 10.1093/jee/toae018 to skip file\n",
      "Downloading https://api.gbif.org/v1/occurrence/download/request/0108693-220831081235567.zip\n",
      "Downloaded D:/gbif_downloads\\0108693-220831081235567.zip\n",
      "Unzipping D:/gbif_downloads\\0108693-220831081235567.zip\n"
     ]
    },
    {
     "name": "stderr",
     "output_type": "stream",
     "text": [
      "\r",
      "Downloading and processing GBIF data:   4%|▍         | 153/3572 [1:49:27<11:59:21, 12.62s/it]"
     ]
    },
    {
     "name": "stdout",
     "output_type": "stream",
     "text": [
      "Deleted D:/gbif_downloads\\0108693-220831081235567.zip\n",
      "Saved DOI 10.1177/09596836241231446 to skip file\n",
      "Downloading https://api.gbif.org/v1/occurrence/download/request/0124361-220831081235567.zip\n",
      "Downloaded D:/gbif_downloads\\0124361-220831081235567.zip\n",
      "Unzipping D:/gbif_downloads\\0124361-220831081235567.zip\n"
     ]
    },
    {
     "name": "stderr",
     "output_type": "stream",
     "text": [
      "\r",
      "Downloading and processing GBIF data:   4%|▍         | 154/3572 [1:49:32<9:58:41, 10.51s/it] "
     ]
    },
    {
     "name": "stdout",
     "output_type": "stream",
     "text": [
      "Deleted D:/gbif_downloads\\0124361-220831081235567.zip\n",
      "Saved DOI 10.1038/s41477-024-01649-4 to skip file\n",
      "Downloading https://api.gbif.org/v1/occurrence/download/request/0162648-220831081235567.zip\n",
      "Downloaded D:/gbif_downloads\\0162648-220831081235567.zip\n",
      "Unzipping D:/gbif_downloads\\0162648-220831081235567.zip\n"
     ]
    },
    {
     "name": "stderr",
     "output_type": "stream",
     "text": [
      "\r",
      "Downloading and processing GBIF data:   4%|▍         | 155/3572 [1:50:08<17:02:27, 17.95s/it]"
     ]
    },
    {
     "name": "stdout",
     "output_type": "stream",
     "text": [
      "Deleted D:/gbif_downloads\\0162648-220831081235567.zip\n",
      "Saved DOI 10.1038/s41598-024-55173-8 to skip file\n",
      "Downloading https://api.gbif.org/v1/occurrence/download/request/0021252-220831081235567.zip\n",
      "Downloaded D:/gbif_downloads\\0021252-220831081235567.zip\n",
      "Unzipping D:/gbif_downloads\\0021252-220831081235567.zip\n"
     ]
    },
    {
     "name": "stderr",
     "output_type": "stream",
     "text": [
      "\r",
      "Downloading and processing GBIF data:   4%|▍         | 156/3572 [1:50:16<14:13:07, 14.98s/it]"
     ]
    },
    {
     "name": "stdout",
     "output_type": "stream",
     "text": [
      "Deleted D:/gbif_downloads\\0021252-220831081235567.zip\n",
      "Saved DOI 10.1111/ddi.13826 to skip file\n",
      "Downloading https://api.gbif.org/v1/occurrence/download/request/0163150-210914110416597.zip\n"
     ]
    },
    {
     "name": "stderr",
     "output_type": "stream",
     "text": [
      "\r",
      "Downloading and processing GBIF data:   4%|▍         | 157/3572 [1:50:16<10:08:23, 10.69s/it]"
     ]
    },
    {
     "name": "stdout",
     "output_type": "stream",
     "text": [
      "Downloaded D:/gbif_downloads\\0163150-210914110416597.zip\n",
      "Unzipping D:/gbif_downloads\\0163150-210914110416597.zip\n",
      "Deleted D:/gbif_downloads\\0163150-210914110416597.zip\n",
      "Saved DOI 10.1002/ece3.10901 to skip file\n",
      "Downloading https://api.gbif.org/v1/occurrence/download/request/0167320-220831081235567.zip\n",
      "Downloaded D:/gbif_downloads\\0167320-220831081235567.zip\n",
      "Unzipping D:/gbif_downloads\\0167320-220831081235567.zip\n",
      "Processing D:/gbif_downloads\\occurrence.txt\n"
     ]
    },
    {
     "name": "stderr",
     "output_type": "stream",
     "text": [
      "\r",
      "Downloading and processing GBIF data:   4%|▍         | 158/3572 [1:50:18<7:28:52,  7.89s/it] "
     ]
    },
    {
     "name": "stdout",
     "output_type": "stream",
     "text": [
      "Processed D:/gbif_downloads\\occurrence.txt\n",
      "Deleted extracted file D:/gbif_downloads\\occurrence.txt\n",
      "Deleted D:/gbif_downloads\\0167320-220831081235567.zip\n",
      "Saved DOI 10.1111/1365-2664.14616 to skip file\n",
      "Downloading https://api.gbif.org/v1/occurrence/download/request/0032643-220831081235567.zip\n"
     ]
    },
    {
     "name": "stderr",
     "output_type": "stream",
     "text": [
      "\r",
      "Downloading and processing GBIF data:   4%|▍         | 159/3572 [1:50:18<5:23:33,  5.69s/it]"
     ]
    },
    {
     "name": "stdout",
     "output_type": "stream",
     "text": [
      "Downloaded D:/gbif_downloads\\0032643-220831081235567.zip\n",
      "Unzipping D:/gbif_downloads\\0032643-220831081235567.zip\n",
      "Deleted D:/gbif_downloads\\0032643-220831081235567.zip\n",
      "Saved DOI 10.1111/jbi.14826 to skip file\n",
      "Downloading https://api.gbif.org/v1/occurrence/download/request/0243384-220831081235567.zip\n"
     ]
    },
    {
     "name": "stderr",
     "output_type": "stream",
     "text": [
      "\r",
      "Downloading and processing GBIF data:   4%|▍         | 160/3572 [1:50:19<3:59:00,  4.20s/it]"
     ]
    },
    {
     "name": "stdout",
     "output_type": "stream",
     "text": [
      "Downloaded D:/gbif_downloads\\0243384-220831081235567.zip\n",
      "Unzipping D:/gbif_downloads\\0243384-220831081235567.zip\n",
      "Processing D:/gbif_downloads\\occurrence.txt\n",
      "Processed D:/gbif_downloads\\occurrence.txt\n",
      "Deleted extracted file D:/gbif_downloads\\occurrence.txt\n",
      "Deleted D:/gbif_downloads\\0243384-220831081235567.zip\n",
      "Saved DOI 10.1111/icad.12730 to skip file\n",
      "Downloading https://api.gbif.org/v1/occurrence/download/request/0250795-230224095556074.zip\n",
      "Downloaded D:/gbif_downloads\\0250795-230224095556074.zip\n",
      "Unzipping D:/gbif_downloads\\0250795-230224095556074.zip\n"
     ]
    },
    {
     "name": "stderr",
     "output_type": "stream",
     "text": [
      "\r",
      "Downloading and processing GBIF data:   5%|▍         | 161/3572 [1:50:26<4:50:58,  5.12s/it]"
     ]
    },
    {
     "name": "stdout",
     "output_type": "stream",
     "text": [
      "Deleted D:/gbif_downloads\\0250795-230224095556074.zip\n",
      "Saved DOI 10.1007/s10530-024-03268-8 to skip file\n",
      "Downloading https://api.gbif.org/v1/occurrence/download/request/0265840-230224095556074.zip\n"
     ]
    },
    {
     "name": "stderr",
     "output_type": "stream",
     "text": [
      "\r",
      "Downloading and processing GBIF data:   5%|▍         | 162/3572 [1:50:27<3:29:18,  3.68s/it]"
     ]
    },
    {
     "name": "stdout",
     "output_type": "stream",
     "text": [
      "Downloaded D:/gbif_downloads\\0265840-230224095556074.zip\n",
      "Unzipping D:/gbif_downloads\\0265840-230224095556074.zip\n",
      "Deleted D:/gbif_downloads\\0265840-230224095556074.zip\n",
      "Saved DOI 10.1007/s10841-024-00564-5 to skip file\n",
      "Downloading https://api.gbif.org/v1/occurrence/download/request/0010288-231002084531237.zip\n"
     ]
    },
    {
     "name": "stderr",
     "output_type": "stream",
     "text": [
      "\r",
      "Downloading and processing GBIF data:   5%|▍         | 163/3572 [1:50:27<2:33:20,  2.70s/it]"
     ]
    },
    {
     "name": "stdout",
     "output_type": "stream",
     "text": [
      "Downloaded D:/gbif_downloads\\0010288-231002084531237.zip\n",
      "Unzipping D:/gbif_downloads\\0010288-231002084531237.zip\n",
      "Processing D:/gbif_downloads\\occurrence.txt\n",
      "Processed D:/gbif_downloads\\occurrence.txt\n",
      "Deleted extracted file D:/gbif_downloads\\occurrence.txt\n",
      "Deleted D:/gbif_downloads\\0010288-231002084531237.zip\n",
      "Saved DOI 10.7717/peerj.17029 to skip file\n",
      "Downloading https://api.gbif.org/v1/occurrence/download/request/0266172-230224095556074.zip\n",
      "Downloaded D:/gbif_downloads\\0266172-230224095556074.zip\n",
      "Unzipping D:/gbif_downloads\\0266172-230224095556074.zip\n"
     ]
    },
    {
     "name": "stderr",
     "output_type": "stream",
     "text": [
      "\r",
      "Downloading and processing GBIF data:   5%|▍         | 164/3572 [1:50:39<5:03:11,  5.34s/it]"
     ]
    },
    {
     "name": "stdout",
     "output_type": "stream",
     "text": [
      "Deleted D:/gbif_downloads\\0266172-230224095556074.zip\n",
      "Saved DOI 10.1111/mec.17304 to skip file\n",
      "Downloading https://api.gbif.org/v1/occurrence/download/request/0068525-200221144449610.zip\n",
      "Downloaded D:/gbif_downloads\\0068525-200221144449610.zip\n",
      "Unzipping D:/gbif_downloads\\0068525-200221144449610.zip\n"
     ]
    }
   ],
   "source": [
    "# Call the function with the filtered entries and specify the skip file\n",
    "skip_file = \"D:/gbif_skip_files/processed_dois.txt\"  # Change to D drive and use a subdirectory\n",
    "download_and_process_gbif_data(filtered_entries, skip_file)"
   ]
  },
  {
   "cell_type": "code",
   "execution_count": null,
   "id": "fc6d458a",
   "metadata": {},
   "outputs": [],
   "source": []
  }
 ],
 "metadata": {
  "kernelspec": {
   "display_name": "Python 3 (ipykernel)",
   "language": "python",
   "name": "python3"
  },
  "language_info": {
   "codemirror_mode": {
    "name": "ipython",
    "version": 3
   },
   "file_extension": ".py",
   "mimetype": "text/x-python",
   "name": "python",
   "nbconvert_exporter": "python",
   "pygments_lexer": "ipython3",
   "version": "3.11.4"
  }
 },
 "nbformat": 4,
 "nbformat_minor": 5
}
