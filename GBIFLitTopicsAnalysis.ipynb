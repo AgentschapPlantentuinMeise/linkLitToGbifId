{
 "cells": [
  {
   "cell_type": "code",
   "execution_count": null,
   "id": "9a8e79b1",
   "metadata": {},
   "outputs": [],
   "source": [
    "import requests\n",
    "import pandas as pd\n",
    "import networkx as nx\n",
    "import matplotlib.pyplot as plt\n",
    "from tqdm.notebook import tqdm\n",
    "\n",
    "# Function to query the GBIF Literature API\n",
    "def query_gbif_literature(doi):\n",
    "    url = f\"https://api.gbif.org/v1/literature/search?doi={doi}\"\n",
    "    response = requests.get(url)\n",
    "    if response.status_code == 200:\n",
    "        return response.json()\n",
    "    else:\n",
    "        print(f\"Error querying DOI {doi}: {response.status_code}\")\n",
    "        return None\n",
    "\n",
    "# Function to process the API response and extract topics\n",
    "def extract_topics(data):\n",
    "    topics = []\n",
    "    if data and 'results' in data and len(data['results']) > 0:\n",
    "        for result in data['results']:\n",
    "            if 'topics' in result and result['topics']:\n",
    "                topics.extend(result['topics'])\n",
    "            else:\n",
    "                print(f\"No topics found in result: {result}\")\n",
    "    else:\n",
    "        print(\"No results found or data is None\")\n",
    "    return topics\n",
    "\n",
    "# Path to the CSV file\n",
    "file_path = r'D:\\gbif_outputs\\allDOIs.csv'\n",
    "\n",
    "# Read the CSV file\n",
    "df = pd.read_csv(file_path)\n",
    "\n",
    "# Extract DOIs as a list\n",
    "dois = df['DOI'].tolist()\n"
   ]
  },
  {
   "cell_type": "code",
   "execution_count": null,
   "id": "2def8e79",
   "metadata": {},
   "outputs": [],
   "source": [
    "# Initialize a dictionary to hold topic counts and co-occurrences\n",
    "topic_counts = {}\n",
    "topic_cooccurrences = {}\n",
    "\n",
    "# Process each DOI with a progress bar\n",
    "for doi in tqdm(dois, desc=\"Processing DOIs\"):\n",
    "    data = query_gbif_literature(doi)\n",
    "    topics = extract_topics(data)\n",
    "    \n",
    "    if not topics:\n",
    "        print(f\"No topics extracted for DOI: {doi}\")\n",
    "        continue\n",
    "    \n",
    "    # Update topic counts\n",
    "    for topic in topics:\n",
    "        topic_upper = topic.upper()\n",
    "        if topic_upper in topic_counts:\n",
    "            topic_counts[topic_upper] += 1\n",
    "        else:\n",
    "            topic_counts[topic_upper] = 1\n",
    "    \n",
    "    # Handle single topic case\n",
    "    if len(topics) == 1:\n",
    "        continue\n",
    "    \n",
    "    # Update topic co-occurrences\n",
    "    for i in range(len(topics)):\n",
    "        for j in range(i + 1, len(topics)):\n",
    "            pair = tuple(sorted([topics[i].upper(), topics[j].upper()]))\n",
    "            if pair in topic_cooccurrences:\n",
    "                topic_cooccurrences[pair] += 1\n",
    "            else:\n",
    "                topic_cooccurrences[pair] = 1\n"
   ]
  },
  {
   "cell_type": "code",
   "execution_count": null,
   "id": "d9d3a814",
   "metadata": {},
   "outputs": [],
   "source": [
    "# Step 3: Create the Network Graph\n",
    "G = nx.Graph()\n",
    "\n",
    "# Add nodes with size based on topic counts and include count as an attribute\n",
    "for topic, count in topic_counts.items():\n",
    "    G.add_node(topic, size=count, count=count)\n",
    "\n",
    "# Add edges with weight based on co-occurrences\n",
    "for pair, weight in topic_cooccurrences.items():\n",
    "    G.add_edge(pair[0], pair[1], weight=weight)"
   ]
  },
  {
   "cell_type": "code",
   "execution_count": null,
   "id": "1192d17f",
   "metadata": {},
   "outputs": [],
   "source": [
    "# Export the network to GraphML\n",
    "nx.write_graphml(G, \"topic_network.graphml\")"
   ]
  },
  {
   "cell_type": "code",
   "execution_count": null,
   "id": "1259b318",
   "metadata": {
    "scrolled": true
   },
   "outputs": [],
   "source": [
    "# Step 5: Visualize the Network (Optional)\n",
    "plt.figure(figsize=(12, 12))\n",
    "pos = nx.spring_layout(G, k=0.1)\n",
    "sizes = [G.nodes[node]['size'] * 100 for node in G.nodes]  # Adjust multiplier as needed for better visualization\n",
    "nx.draw(G, pos, with_labels=True, node_size=sizes, font_size=10, node_color=\"skyblue\", edge_color=\"gray\")\n",
    "plt.title(\"Topic Network\")\n",
    "plt.show()"
   ]
  },
  {
   "cell_type": "code",
   "execution_count": null,
   "id": "d1f6ae3f",
   "metadata": {},
   "outputs": [],
   "source": []
  }
 ],
 "metadata": {
  "kernelspec": {
   "display_name": "Python 3 (ipykernel)",
   "language": "python",
   "name": "python3"
  },
  "language_info": {
   "codemirror_mode": {
    "name": "ipython",
    "version": 3
   },
   "file_extension": ".py",
   "mimetype": "text/x-python",
   "name": "python",
   "nbconvert_exporter": "python",
   "pygments_lexer": "ipython3",
   "version": "3.11.9"
  }
 },
 "nbformat": 4,
 "nbformat_minor": 5
}
